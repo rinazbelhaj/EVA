{
  "nbformat": 4,
  "nbformat_minor": 0,
  "metadata": {
    "colab": {
      "name": "Assignment 5.ipynb",
      "version": "0.3.2",
      "provenance": [],
      "collapsed_sections": [],
      "include_colab_link": true
    },
    "kernelspec": {
      "name": "python3",
      "display_name": "Python 3"
    },
    "accelerator": "GPU"
  },
  "cells": [
    {
      "cell_type": "markdown",
      "metadata": {
        "id": "view-in-github",
        "colab_type": "text"
      },
      "source": [
        "<a href=\"https://colab.research.google.com/github/rinazbelhaj/EVA/blob/master/Project%205/Assignment%205.ipynb\" target=\"_parent\"><img src=\"https://colab.research.google.com/assets/colab-badge.svg\" alt=\"Open In Colab\"/></a>"
      ]
    },
    {
      "cell_type": "markdown",
      "metadata": {
        "id": "10m6hjDt8IOO",
        "colab_type": "text"
      },
      "source": [
        "# Assignment 5\n",
        "\n",
        "## Main objective :\n",
        "Introduce following changes in the network and note down the effects\n",
        "1.   image normalization\n",
        "2.   L2 regularization\n",
        "3.   ReLU after BN\n",
        "\n",
        "\n",
        "\n"
      ]
    },
    {
      "cell_type": "markdown",
      "metadata": {
        "id": "aNyZv-Ec52ot",
        "colab_type": "text"
      },
      "source": [
        "# **Import Libraries and modules**"
      ]
    },
    {
      "cell_type": "code",
      "metadata": {
        "id": "3m3w1Cw49Zkt",
        "colab_type": "code",
        "outputId": "23882d20-aa37-4653-e35d-96cba0f27621",
        "colab": {
          "base_uri": "https://localhost:8080/",
          "height": 34
        }
      },
      "source": [
        "# https://keras.io/\n",
        "!pip install -q keras\n",
        "import keras"
      ],
      "execution_count": 0,
      "outputs": [
        {
          "output_type": "stream",
          "text": [
            "Using TensorFlow backend.\n"
          ],
          "name": "stderr"
        }
      ]
    },
    {
      "cell_type": "code",
      "metadata": {
        "id": "Eso6UHE080D4",
        "colab_type": "code",
        "colab": {}
      },
      "source": [
        "import numpy as np\n",
        "\n",
        "from keras.models import Sequential\n",
        "from keras.layers import Dense, Dropout, Activation, Flatten, Add\n",
        "from keras.layers import Conv2D, MaxPooling2D\n",
        "from keras.utils import np_utils\n",
        "\n",
        "from keras.datasets import mnist"
      ],
      "execution_count": 0,
      "outputs": []
    },
    {
      "cell_type": "markdown",
      "metadata": {
        "id": "zByEi95J86RD",
        "colab_type": "text"
      },
      "source": [
        "### Load pre-shuffled MNIST data into train and test sets"
      ]
    },
    {
      "cell_type": "code",
      "metadata": {
        "id": "7eRM0QWN83PV",
        "colab_type": "code",
        "outputId": "b8baa073-14ae-479c-ec4d-0b41e0ce0315",
        "colab": {
          "base_uri": "https://localhost:8080/",
          "height": 50
        }
      },
      "source": [
        "(X_train, y_train), (X_test, y_test) = mnist.load_data()"
      ],
      "execution_count": 0,
      "outputs": [
        {
          "output_type": "stream",
          "text": [
            "Downloading data from https://s3.amazonaws.com/img-datasets/mnist.npz\n",
            "11493376/11490434 [==============================] - 2s 0us/step\n"
          ],
          "name": "stdout"
        }
      ]
    },
    {
      "cell_type": "code",
      "metadata": {
        "id": "4a4Be72j8-ZC",
        "colab_type": "code",
        "outputId": "1349bd96-cf9b-4e10-d0bf-8765ad2d9e50",
        "colab": {
          "base_uri": "https://localhost:8080/",
          "height": 302
        }
      },
      "source": [
        "print (X_train.shape)\n",
        "from matplotlib import pyplot as plt\n",
        "%matplotlib inline\n",
        "plt.imshow(X_train[0])"
      ],
      "execution_count": 0,
      "outputs": [
        {
          "output_type": "stream",
          "text": [
            "(60000, 28, 28)\n"
          ],
          "name": "stdout"
        },
        {
          "output_type": "execute_result",
          "data": {
            "text/plain": [
              "<matplotlib.image.AxesImage at 0x7f3c4a5b3e10>"
            ]
          },
          "metadata": {
            "tags": []
          },
          "execution_count": 4
        },
        {
          "output_type": "display_data",
          "data": {
            "image/png": "[encoded data removed]",
            "text/plain": [
              "<Figure size 432x288 with 1 Axes>"
            ]
          },
          "metadata": {
            "tags": []
          }
        }
      ]
    },
    {
      "cell_type": "code",
      "metadata": {
        "id": "dkmprriw9AnZ",
        "colab_type": "code",
        "colab": {}
      },
      "source": [
        "X_train = X_train.reshape(X_train.shape[0], 28, 28,1)\n",
        "X_test = X_test.reshape(X_test.shape[0], 28, 28,1)"
      ],
      "execution_count": 0,
      "outputs": []
    },
    {
      "cell_type": "code",
      "metadata": {
        "id": "X2m4YS4E9CRh",
        "colab_type": "code",
        "colab": {}
      },
      "source": [
        "X_train = X_train.astype('float32')\n",
        "X_test = X_test.astype('float32')\n",
        "X_train /= 255\n",
        "X_test /= 255"
      ],
      "execution_count": 0,
      "outputs": []
    },
    {
      "cell_type": "code",
      "metadata": {
        "id": "0Mn0vAYD9DvB",
        "colab_type": "code",
        "outputId": "f9bfd85a-3fc0-48fa-8ec8-a050804a0048",
        "colab": {
          "base_uri": "https://localhost:8080/",
          "height": 34
        }
      },
      "source": [
        "y_train[:10]"
      ],
      "execution_count": 0,
      "outputs": [
        {
          "output_type": "execute_result",
          "data": {
            "text/plain": [
              "array([5, 0, 4, 1, 9, 2, 1, 3, 1, 4], dtype=uint8)"
            ]
          },
          "metadata": {
            "tags": []
          },
          "execution_count": 7
        }
      ]
    },
    {
      "cell_type": "code",
      "metadata": {
        "id": "ZG8JiXR39FHC",
        "colab_type": "code",
        "colab": {}
      },
      "source": [
        "# Convert 1-dimensional class arrays to 10-dimensional class matrices\n",
        "Y_train = np_utils.to_categorical(y_train, 10)\n",
        "Y_test = np_utils.to_categorical(y_test, 10)"
      ],
      "execution_count": 0,
      "outputs": []
    },
    {
      "cell_type": "code",
      "metadata": {
        "id": "fYlFRvKS9HMB",
        "colab_type": "code",
        "outputId": "dafca727-a3a3-4874-f572-da87457a9a96",
        "colab": {
          "base_uri": "https://localhost:8080/",
          "height": 185
        }
      },
      "source": [
        "Y_train[:10]\n"
      ],
      "execution_count": 0,
      "outputs": [
        {
          "output_type": "execute_result",
          "data": {
            "text/plain": [
              "array([[0., 0., 0., 0., 0., 1., 0., 0., 0., 0.],\n",
              "       [1., 0., 0., 0., 0., 0., 0., 0., 0., 0.],\n",
              "       [0., 0., 0., 0., 1., 0., 0., 0., 0., 0.],\n",
              "       [0., 1., 0., 0., 0., 0., 0., 0., 0., 0.],\n",
              "       [0., 0., 0., 0., 0., 0., 0., 0., 0., 1.],\n",
              "       [0., 0., 1., 0., 0., 0., 0., 0., 0., 0.],\n",
              "       [0., 1., 0., 0., 0., 0., 0., 0., 0., 0.],\n",
              "       [0., 0., 0., 1., 0., 0., 0., 0., 0., 0.],\n",
              "       [0., 1., 0., 0., 0., 0., 0., 0., 0., 0.],\n",
              "       [0., 0., 0., 0., 1., 0., 0., 0., 0., 0.]], dtype=float32)"
            ]
          },
          "metadata": {
            "tags": []
          },
          "execution_count": 9
        }
      ]
    },
    {
      "cell_type": "code",
      "metadata": {
        "id": "uKOwD4oo9mq1",
        "colab_type": "code",
        "outputId": "13fb0047-e063-4e05-9172-89b757e1085c",
        "colab": {
          "base_uri": "https://localhost:8080/",
          "height": 1176
        }
      },
      "source": [
        "from keras.layers import Activation,BatchNormalization\n",
        "from keras import regularizers\n",
        "\n",
        "model = Sequential()\n",
        "\n",
        " \n",
        "model.add(Conv2D(10, (3, 3), activation=None,kernel_regularizer=regularizers.l2(0.01),input_shape=(28,28,1), name='conv_1')) # 26\n",
        "model.add(BatchNormalization(name='bn_1'))\n",
        "model.add(Activation('relu',name='activ_1'))\n",
        "model.add(Conv2D(10, (3, 3), activation=None,kernel_regularizer=regularizers.l2(0.01), name='conv_2')) # 24\n",
        "model.add(BatchNormalization(name='bn_2'))\n",
        "model.add(Activation('relu',name='activ_2'))\n",
        "model.add(Conv2D(10, (3, 3), activation=None,kernel_regularizer=regularizers.l2(0.01), name='conv_3')) # 22\n",
        "model.add(BatchNormalization(name='bn_3'))\n",
        "model.add(Activation('relu',name='activ_3'))\n",
        "model.add(Dropout(0.10,name='dropout_1'))\n",
        "\n",
        "model.add(MaxPooling2D(pool_size=(2, 2), name='pool_1')) # 11\n",
        "\n",
        "model.add(Conv2D(10, (3, 3), activation=None,kernel_regularizer=regularizers.l2(0.01), name='conv_4')) # 9\n",
        "model.add(BatchNormalization(name='bn_4'))\n",
        "model.add(Activation('relu',name='activ_4'))\n",
        "model.add(Conv2D(10, (3, 3), activation=None,kernel_regularizer=regularizers.l2(0.01), name='conv_5')) # 7\n",
        "model.add(BatchNormalization(name='bn_5'))\n",
        "model.add(Activation('relu',name='activ_5'))\n",
        "model.add(Dropout(0.10,name='dropout_2'))\n",
        "model.add(Conv2D(32, (3, 3), activation=None,kernel_regularizer=regularizers.l2(0.01), name='conv_6')) # 5\n",
        "model.add(BatchNormalization(name='bn_6'))\n",
        "model.add(Activation('relu',name='activ_6'))\n",
        "model.add(Dropout(0.10,name='dropout_3'))\n",
        "\n",
        "model.add(Conv2D(10, (1, 1), activation=None,kernel_regularizer=regularizers.l2(0.01), name='conv_6a')) # 5\n",
        "model.add(BatchNormalization(name='bn_7'))\n",
        "model.add(Activation('relu',name='activ_7'))\n",
        "model.add(Conv2D(10, (3, 3), activation=None,kernel_regularizer=regularizers.l2(0.01), name='conv_7')) #3\n",
        "model.add(BatchNormalization(name='bn_8'))\n",
        "model.add(Activation('relu',name='activ_8'))\n",
        "model.add(Conv2D(10, (3, 3),kernel_regularizer=regularizers.l2(0.00), name='conv_8')) # 1\n",
        "model.add(Flatten(name='flatten'))\n",
        "model.add(Activation('softmax', name='softmax'))\n",
        "\n",
        "model.summary()"
      ],
      "execution_count": 0,
      "outputs": [
        {
          "output_type": "stream",
          "text": [
            "_________________________________________________________________\n",
            "Layer (type)                 Output Shape              Param #   \n",
            "=================================================================\n",
            "conv_1 (Conv2D)              (None, 26, 26, 10)        100       \n",
            "_________________________________________________________________\n",
            "bn_1 (BatchNormalization)    (None, 26, 26, 10)        40        \n",
            "_________________________________________________________________\n",
            "activ_1 (Activation)         (None, 26, 26, 10)        0         \n",
            "_________________________________________________________________\n",
            "conv_2 (Conv2D)              (None, 24, 24, 10)        910       \n",
            "_________________________________________________________________\n",
            "bn_2 (BatchNormalization)    (None, 24, 24, 10)        40        \n",
            "_________________________________________________________________\n",
            "activ_2 (Activation)         (None, 24, 24, 10)        0         \n",
            "_________________________________________________________________\n",
            "conv_3 (Conv2D)              (None, 22, 22, 10)        910       \n",
            "_________________________________________________________________\n",
            "bn_3 (BatchNormalization)    (None, 22, 22, 10)        40        \n",
            "_________________________________________________________________\n",
            "activ_3 (Activation)         (None, 22, 22, 10)        0         \n",
            "_________________________________________________________________\n",
            "dropout_1 (Dropout)          (None, 22, 22, 10)        0         \n",
            "_________________________________________________________________\n",
            "pool_1 (MaxPooling2D)        (None, 11, 11, 10)        0         \n",
            "_________________________________________________________________\n",
            "conv_4 (Conv2D)              (None, 9, 9, 10)          910       \n",
            "_________________________________________________________________\n",
            "bn_4 (BatchNormalization)    (None, 9, 9, 10)          40        \n",
            "_________________________________________________________________\n",
            "activ_4 (Activation)         (None, 9, 9, 10)          0         \n",
            "_________________________________________________________________\n",
            "conv_5 (Conv2D)              (None, 7, 7, 10)          910       \n",
            "_________________________________________________________________\n",
            "bn_5 (BatchNormalization)    (None, 7, 7, 10)          40        \n",
            "_________________________________________________________________\n",
            "activ_5 (Activation)         (None, 7, 7, 10)          0         \n",
            "_________________________________________________________________\n",
            "dropout_2 (Dropout)          (None, 7, 7, 10)          0         \n",
            "_________________________________________________________________\n",
            "conv_6 (Conv2D)              (None, 5, 5, 32)          2912      \n",
            "_________________________________________________________________\n",
            "bn_6 (BatchNormalization)    (None, 5, 5, 32)          128       \n",
            "_________________________________________________________________\n",
            "activ_6 (Activation)         (None, 5, 5, 32)          0         \n",
            "_________________________________________________________________\n",
            "dropout_3 (Dropout)          (None, 5, 5, 32)          0         \n",
            "_________________________________________________________________\n",
            "conv_6a (Conv2D)             (None, 5, 5, 10)          330       \n",
            "_________________________________________________________________\n",
            "bn_7 (BatchNormalization)    (None, 5, 5, 10)          40        \n",
            "_________________________________________________________________\n",
            "activ_7 (Activation)         (None, 5, 5, 10)          0         \n",
            "_________________________________________________________________\n",
            "conv_7 (Conv2D)              (None, 3, 3, 10)          910       \n",
            "_________________________________________________________________\n",
            "bn_8 (BatchNormalization)    (None, 3, 3, 10)          40        \n",
            "_________________________________________________________________\n",
            "activ_8 (Activation)         (None, 3, 3, 10)          0         \n",
            "_________________________________________________________________\n",
            "conv_8 (Conv2D)              (None, 1, 1, 10)          910       \n",
            "_________________________________________________________________\n",
            "flatten (Flatten)            (None, 10)                0         \n",
            "_________________________________________________________________\n",
            "softmax (Activation)         (None, 10)                0         \n",
            "=================================================================\n",
            "Total params: 9,210\n",
            "Trainable params: 9,006\n",
            "Non-trainable params: 204\n",
            "_________________________________________________________________\n"
          ],
          "name": "stdout"
        }
      ]
    },
    {
      "cell_type": "code",
      "metadata": {
        "id": "js67VYrrYl2x",
        "colab_type": "code",
        "colab": {}
      },
      "source": [
        "from keras.optimizers import Adam\n",
        "\n",
        "adam = Adam(lr=0.04, beta_1=0.9, beta_2=0.999, epsilon=None, decay=0.01, amsgrad=False)\n",
        "\n",
        "model.compile(loss='categorical_crossentropy',\n",
        "             optimizer=adam,\n",
        "             metrics=['accuracy'])"
      ],
      "execution_count": 0,
      "outputs": []
    },
    {
      "cell_type": "code",
      "metadata": {
        "id": "MOEPpxczbQ9n",
        "colab_type": "code",
        "outputId": "65089ffa-6698-424e-cf14-32c8325c9700",
        "colab": {
          "base_uri": "https://localhost:8080/",
          "height": 1378
        }
      },
      "source": [
        "from keras.callbacks import ModelCheckpoint\n",
        "from keras.preprocessing.image import ImageDataGenerator\n",
        "from math import ceil\n",
        "\n",
        "checkpointer = ModelCheckpoint(filepath=\"best_weights.hdf5\", monitor = 'val_acc', verbose=0, save_best_only=True)\n",
        "\n",
        "train_gen = ImageDataGenerator(featurewise_center=True,\n",
        "                               featurewise_std_normalization=True,\n",
        "                              )\n",
        "\n",
        "test_gen = ImageDataGenerator(featurewise_center=True,\n",
        "                              featurewise_std_normalization=True,\n",
        "                              )\n",
        "\n",
        "\n",
        "batch = 128\n",
        "epochs = 40\n",
        "\n",
        "# compute quantities required for featurewise normalization\n",
        "# (std, mean, and principal components if ZCA whitening is applied)\n",
        "train_gen.fit(X_train)\n",
        "test_gen.fit(X_test)\n",
        "\n",
        "\n",
        "model.fit_generator(train_gen.flow(X_train, Y_train, batch_size=batch),steps_per_epoch=ceil(len(X_train) / batch), epochs=epochs, \n",
        "                    validation_data=test_gen.flow(X_test, Y_test, batch_size=batch), validation_steps=ceil(len(X_test) / batch), callbacks=[checkpointer], verbose=1)"
      ],
      "execution_count": 0,
      "outputs": [
        {
          "output_type": "stream",
          "text": [
            "Epoch 1/40\n",
            "469/469 [==============================] - 11s 23ms/step - loss: 0.5459 - acc: 0.9145 - val_loss: 0.4216 - val_acc: 0.9161\n",
            "Epoch 2/40\n",
            "469/469 [==============================] - 8s 16ms/step - loss: 0.2172 - acc: 0.9633 - val_loss: 0.2769 - val_acc: 0.9397\n",
            "Epoch 3/40\n",
            "469/469 [==============================] - 8s 16ms/step - loss: 0.1639 - acc: 0.9699 - val_loss: 0.5800 - val_acc: 0.8434\n",
            "Epoch 4/40\n",
            "469/469 [==============================] - 8s 16ms/step - loss: 0.1353 - acc: 0.9745 - val_loss: 0.1186 - val_acc: 0.9783\n",
            "Epoch 5/40\n",
            "469/469 [==============================] - 8s 16ms/step - loss: 0.1199 - acc: 0.9765 - val_loss: 0.1547 - val_acc: 0.9651\n",
            "Epoch 6/40\n",
            "469/469 [==============================] - 8s 16ms/step - loss: 0.1089 - acc: 0.9791 - val_loss: 0.1050 - val_acc: 0.9800\n",
            "Epoch 7/40\n",
            "469/469 [==============================] - 8s 16ms/step - loss: 0.0994 - acc: 0.9805 - val_loss: 0.0858 - val_acc: 0.9837\n",
            "Epoch 8/40\n",
            "469/469 [==============================] - 8s 16ms/step - loss: 0.0931 - acc: 0.9816 - val_loss: 0.1069 - val_acc: 0.9781\n",
            "Epoch 9/40\n",
            "469/469 [==============================] - 8s 16ms/step - loss: 0.0845 - acc: 0.9835 - val_loss: 0.0832 - val_acc: 0.9824\n",
            "Epoch 10/40\n",
            "469/469 [==============================] - 8s 16ms/step - loss: 0.0839 - acc: 0.9830 - val_loss: 0.0817 - val_acc: 0.9828\n",
            "Epoch 11/40\n",
            "469/469 [==============================] - 8s 17ms/step - loss: 0.0773 - acc: 0.9844 - val_loss: 0.0739 - val_acc: 0.9842\n",
            "Epoch 12/40\n",
            "469/469 [==============================] - 8s 17ms/step - loss: 0.0742 - acc: 0.9844 - val_loss: 0.0748 - val_acc: 0.9845\n",
            "Epoch 13/40\n",
            "469/469 [==============================] - 8s 16ms/step - loss: 0.0697 - acc: 0.9862 - val_loss: 0.0603 - val_acc: 0.9885\n",
            "Epoch 14/40\n",
            "469/469 [==============================] - 8s 16ms/step - loss: 0.0676 - acc: 0.9859 - val_loss: 0.0610 - val_acc: 0.9881\n",
            "Epoch 15/40\n",
            "469/469 [==============================] - 8s 16ms/step - loss: 0.0660 - acc: 0.9859 - val_loss: 0.0544 - val_acc: 0.9890\n",
            "Epoch 16/40\n",
            "469/469 [==============================] - 8s 16ms/step - loss: 0.0628 - acc: 0.9867 - val_loss: 0.0718 - val_acc: 0.9835\n",
            "Epoch 17/40\n",
            "469/469 [==============================] - 8s 16ms/step - loss: 0.0605 - acc: 0.9878 - val_loss: 0.0565 - val_acc: 0.9875\n",
            "Epoch 18/40\n",
            "469/469 [==============================] - 8s 16ms/step - loss: 0.0586 - acc: 0.9879 - val_loss: 0.0567 - val_acc: 0.9886\n",
            "Epoch 19/40\n",
            "469/469 [==============================] - 8s 16ms/step - loss: 0.0573 - acc: 0.9878 - val_loss: 0.0618 - val_acc: 0.9865\n",
            "Epoch 20/40\n",
            "469/469 [==============================] - 8s 16ms/step - loss: 0.0556 - acc: 0.9882 - val_loss: 0.0648 - val_acc: 0.9855\n",
            "Epoch 21/40\n",
            "469/469 [==============================] - 8s 16ms/step - loss: 0.0534 - acc: 0.9888 - val_loss: 0.0504 - val_acc: 0.9894\n",
            "Epoch 22/40\n",
            "469/469 [==============================] - 8s 16ms/step - loss: 0.0516 - acc: 0.9896 - val_loss: 0.0537 - val_acc: 0.9888\n",
            "Epoch 23/40\n",
            "469/469 [==============================] - 8s 16ms/step - loss: 0.0506 - acc: 0.9892 - val_loss: 0.0537 - val_acc: 0.9882\n",
            "Epoch 24/40\n",
            "469/469 [==============================] - 8s 16ms/step - loss: 0.0493 - acc: 0.9894 - val_loss: 0.0468 - val_acc: 0.9902\n",
            "Epoch 25/40\n",
            "469/469 [==============================] - 7s 16ms/step - loss: 0.0491 - acc: 0.9893 - val_loss: 0.0475 - val_acc: 0.9901\n",
            "Epoch 26/40\n",
            "469/469 [==============================] - 8s 16ms/step - loss: 0.0481 - acc: 0.9903 - val_loss: 0.0498 - val_acc: 0.9894\n",
            "Epoch 27/40\n",
            "469/469 [==============================] - 8s 16ms/step - loss: 0.0461 - acc: 0.9904 - val_loss: 0.0436 - val_acc: 0.9908\n",
            "Epoch 28/40\n",
            "469/469 [==============================] - 8s 16ms/step - loss: 0.0466 - acc: 0.9904 - val_loss: 0.0523 - val_acc: 0.9877\n",
            "Epoch 29/40\n",
            "469/469 [==============================] - 8s 16ms/step - loss: 0.0453 - acc: 0.9902 - val_loss: 0.0489 - val_acc: 0.9900\n",
            "Epoch 30/40\n",
            "469/469 [==============================] - 8s 16ms/step - loss: 0.0433 - acc: 0.9912 - val_loss: 0.0442 - val_acc: 0.9903\n",
            "Epoch 31/40\n",
            "469/469 [==============================] - 8s 16ms/step - loss: 0.0427 - acc: 0.9908 - val_loss: 0.0502 - val_acc: 0.9895\n",
            "Epoch 32/40\n",
            "469/469 [==============================] - 8s 16ms/step - loss: 0.0437 - acc: 0.9906 - val_loss: 0.0533 - val_acc: 0.9872\n",
            "Epoch 33/40\n",
            "469/469 [==============================] - 8s 16ms/step - loss: 0.0430 - acc: 0.9905 - val_loss: 0.0518 - val_acc: 0.9888\n",
            "Epoch 34/40\n",
            "469/469 [==============================] - 8s 16ms/step - loss: 0.0426 - acc: 0.9903 - val_loss: 0.0459 - val_acc: 0.9896\n",
            "Epoch 35/40\n",
            "469/469 [==============================] - 8s 16ms/step - loss: 0.0423 - acc: 0.9908 - val_loss: 0.0424 - val_acc: 0.9902\n",
            "Epoch 36/40\n",
            "469/469 [==============================] - 8s 16ms/step - loss: 0.0413 - acc: 0.9912 - val_loss: 0.0426 - val_acc: 0.9905\n",
            "Epoch 37/40\n",
            "469/469 [==============================] - 7s 16ms/step - loss: 0.0394 - acc: 0.9914 - val_loss: 0.0419 - val_acc: 0.9908\n",
            "Epoch 38/40\n",
            "469/469 [==============================] - 8s 16ms/step - loss: 0.0395 - acc: 0.9914 - val_loss: 0.0442 - val_acc: 0.9905\n",
            "Epoch 39/40\n",
            "469/469 [==============================] - 8s 16ms/step - loss: 0.0398 - acc: 0.9908 - val_loss: 0.0418 - val_acc: 0.9908\n",
            "Epoch 40/40\n",
            "469/469 [==============================] - 7s 16ms/step - loss: 0.0385 - acc: 0.9912 - val_loss: 0.0409 - val_acc: 0.9908\n"
          ],
          "name": "stdout"
        },
        {
          "output_type": "execute_result",
          "data": {
            "text/plain": [
              "<keras.callbacks.History at 0x7f3c179099e8>"
            ]
          },
          "metadata": {
            "tags": []
          },
          "execution_count": 38
        }
      ]
    },
    {
      "cell_type": "code",
      "metadata": {
        "id": "psjpkSTOZ1gT",
        "colab_type": "code",
        "colab": {}
      },
      "source": [
        "\n",
        "model.load_weights('best_weights.hdf5')\n",
        "score = model.evaluate_generator(test_gen.flow(X_test, Y_test, batch_size=batch), steps=ceil(len(X_test) / batch), verbose=0)"
      ],
      "execution_count": 0,
      "outputs": []
    },
    {
      "cell_type": "code",
      "metadata": {
        "id": "gCOIS4m8bK1a",
        "colab_type": "code",
        "outputId": "c7d0b7c4-0c6d-4647-f123-cd7a360a6aef",
        "colab": {
          "base_uri": "https://localhost:8080/",
          "height": 34
        }
      },
      "source": [
        "print(score)"
      ],
      "execution_count": 0,
      "outputs": [
        {
          "output_type": "stream",
          "text": [
            "[0.043617197094857695, 0.9908]\n"
          ],
          "name": "stdout"
        }
      ]
    },
    {
      "cell_type": "code",
      "metadata": {
        "id": "OCWoJkwE9suh",
        "colab_type": "code",
        "outputId": "a468ac20-2ccb-49db-c06a-579c91128741",
        "colab": {
          "base_uri": "https://localhost:8080/",
          "height": 34
        }
      },
      "source": [
        "y_pred = model.predict_generator(test_gen.flow(X_test, Y_test, batch_size=batch, shuffle=False), steps=ceil(len(X_test) / batch), verbose=1)"
      ],
      "execution_count": 0,
      "outputs": [
        {
          "output_type": "stream",
          "text": [
            "79/79 [==============================] - 0s 4ms/step\n"
          ],
          "name": "stdout"
        }
      ]
    },
    {
      "cell_type": "code",
      "metadata": {
        "id": "Ym7iCFBm9uBs",
        "colab_type": "code",
        "outputId": "fb878372-1b11-46c0-ea43-aeb536ddbfed",
        "colab": {
          "base_uri": "https://localhost:8080/",
          "height": 336
        }
      },
      "source": [
        "print(y_pred[:9])\n",
        "print(y_test[:9])"
      ],
      "execution_count": 0,
      "outputs": [
        {
          "output_type": "stream",
          "text": [
            "[[3.9390553e-09 6.4863237e-08 6.7102947e-06 2.3729810e-07 9.5087705e-12\n",
            "  2.9376251e-10 2.1213835e-14 9.9999285e-01 1.1286524e-10 1.6296821e-07]\n",
            " [2.2490605e-04 4.5824051e-04 9.9929845e-01 7.9178278e-07 7.6720784e-07\n",
            "  1.4476003e-08 8.9109217e-06 2.3854632e-06 5.4980542e-06 5.1781507e-10]\n",
            " [9.4822759e-08 9.9995482e-01 2.0636637e-06 1.9385382e-08 3.1881093e-06\n",
            "  2.4073331e-06 1.3159395e-06 2.8266197e-05 7.9056426e-06 7.4703816e-09]\n",
            " [9.9992299e-01 9.6217448e-08 4.5754418e-06 8.2324378e-09 6.8145971e-07\n",
            "  7.9409159e-07 1.2844548e-05 2.2506331e-08 7.8656052e-07 5.7227760e-05]\n",
            " [2.6314451e-09 5.1502752e-08 1.3593711e-09 9.9064741e-12 9.9994361e-01\n",
            "  1.5717205e-10 3.5953615e-08 2.1912844e-07 2.6936453e-07 5.5842753e-05]\n",
            " [3.2394173e-08 9.9952483e-01 2.0178729e-06 3.4784493e-09 6.1865799e-06\n",
            "  1.0151569e-07 7.1533179e-08 4.6625509e-04 4.1458884e-07 1.3623843e-07]\n",
            " [9.4083052e-10 8.5819011e-05 9.2988998e-08 6.7716066e-08 9.9852091e-01\n",
            "  3.3895319e-07 1.0061468e-08 1.1833168e-04 2.9638963e-04 9.7808777e-04]\n",
            " [4.5818696e-09 1.3288344e-10 2.8471636e-08 3.3270990e-07 6.9496832e-03\n",
            "  7.8604906e-08 2.5098408e-11 5.9347403e-06 3.8578837e-05 9.9300534e-01]\n",
            " [2.6566901e-03 6.0543080e-05 1.2319778e-04 3.5187691e-07 1.1285205e-08\n",
            "  8.6060566e-01 1.3197236e-01 3.2404223e-08 4.4591329e-03 1.2197913e-04]]\n",
            "[7 2 1 0 4 1 4 9 5]\n"
          ],
          "name": "stdout"
        }
      ]
    },
    {
      "cell_type": "code",
      "metadata": {
        "id": "CT--y98_dr2T",
        "colab_type": "code",
        "colab": {}
      },
      "source": [
        "layer_dict = dict([(layer.name, layer) for layer in model.layers])"
      ],
      "execution_count": 0,
      "outputs": []
    },
    {
      "cell_type": "code",
      "metadata": {
        "id": "2GY4Upv4dsUR",
        "colab_type": "code",
        "outputId": "5a22a3fc-3bbe-410d-b5cf-a2dea35ad107",
        "colab": {
          "base_uri": "https://localhost:8080/",
          "height": 582
        }
      },
      "source": [
        "import numpy as np\n",
        "from matplotlib import pyplot as plt\n",
        "from keras import backend as K\n",
        "%matplotlib inline\n",
        "# util function to convert a tensor into a valid image\n",
        "def deprocess_image(x):\n",
        "    # normalize tensor: center on 0., ensure std is 0.1\n",
        "    x -= x.mean()\n",
        "    x /= (x.std() + 1e-5)\n",
        "    x *= 0.1\n",
        "\n",
        "    # clip to [0, 1]\n",
        "    x += 0.5\n",
        "    x = np.clip(x, 0, 1)\n",
        "\n",
        "    # convert to RGB array\n",
        "    x *= 255\n",
        "    #x = x.transpose((1, 2, 0))\n",
        "    x = np.clip(x, 0, 255).astype('uint8')\n",
        "    return x\n",
        "\n",
        "def vis_img_in_filter(img = np.array(X_train[2]).reshape((1, 28, 28, 1)).astype(np.float64), \n",
        "                      layer_name = 'conv_5'):\n",
        "    layer_output = layer_dict[layer_name].output\n",
        "    img_ascs = list()\n",
        "    for filter_index in range(layer_output.shape[3]):\n",
        "        # build a loss function that maximizes the activation\n",
        "        # of the nth filter of the layer considered\n",
        "        loss = K.mean(layer_output[:, :, :, filter_index])\n",
        "\n",
        "        # compute the gradient of the input picture wrt this loss\n",
        "        grads = K.gradients(loss, model.input)[0]\n",
        "\n",
        "        # normalization trick: we normalize the gradient\n",
        "        grads /= (K.sqrt(K.mean(K.square(grads))) + 1e-5)\n",
        "\n",
        "        # this function returns the loss and grads given the input picture\n",
        "        iterate = K.function([model.input], [loss, grads])\n",
        "\n",
        "        # step size for gradient ascent\n",
        "        step = 5.\n",
        "\n",
        "        img_asc = np.array(img)\n",
        "        # run gradient ascent for 20 steps\n",
        "        for i in range(20):\n",
        "            loss_value, grads_value = iterate([img_asc])\n",
        "            img_asc += grads_value * step\n",
        "\n",
        "        img_asc = img_asc[0]\n",
        "        img_ascs.append(deprocess_image(img_asc).reshape((28, 28)))\n",
        "        \n",
        "    print(\"Number of Filters : \",layer_output.shape[3])\n",
        "    if layer_output.shape[3] >= 35:\n",
        "        plot_x, plot_y = 6, 6\n",
        "    elif layer_output.shape[3] >= 23:\n",
        "        plot_x, plot_y = 4, 8\n",
        "    elif layer_output.shape[3] >= 11:\n",
        "        plot_x, plot_y = 2, 6\n",
        "    elif layer_output.shape[3] >= 5:\n",
        "        plot_x, plot_y = 2, 5\n",
        "    else:\n",
        "        plot_x, plot_y = 1, 2\n",
        "    fig, ax = plt.subplots(plot_x, plot_y, figsize = (16, 8))\n",
        "    ax[0, 0].imshow(img.reshape((28, 28)), cmap = 'gray')\n",
        "    ax[0, 0].set_title('Input image')\n",
        "    fig.suptitle('Input image and %s filters' % (layer_name,))\n",
        "    fig.tight_layout(pad = 0.0, rect = [0, 0, 0.9, 0.9])\n",
        "    for (x, y) in [(i, j) for i in range(plot_x) for j in range(plot_y)]:\n",
        "        if x == 0 and y == 0:\n",
        "            continue\n",
        "        ax[x, y].imshow(img_ascs[x * plot_y + y - 1], cmap = 'gray')\n",
        "        ax[x, y].set_title('filter %d' % (x * plot_y + y - 1))\n",
        "\n",
        "vis_img_in_filter()"
      ],
      "execution_count": 0,
      "outputs": [
        {
          "output_type": "stream",
          "text": [
            "Number of Filters :  10\n"
          ],
          "name": "stdout"
        },
        {
          "output_type": "display_data",
          "data": {
            "image/png": "[encoded data removed]",
            "text/plain": [
              "<Figure size 1152x576 with 10 Axes>"
            ]
          },
          "metadata": {
            "tags": []
          }
        }
      ]
    },
    {
      "cell_type": "markdown",
      "metadata": {
        "id": "eJq2Pqxm7sTl",
        "colab_type": "text"
      },
      "source": [
        "# Gallery of wrong predictions"
      ]
    },
    {
      "cell_type": "code",
      "metadata": {
        "id": "QeU9YQVv3DO_",
        "colab_type": "code",
        "colab": {}
      },
      "source": [
        "import numpy as np\n",
        "import matplotlib.pyplot as plt\n",
        "\n",
        "def plot_images(image,label,pred):\n",
        "  w = 15\n",
        "  h = 15\n",
        "  fig = plt.figure(figsize=(20, 20))\n",
        "  columns = 5\n",
        "  rows = 5\n",
        "\n",
        "  # ax enables access to manipulate each of subplots\n",
        "  ax = []\n",
        "  \n",
        "  i = 0\n",
        "  j = 0\n",
        "  \n",
        "  while(i<len(X_test) and j<15):\n",
        "    if(label[i]!=pred[i]):\n",
        "      img = image[i]\n",
        "      # create subplot and append to ax\n",
        "      ax.append( fig.add_subplot(rows, columns, j+1) )\n",
        "      ax[-1].set_title(\"Actual : \"+str(label[i])+\" - Prediction : \"+str(pred[i]))  # set title\n",
        "      plt.imshow(img)\n",
        "      j = j+1\n",
        "      i = i+1\n",
        "    else:\n",
        "      i = i+1\n",
        "\n",
        "  plt.show()  # finally, render the plot"
      ],
      "execution_count": 0,
      "outputs": []
    },
    {
      "cell_type": "code",
      "metadata": {
        "id": "wlfXa-5E70J8",
        "colab_type": "code",
        "outputId": "d11f12fb-ed25-4532-e26f-f70a4fd5af87",
        "colab": {
          "base_uri": "https://localhost:8080/",
          "height": 701
        }
      },
      "source": [
        "plot_images(X_test.squeeze(),y_test,(np.argmax(y_pred,1)))"
      ],
      "execution_count": 0,
      "outputs": [
        {
          "output_type": "display_data",
          "data": {
            "image/png": "[encoded data removed]",
            "text/plain": [
              "<Figure size 1440x1440 with 15 Axes>"
            ]
          },
          "metadata": {
            "tags": []
          }
        }
      ]
    },
    {
      "cell_type": "markdown",
      "metadata": {
        "id": "hT1UmRT2JcWd",
        "colab_type": "text"
      },
      "source": [
        "# Observations :\n",
        "\n",
        "1. We were able to reach a validation accuracy of 99.08% in 40 epochs.\n",
        "2. Training/validation accuracy was less volatile, also gap was less due to regularization.\n",
        "3. The misclassified images were plotted to create a gallery."
      ]
    },
    {
      "cell_type": "code",
      "metadata": {
        "id": "9tvptcn8dxvp",
        "colab_type": "code",
        "colab": {}
      },
      "source": [
        ""
      ],
      "execution_count": 0,
      "outputs": []
    }
  ]
}