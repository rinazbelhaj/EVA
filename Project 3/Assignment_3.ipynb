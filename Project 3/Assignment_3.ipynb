{
  "nbformat": 4,
  "nbformat_minor": 0,
  "metadata": {
    "colab": {
      "name": "Assignment 3.ipynb",
      "version": "0.3.2",
      "provenance": [],
      "collapsed_sections": [],
      "include_colab_link": true
    },
    "kernelspec": {
      "name": "python3",
      "display_name": "Python 3"
    },
    "accelerator": "GPU"
  },
  "cells": [
    {
      "cell_type": "markdown",
      "metadata": {
        "id": "view-in-github",
        "colab_type": "text"
      },
      "source": [
        "<a href=\"https://colab.research.google.com/github/rinazbelhaj/EVA/blob/master/Project%203/Assignment_3.ipynb\" target=\"_parent\"><img src=\"https://colab.research.google.com/assets/colab-badge.svg\" alt=\"Open In Colab\"/></a>"
      ]
    },
    {
      "cell_type": "markdown",
      "metadata": {
        "id": "aNyZv-Ec52ot",
        "colab_type": "text"
      },
      "source": [
        "# **Import Libraries and modules**"
      ]
    },
    {
      "cell_type": "code",
      "metadata": {
        "id": "3m3w1Cw49Zkt",
        "colab_type": "code",
        "outputId": "3a8ea4c6-6731-4ff9-8dbe-de41d9b9cefd",
        "colab": {
          "base_uri": "https://localhost:8080/",
          "height": 35
        }
      },
      "source": [
        "### This cell is installing keras using pip install\n",
        "\n",
        "# https://keras.io/\n",
        "!pip install -q keras\n",
        "import keras"
      ],
      "execution_count": 1,
      "outputs": [
        {
          "output_type": "stream",
          "text": [
            "Using TensorFlow backend.\n"
          ],
          "name": "stderr"
        }
      ]
    },
    {
      "cell_type": "code",
      "metadata": {
        "id": "Eso6UHE080D4",
        "colab_type": "code",
        "colab": {}
      },
      "source": [
        "### Here we are importing all the libraries needed for our modelling task\n",
        "\n",
        "import numpy as np\n",
        "\n",
        "from keras.models import Sequential\n",
        "from keras.layers import Dense, Dropout, Activation, Flatten, Add\n",
        "from keras.layers import Conv2D, MaxPooling2D, GlobalAveragePooling2D, BatchNormalization\n",
        "from keras.utils import np_utils\n",
        "\n",
        "from keras.datasets import mnist"
      ],
      "execution_count": 0,
      "outputs": []
    },
    {
      "cell_type": "markdown",
      "metadata": {
        "id": "zByEi95J86RD",
        "colab_type": "text"
      },
      "source": [
        "# Load pre-shuffled MNIST data into train and test sets"
      ]
    },
    {
      "cell_type": "code",
      "metadata": {
        "id": "7eRM0QWN83PV",
        "colab_type": "code",
        "outputId": "b3c51c67-4a2c-440b-aa4b-1c7d719ea9ab",
        "colab": {
          "base_uri": "https://localhost:8080/",
          "height": 52
        }
      },
      "source": [
        "### In this cell, we are loading MNIST hand written digits data to train and test numpy arrays\n",
        "\n",
        "(X_train, y_train), (X_test, y_test) = mnist.load_data()"
      ],
      "execution_count": 3,
      "outputs": [
        {
          "output_type": "stream",
          "text": [
            "Downloading data from https://s3.amazonaws.com/img-datasets/mnist.npz\n",
            "11493376/11490434 [==============================] - 2s 0us/step\n"
          ],
          "name": "stdout"
        }
      ]
    },
    {
      "cell_type": "code",
      "metadata": {
        "id": "4a4Be72j8-ZC",
        "colab_type": "code",
        "outputId": "f3ba6085-ebac-459c-8d51-726ef6f10a90",
        "colab": {
          "base_uri": "https://localhost:8080/",
          "height": 304
        }
      },
      "source": [
        "# This cell displays the first value in training data\n",
        "\n",
        "print (X_train.shape)\n",
        "from matplotlib import pyplot as plt\n",
        "%matplotlib inline\n",
        "plt.imshow(X_train[0])"
      ],
      "execution_count": 4,
      "outputs": [
        {
          "output_type": "stream",
          "text": [
            "(60000, 28, 28)\n"
          ],
          "name": "stdout"
        },
        {
          "output_type": "execute_result",
          "data": {
            "text/plain": [
              "<matplotlib.image.AxesImage at 0x7f2f3d50ad68>"
            ]
          },
          "metadata": {
            "tags": []
          },
          "execution_count": 4
        },
        {
          "output_type": "display_data",
          "data": {
            "image/png": "[encoded data removed]",
            "text/plain": [
              "<Figure size 432x288 with 1 Axes>"
            ]
          },
          "metadata": {
            "tags": []
          }
        }
      ]
    },
    {
      "cell_type": "code",
      "metadata": {
        "id": "7oEfspHwjOV7",
        "colab_type": "code",
        "outputId": "c185ea8c-d1d1-4244-b327-1840c7835188",
        "colab": {
          "base_uri": "https://localhost:8080/",
          "height": 35
        }
      },
      "source": [
        "# This cell calculates the maximum receptive field required for this use case\n",
        "\n",
        "min_row,min_col = 0,0\n",
        "max_row,max_col = 27,27\n",
        "\n",
        "min_row_list,max_row_list,min_col_list,max_col_list=[],[],[],[]\n",
        "\n",
        "for k in range(X_train.shape[0]):\n",
        "  for i in range(X_train.shape[1]//2):\n",
        "    min_row = i if sum(X_train[k][i,:])==0 and i>min_row else min_row\n",
        "    max_row = 27-i if sum(X_train[k][27-i,:])==0 and (27-i)<max_row else max_row\n",
        "\n",
        "  for i in range(X_train.shape[2]//2):\n",
        "    min_col = i if sum(X_train[k][:,i])==0 and i>min_col else min_col\n",
        "    max_col = 27-i if sum(X_train[k][:,27-i])==0 and (27-i)<max_col else max_col\n",
        "  \n",
        "  min_row_list.append(min_row)\n",
        "  max_row_list.append(max_row)\n",
        "  min_col_list.append(min_col)\n",
        "  max_col_list.append(max_col)\n",
        "\n",
        "#print(\"min_row:\",min_row,\", max_row:\",max_row,\", min_col:\",min_col,\", max_col:\",max_col)\n",
        "min_dim = min(min_row_list+min_col_list)\n",
        "max_dim = max(max_row_list+max_col_list)\n",
        "print(\"min_dim:\",min_dim,\", max_dim:\",max_dim,\", receptive field required:\",max_dim-min_dim+1)"
      ],
      "execution_count": 5,
      "outputs": [
        {
          "output_type": "stream",
          "text": [
            "min_dim: 3 , max_dim: 25 , receptive field required: 23\n"
          ],
          "name": "stdout"
        }
      ]
    },
    {
      "cell_type": "code",
      "metadata": {
        "id": "dkmprriw9AnZ",
        "colab_type": "code",
        "colab": {}
      },
      "source": [
        "# Here we are reshapping the train and test images to be compatible with the model to be defined\n",
        "\n",
        "# The images are formatted to dimension Length*Width*Channel\n",
        "# Since MNIST is a collection of grey scale images, the channel will be 1. So dimension is 28*28*1\n",
        "\n",
        "X_train = X_train.reshape(X_train.shape[0], 28, 28,1)\n",
        "X_test = X_test.reshape(X_test.shape[0], 28, 28,1)"
      ],
      "execution_count": 0,
      "outputs": []
    },
    {
      "cell_type": "code",
      "metadata": {
        "id": "X2m4YS4E9CRh",
        "colab_type": "code",
        "colab": {}
      },
      "source": [
        "# Here we are changing the numpy value to float and normalizing them by dividing each value by 255\n",
        "# The pixel values are scaled between 0 and 1 which is benefecial for our network while backpropagating.\n",
        "\n",
        "X_train = X_train.astype('float32')\n",
        "X_test = X_test.astype('float32')\n",
        "X_train /= 255\n",
        "X_test /= 255"
      ],
      "execution_count": 0,
      "outputs": []
    },
    {
      "cell_type": "code",
      "metadata": {
        "id": "0Mn0vAYD9DvB",
        "colab_type": "code",
        "outputId": "ec4aaa5a-4e66-4062-f622-b1ba41446d9e",
        "colab": {
          "base_uri": "https://localhost:8080/",
          "height": 35
        }
      },
      "source": [
        "# This cell display first 10 labels in our training data\n",
        "\n",
        "y_train[:10]"
      ],
      "execution_count": 8,
      "outputs": [
        {
          "output_type": "execute_result",
          "data": {
            "text/plain": [
              "array([5, 0, 4, 1, 9, 2, 1, 3, 1, 4], dtype=uint8)"
            ]
          },
          "metadata": {
            "tags": []
          },
          "execution_count": 8
        }
      ]
    },
    {
      "cell_type": "code",
      "metadata": {
        "id": "ZG8JiXR39FHC",
        "colab_type": "code",
        "colab": {}
      },
      "source": [
        "# Convert 1-dimensional class arrays to 10-dimensional class matrices\n",
        "# This cell encodes one columns into 10 columns which basically has a flag corresponding to each class\n",
        "# Here 6th column is the flag for label 5 \n",
        "\n",
        "Y_train = np_utils.to_categorical(y_train, 10)\n",
        "Y_test = np_utils.to_categorical(y_test, 10)"
      ],
      "execution_count": 0,
      "outputs": []
    },
    {
      "cell_type": "code",
      "metadata": {
        "id": "fYlFRvKS9HMB",
        "colab_type": "code",
        "outputId": "67b119b0-ea25-40f9-8402-bc8236ea8828",
        "colab": {
          "base_uri": "https://localhost:8080/",
          "height": 191
        }
      },
      "source": [
        "# Reformatted label data\n",
        "\n",
        "Y_train[:10]\n"
      ],
      "execution_count": 10,
      "outputs": [
        {
          "output_type": "execute_result",
          "data": {
            "text/plain": [
              "array([[0., 0., 0., 0., 0., 1., 0., 0., 0., 0.],\n",
              "       [1., 0., 0., 0., 0., 0., 0., 0., 0., 0.],\n",
              "       [0., 0., 0., 0., 1., 0., 0., 0., 0., 0.],\n",
              "       [0., 1., 0., 0., 0., 0., 0., 0., 0., 0.],\n",
              "       [0., 0., 0., 0., 0., 0., 0., 0., 0., 1.],\n",
              "       [0., 0., 1., 0., 0., 0., 0., 0., 0., 0.],\n",
              "       [0., 1., 0., 0., 0., 0., 0., 0., 0., 0.],\n",
              "       [0., 0., 0., 1., 0., 0., 0., 0., 0., 0.],\n",
              "       [0., 1., 0., 0., 0., 0., 0., 0., 0., 0.],\n",
              "       [0., 0., 0., 0., 1., 0., 0., 0., 0., 0.]], dtype=float32)"
            ]
          },
          "metadata": {
            "tags": []
          },
          "execution_count": 10
        }
      ]
    },
    {
      "cell_type": "markdown",
      "metadata": {
        "id": "LcPAAm83f3rX",
        "colab_type": "text"
      },
      "source": [
        "# Model Definition"
      ]
    },
    {
      "cell_type": "code",
      "metadata": {
        "id": "RlIUjU8Yf7Qa",
        "colab_type": "code",
        "outputId": "05845bf8-adbf-4dc4-ede9-b26b510a1d0b",
        "colab": {
          "base_uri": "https://localhost:8080/",
          "height": 869
        }
      },
      "source": [
        "# This cell defines our model\n",
        "\n",
        "# Defining model using Keras sequential API\n",
        "from keras.layers import Activation\n",
        "model = Sequential()\n",
        "\n",
        "# LRF = Local Receptive Field, GRF = Global Receptive Field\n",
        "\n",
        "# Layer 1 : Type=Convolution + BatchNorm, Input=28*28*1, Kernel Size=3*3*1, No. of Kernels=8, Activation=RELU, LRF=3*3, GRF=3*3, Output=26*26*8\n",
        "model.add(Conv2D(8, (3, 3), activation='relu', input_shape=(28,28,1),use_bias=False,name='conv_1'))\n",
        "model.add(BatchNormalization(name='batch_1'))\n",
        "\n",
        "# Layer 2 : Type=Convolution + BatchNorm, Input=26*26*8, Kernel Size=3*3*8, No. of Kernels=16, Activation=RELU, LRF=3*3, GRF=5*5, Output=24*24*16\n",
        "model.add(Conv2D(16, (3, 3), activation='relu',use_bias=False,name='conv_2'))\n",
        "model.add(BatchNormalization(name='batch_2'))\n",
        "\n",
        "# Layer 3 : Type=Convolution + BatchNorm, Input=24*24*16, Kernel Size=3*3*16, No. of Kernels=16, Activation=RELU, LRF=3*3, GRF=7*7, Output=22*22*16\n",
        "model.add(Conv2D(16, (3, 3), activation='relu',use_bias=False,name='conv_3'))\n",
        "model.add(BatchNormalization(name='batch_3'))\n",
        "\n",
        "# Layer 4 : Type=Max Pooling, Input=22*22*16, Kernel Size=2*2, LRF=2*2, GRF=8*8, Output=11*11*16\n",
        "model.add(MaxPooling2D((2, 2),name='pool_1'))\n",
        "\n",
        "# Layer 5 : Type=Convolution + BatchNorm, Input=11*11*16, Kernel Size=3*3*16, No. of Kernels=16, Activation=RELU, LRF=3*3, GRF=12*12, Output=9*9*16\n",
        "model.add(Conv2D(16, (3, 3), activation='relu',use_bias=False,name='conv_4'))\n",
        "model.add(BatchNormalization(name='batch_4'))\n",
        "\n",
        "# Layer 6 : Type=Convolution + BatchNorm, Input=9*9*16, Kernel Size=3*3*16, No. of Kernels=16, Activation=RELU, LRF=3*3, GRF=16*16, Output=7*7*16\n",
        "model.add(Conv2D(16, (3, 3), activation='relu',use_bias=False,name='conv_5'))\n",
        "model.add(BatchNormalization(name='batch_5'))\n",
        "\n",
        "# Layer 7 : Type=Convolution + BatchNorm, Input=7*7*16, Kernel Size=3*3*16, No. of Kernels=32, Activation=RELU, LRF=3*3, GRF=20*20, Output=5*5*32\n",
        "model.add(Conv2D(32, (3, 3), activation='relu',use_bias=False,name='conv_6'))\n",
        "model.add(BatchNormalization(name='batch_6'))\n",
        "\n",
        "# Layer 8 : Type=Convolution + BatchNorm, Input=5*5*32, Kernel Size=3*3*32, No. of Kernels=16, Activation=RELU, LRF=3*3, GRF=24*24, Output=3*3*16\n",
        "model.add(Conv2D(16, (3, 3), activation='relu',use_bias=False,name='conv_7'))\n",
        "model.add(BatchNormalization(name='batch_7'))\n",
        "\n",
        "# Layer 9 : Type=Convolution + BatchNorm, Input=3*3*16, Kernel Size=3*3*16, No. of Kernels=10, Activation=RELU, LRF=3*3, GRF=28*28, Output=1*1*10\n",
        "model.add(Conv2D(10, (3, 3),use_bias=False,name='conv_8'))\n",
        "model.add(BatchNormalization(name='batch_8'))\n",
        "\n",
        "# Layer 10 : Type=Flatten, Input=1*1*10, Output=10 [1*1*10 to list of length 10]\n",
        "model.add(Flatten(name='flatten'))\n",
        "\n",
        "# Output : Softmax Function\n",
        "model.add(Activation('softmax',name='activation'))\n",
        "\n",
        "# Display model summary\n",
        "model.summary()"
      ],
      "execution_count": 11,
      "outputs": [
        {
          "output_type": "stream",
          "text": [
            "WARNING:tensorflow:From /usr/local/lib/python3.6/dist-packages/tensorflow/python/framework/op_def_library.py:263: colocate_with (from tensorflow.python.framework.ops) is deprecated and will be removed in a future version.\n",
            "Instructions for updating:\n",
            "Colocations handled automatically by placer.\n",
            "_________________________________________________________________\n",
            "Layer (type)                 Output Shape              Param #   \n",
            "=================================================================\n",
            "conv_1 (Conv2D)              (None, 26, 26, 8)         72        \n",
            "_________________________________________________________________\n",
            "batch_1 (BatchNormalization) (None, 26, 26, 8)         32        \n",
            "_________________________________________________________________\n",
            "conv_2 (Conv2D)              (None, 24, 24, 16)        1152      \n",
            "_________________________________________________________________\n",
            "batch_2 (BatchNormalization) (None, 24, 24, 16)        64        \n",
            "_________________________________________________________________\n",
            "conv_3 (Conv2D)              (None, 22, 22, 16)        2304      \n",
            "_________________________________________________________________\n",
            "batch_3 (BatchNormalization) (None, 22, 22, 16)        64        \n",
            "_________________________________________________________________\n",
            "pool_1 (MaxPooling2D)        (None, 11, 11, 16)        0         \n",
            "_________________________________________________________________\n",
            "conv_4 (Conv2D)              (None, 9, 9, 16)          2304      \n",
            "_________________________________________________________________\n",
            "batch_4 (BatchNormalization) (None, 9, 9, 16)          64        \n",
            "_________________________________________________________________\n",
            "conv_5 (Conv2D)              (None, 7, 7, 16)          2304      \n",
            "_________________________________________________________________\n",
            "batch_5 (BatchNormalization) (None, 7, 7, 16)          64        \n",
            "_________________________________________________________________\n",
            "conv_6 (Conv2D)              (None, 5, 5, 32)          4608      \n",
            "_________________________________________________________________\n",
            "batch_6 (BatchNormalization) (None, 5, 5, 32)          128       \n",
            "_________________________________________________________________\n",
            "conv_7 (Conv2D)              (None, 3, 3, 16)          4608      \n",
            "_________________________________________________________________\n",
            "batch_7 (BatchNormalization) (None, 3, 3, 16)          64        \n",
            "_________________________________________________________________\n",
            "conv_8 (Conv2D)              (None, 1, 1, 10)          1440      \n",
            "_________________________________________________________________\n",
            "batch_8 (BatchNormalization) (None, 1, 1, 10)          40        \n",
            "_________________________________________________________________\n",
            "flatten (Flatten)            (None, 10)                0         \n",
            "_________________________________________________________________\n",
            "activation (Activation)      (None, 10)                0         \n",
            "=================================================================\n",
            "Total params: 19,312\n",
            "Trainable params: 19,052\n",
            "Non-trainable params: 260\n",
            "_________________________________________________________________\n"
          ],
          "name": "stdout"
        }
      ]
    },
    {
      "cell_type": "markdown",
      "metadata": {
        "id": "PU9FvnWPfmO_",
        "colab_type": "text"
      },
      "source": [
        "# Model Training"
      ]
    },
    {
      "cell_type": "code",
      "metadata": {
        "id": "Zp6SuGrL9M3h",
        "colab_type": "code",
        "colab": {}
      },
      "source": [
        "# Compiling the model\n",
        "\n",
        "# Loss function used is categorical cross entropy\n",
        "# Optimizer used is adam\n",
        "# Evaluation metric used is accuracy\n",
        "\n",
        "model.compile(loss='categorical_crossentropy',\n",
        "             optimizer='adam',\n",
        "             metrics=['accuracy'])"
      ],
      "execution_count": 0,
      "outputs": []
    },
    {
      "cell_type": "code",
      "metadata": {
        "id": "MWnZLtKr1fWT",
        "colab_type": "code",
        "colab": {}
      },
      "source": [
        "from keras.callbacks import ModelCheckpoint\n",
        "checkpointer = ModelCheckpoint(filepath=\"best_weights.hdf5\", \n",
        "                               monitor = 'val_acc',\n",
        "                               verbose=1, \n",
        "                               save_best_only=True)"
      ],
      "execution_count": 0,
      "outputs": []
    },
    {
      "cell_type": "code",
      "metadata": {
        "id": "4xWoKhPY9Of5",
        "colab_type": "code",
        "outputId": "4bbfe5ea-0fbe-4615-ef96-f3400227f085",
        "colab": {
          "base_uri": "https://localhost:8080/",
          "height": 6985
        }
      },
      "source": [
        "# Training process\n",
        "# Fitting the model on training data\n",
        "\n",
        "# Batch Size: No of input images seen by the model at a given instance\n",
        "# epochs : Number of iterations over the training data\n",
        "# Verbose : The output display formatting of training process\n",
        "\n",
        "model.fit(X_train, Y_train, batch_size=32, epochs=100,validation_data=(X_test, Y_test),callbacks=[checkpointer], verbose=1)"
      ],
      "execution_count": 0,
      "outputs": [
        {
          "output_type": "stream",
          "text": [
            "Train on 60000 samples, validate on 10000 samples\n",
            "Epoch 1/100\n",
            "60000/60000 [==============================] - 35s 588us/step - loss: 0.3629 - acc: 0.9350 - val_loss: 0.1142 - val_acc: 0.9824\n",
            "\n",
            "Epoch 00001: val_acc improved from -inf to 0.98240, saving model to best_weights.hdf5\n",
            "Epoch 2/100\n",
            "60000/60000 [==============================] - 33s 557us/step - loss: 0.1281 - acc: 0.9744 - val_loss: 0.0508 - val_acc: 0.9887\n",
            "\n",
            "Epoch 00002: val_acc improved from 0.98240 to 0.98870, saving model to best_weights.hdf5\n",
            "Epoch 3/100\n",
            "60000/60000 [==============================] - 34s 559us/step - loss: 0.0832 - acc: 0.9818 - val_loss: 0.0387 - val_acc: 0.9898\n",
            "\n",
            "Epoch 00003: val_acc improved from 0.98870 to 0.98980, saving model to best_weights.hdf5\n",
            "Epoch 4/100\n",
            "60000/60000 [==============================] - 34s 559us/step - loss: 0.0622 - acc: 0.9849 - val_loss: 0.0342 - val_acc: 0.9910\n",
            "\n",
            "Epoch 00004: val_acc improved from 0.98980 to 0.99100, saving model to best_weights.hdf5\n",
            "Epoch 5/100\n",
            "60000/60000 [==============================] - 33s 556us/step - loss: 0.0505 - acc: 0.9876 - val_loss: 0.0265 - val_acc: 0.9928\n",
            "\n",
            "Epoch 00005: val_acc improved from 0.99100 to 0.99280, saving model to best_weights.hdf5\n",
            "Epoch 6/100\n",
            "60000/60000 [==============================] - 33s 557us/step - loss: 0.0428 - acc: 0.9888 - val_loss: 0.0285 - val_acc: 0.9918\n",
            "\n",
            "Epoch 00006: val_acc did not improve from 0.99280\n",
            "Epoch 7/100\n",
            "60000/60000 [==============================] - 33s 555us/step - loss: 0.0370 - acc: 0.9907 - val_loss: 0.0271 - val_acc: 0.9919\n",
            "\n",
            "Epoch 00007: val_acc did not improve from 0.99280\n",
            "Epoch 8/100\n",
            "60000/60000 [==============================] - 33s 556us/step - loss: 0.0341 - acc: 0.9911 - val_loss: 0.0233 - val_acc: 0.9929\n",
            "\n",
            "Epoch 00008: val_acc improved from 0.99280 to 0.99290, saving model to best_weights.hdf5\n",
            "Epoch 9/100\n",
            "60000/60000 [==============================] - 33s 557us/step - loss: 0.0299 - acc: 0.9920 - val_loss: 0.0225 - val_acc: 0.9942\n",
            "\n",
            "Epoch 00009: val_acc improved from 0.99290 to 0.99420, saving model to best_weights.hdf5\n",
            "Epoch 10/100\n",
            "60000/60000 [==============================] - 33s 557us/step - loss: 0.0275 - acc: 0.9923 - val_loss: 0.0283 - val_acc: 0.9918\n",
            "\n",
            "Epoch 00010: val_acc did not improve from 0.99420\n",
            "Epoch 11/100\n",
            "60000/60000 [==============================] - 33s 558us/step - loss: 0.0246 - acc: 0.9936 - val_loss: 0.0207 - val_acc: 0.9944\n",
            "\n",
            "Epoch 00011: val_acc improved from 0.99420 to 0.99440, saving model to best_weights.hdf5\n",
            "Epoch 12/100\n",
            "60000/60000 [==============================] - 33s 557us/step - loss: 0.0230 - acc: 0.9933 - val_loss: 0.0221 - val_acc: 0.9941\n",
            "\n",
            "Epoch 00012: val_acc did not improve from 0.99440\n",
            "Epoch 13/100\n",
            "60000/60000 [==============================] - 34s 560us/step - loss: 0.0210 - acc: 0.9942 - val_loss: 0.0243 - val_acc: 0.9928\n",
            "\n",
            "Epoch 00013: val_acc did not improve from 0.99440\n",
            "Epoch 14/100\n",
            "60000/60000 [==============================] - 33s 556us/step - loss: 0.0198 - acc: 0.9945 - val_loss: 0.0231 - val_acc: 0.9928\n",
            "\n",
            "Epoch 00014: val_acc did not improve from 0.99440\n",
            "Epoch 15/100\n",
            "60000/60000 [==============================] - 33s 557us/step - loss: 0.0195 - acc: 0.9946 - val_loss: 0.0233 - val_acc: 0.9922\n",
            "\n",
            "Epoch 00015: val_acc did not improve from 0.99440\n",
            "Epoch 16/100\n",
            "60000/60000 [==============================] - 33s 558us/step - loss: 0.0163 - acc: 0.9956 - val_loss: 0.0210 - val_acc: 0.9940\n",
            "\n",
            "Epoch 00016: val_acc did not improve from 0.99440\n",
            "Epoch 17/100\n",
            "60000/60000 [==============================] - 33s 556us/step - loss: 0.0161 - acc: 0.9957 - val_loss: 0.0177 - val_acc: 0.9953\n",
            "\n",
            "Epoch 00017: val_acc improved from 0.99440 to 0.99530, saving model to best_weights.hdf5\n",
            "Epoch 18/100\n",
            "60000/60000 [==============================] - 34s 559us/step - loss: 0.0149 - acc: 0.9956 - val_loss: 0.0222 - val_acc: 0.9932\n",
            "\n",
            "Epoch 00018: val_acc did not improve from 0.99530\n",
            "Epoch 19/100\n",
            "60000/60000 [==============================] - 33s 557us/step - loss: 0.0141 - acc: 0.9961 - val_loss: 0.0199 - val_acc: 0.9943\n",
            "\n",
            "Epoch 00019: val_acc did not improve from 0.99530\n",
            "Epoch 20/100\n",
            "60000/60000 [==============================] - 34s 558us/step - loss: 0.0138 - acc: 0.9963 - val_loss: 0.0198 - val_acc: 0.9941\n",
            "\n",
            "Epoch 00020: val_acc did not improve from 0.99530\n",
            "Epoch 21/100\n",
            "60000/60000 [==============================] - 34s 560us/step - loss: 0.0117 - acc: 0.9966 - val_loss: 0.0211 - val_acc: 0.9936\n",
            "\n",
            "Epoch 00021: val_acc did not improve from 0.99530\n",
            "Epoch 22/100\n",
            "60000/60000 [==============================] - 34s 559us/step - loss: 0.0126 - acc: 0.9963 - val_loss: 0.0241 - val_acc: 0.9930\n",
            "\n",
            "Epoch 00022: val_acc did not improve from 0.99530\n",
            "Epoch 23/100\n",
            "60000/60000 [==============================] - 33s 557us/step - loss: 0.0115 - acc: 0.9966 - val_loss: 0.0239 - val_acc: 0.9932\n",
            "\n",
            "Epoch 00023: val_acc did not improve from 0.99530\n",
            "Epoch 24/100\n",
            "60000/60000 [==============================] - 33s 558us/step - loss: 0.0117 - acc: 0.9967 - val_loss: 0.0210 - val_acc: 0.9932\n",
            "\n",
            "Epoch 00024: val_acc did not improve from 0.99530\n",
            "Epoch 25/100\n",
            "60000/60000 [==============================] - 34s 560us/step - loss: 0.0109 - acc: 0.9967 - val_loss: 0.0263 - val_acc: 0.9922\n",
            "\n",
            "Epoch 00025: val_acc did not improve from 0.99530\n",
            "Epoch 26/100\n",
            "60000/60000 [==============================] - 34s 565us/step - loss: 0.0103 - acc: 0.9970 - val_loss: 0.0225 - val_acc: 0.9936\n",
            "\n",
            "Epoch 00026: val_acc did not improve from 0.99530\n",
            "Epoch 27/100\n",
            "60000/60000 [==============================] - 34s 568us/step - loss: 0.0093 - acc: 0.9973 - val_loss: 0.0199 - val_acc: 0.9945\n",
            "\n",
            "Epoch 00027: val_acc did not improve from 0.99530\n",
            "Epoch 28/100\n",
            "60000/60000 [==============================] - 34s 570us/step - loss: 0.0097 - acc: 0.9973 - val_loss: 0.0197 - val_acc: 0.9942\n",
            "\n",
            "Epoch 00028: val_acc did not improve from 0.99530\n",
            "Epoch 29/100\n",
            "60000/60000 [==============================] - 34s 568us/step - loss: 0.0092 - acc: 0.9975 - val_loss: 0.0224 - val_acc: 0.9940\n",
            "\n",
            "Epoch 00029: val_acc did not improve from 0.99530\n",
            "Epoch 30/100\n",
            "60000/60000 [==============================] - 34s 568us/step - loss: 0.0096 - acc: 0.9972 - val_loss: 0.0287 - val_acc: 0.9916\n",
            "\n",
            "Epoch 00030: val_acc did not improve from 0.99530\n",
            "Epoch 31/100\n",
            "60000/60000 [==============================] - 34s 569us/step - loss: 0.0080 - acc: 0.9974 - val_loss: 0.0212 - val_acc: 0.9941\n",
            "\n",
            "Epoch 00031: val_acc did not improve from 0.99530\n",
            "Epoch 32/100\n",
            "60000/60000 [==============================] - 34s 569us/step - loss: 0.0081 - acc: 0.9978 - val_loss: 0.0229 - val_acc: 0.9936\n",
            "\n",
            "Epoch 00032: val_acc did not improve from 0.99530\n",
            "Epoch 33/100\n",
            "60000/60000 [==============================] - 34s 569us/step - loss: 0.0078 - acc: 0.9982 - val_loss: 0.0225 - val_acc: 0.9937\n",
            "\n",
            "Epoch 00033: val_acc did not improve from 0.99530\n",
            "Epoch 34/100\n",
            "60000/60000 [==============================] - 34s 567us/step - loss: 0.0086 - acc: 0.9976 - val_loss: 0.0215 - val_acc: 0.9937\n",
            "\n",
            "Epoch 00034: val_acc did not improve from 0.99530\n",
            "Epoch 35/100\n",
            "60000/60000 [==============================] - 34s 566us/step - loss: 0.0068 - acc: 0.9981 - val_loss: 0.0239 - val_acc: 0.9925\n",
            "\n",
            "Epoch 00035: val_acc did not improve from 0.99530\n",
            "Epoch 36/100\n",
            "60000/60000 [==============================] - 34s 570us/step - loss: 0.0065 - acc: 0.9982 - val_loss: 0.0237 - val_acc: 0.9940\n",
            "\n",
            "Epoch 00036: val_acc did not improve from 0.99530\n",
            "Epoch 37/100\n",
            "60000/60000 [==============================] - 34s 568us/step - loss: 0.0072 - acc: 0.9979 - val_loss: 0.0256 - val_acc: 0.9933\n",
            "\n",
            "Epoch 00037: val_acc did not improve from 0.99530\n",
            "Epoch 38/100\n",
            "60000/60000 [==============================] - 34s 566us/step - loss: 0.0067 - acc: 0.9982 - val_loss: 0.0203 - val_acc: 0.9940\n",
            "\n",
            "Epoch 00038: val_acc did not improve from 0.99530\n",
            "Epoch 39/100\n",
            "60000/60000 [==============================] - 34s 568us/step - loss: 0.0068 - acc: 0.9979 - val_loss: 0.0243 - val_acc: 0.9935\n",
            "\n",
            "Epoch 00039: val_acc did not improve from 0.99530\n",
            "Epoch 40/100\n",
            "60000/60000 [==============================] - 34s 569us/step - loss: 0.0065 - acc: 0.9982 - val_loss: 0.0211 - val_acc: 0.9944\n",
            "\n",
            "Epoch 00040: val_acc did not improve from 0.99530\n",
            "Epoch 41/100\n",
            "60000/60000 [==============================] - 34s 571us/step - loss: 0.0051 - acc: 0.9987 - val_loss: 0.0246 - val_acc: 0.9937\n",
            "\n",
            "Epoch 00041: val_acc did not improve from 0.99530\n",
            "Epoch 42/100\n",
            "60000/60000 [==============================] - 34s 568us/step - loss: 0.0055 - acc: 0.9985 - val_loss: 0.0245 - val_acc: 0.9927\n",
            "\n",
            "Epoch 00042: val_acc did not improve from 0.99530\n",
            "Epoch 43/100\n",
            "60000/60000 [==============================] - 34s 568us/step - loss: 0.0059 - acc: 0.9983 - val_loss: 0.0252 - val_acc: 0.9931\n",
            "\n",
            "Epoch 00043: val_acc did not improve from 0.99530\n",
            "Epoch 44/100\n",
            "60000/60000 [==============================] - 34s 568us/step - loss: 0.0062 - acc: 0.9982 - val_loss: 0.0234 - val_acc: 0.9939\n",
            "\n",
            "Epoch 00044: val_acc did not improve from 0.99530\n",
            "Epoch 45/100\n",
            "60000/60000 [==============================] - 34s 569us/step - loss: 0.0059 - acc: 0.9981 - val_loss: 0.0238 - val_acc: 0.9933\n",
            "\n",
            "Epoch 00045: val_acc did not improve from 0.99530\n",
            "Epoch 46/100\n",
            "60000/60000 [==============================] - 34s 568us/step - loss: 0.0044 - acc: 0.9987 - val_loss: 0.0274 - val_acc: 0.9933\n",
            "\n",
            "Epoch 00046: val_acc did not improve from 0.99530\n",
            "Epoch 47/100\n",
            "60000/60000 [==============================] - 34s 565us/step - loss: 0.0049 - acc: 0.9987 - val_loss: 0.0247 - val_acc: 0.9934\n",
            "\n",
            "Epoch 00047: val_acc did not improve from 0.99530\n",
            "Epoch 48/100\n",
            "60000/60000 [==============================] - 34s 561us/step - loss: 0.0056 - acc: 0.9982 - val_loss: 0.0276 - val_acc: 0.9932\n",
            "\n",
            "Epoch 00048: val_acc did not improve from 0.99530\n",
            "Epoch 49/100\n",
            "60000/60000 [==============================] - 34s 560us/step - loss: 0.0048 - acc: 0.9986 - val_loss: 0.0259 - val_acc: 0.9938\n",
            "\n",
            "Epoch 00049: val_acc did not improve from 0.99530\n",
            "Epoch 50/100\n",
            "60000/60000 [==============================] - 34s 560us/step - loss: 0.0049 - acc: 0.9987 - val_loss: 0.0252 - val_acc: 0.9937\n",
            "\n",
            "Epoch 00050: val_acc did not improve from 0.99530\n",
            "Epoch 51/100\n",
            "60000/60000 [==============================] - 34s 558us/step - loss: 0.0048 - acc: 0.9986 - val_loss: 0.0243 - val_acc: 0.9933\n",
            "\n",
            "Epoch 00051: val_acc did not improve from 0.99530\n",
            "Epoch 52/100\n",
            "60000/60000 [==============================] - 33s 558us/step - loss: 0.0052 - acc: 0.9985 - val_loss: 0.0261 - val_acc: 0.9937\n",
            "\n",
            "Epoch 00052: val_acc did not improve from 0.99530\n",
            "Epoch 53/100\n",
            "60000/60000 [==============================] - 34s 559us/step - loss: 0.0045 - acc: 0.9987 - val_loss: 0.0260 - val_acc: 0.9938\n",
            "\n",
            "Epoch 00053: val_acc did not improve from 0.99530\n",
            "Epoch 54/100\n",
            "60000/60000 [==============================] - 33s 558us/step - loss: 0.0051 - acc: 0.9984 - val_loss: 0.0367 - val_acc: 0.9907\n",
            "\n",
            "Epoch 00054: val_acc did not improve from 0.99530\n",
            "Epoch 55/100\n",
            "60000/60000 [==============================] - 33s 557us/step - loss: 0.0043 - acc: 0.9987 - val_loss: 0.0216 - val_acc: 0.9946\n",
            "\n",
            "Epoch 00055: val_acc did not improve from 0.99530\n",
            "Epoch 56/100\n",
            "60000/60000 [==============================] - 33s 555us/step - loss: 0.0040 - acc: 0.9988 - val_loss: 0.0329 - val_acc: 0.9918\n",
            "\n",
            "Epoch 00056: val_acc did not improve from 0.99530\n",
            "Epoch 57/100\n",
            "60000/60000 [==============================] - 33s 557us/step - loss: 0.0041 - acc: 0.9987 - val_loss: 0.0253 - val_acc: 0.9938\n",
            "\n",
            "Epoch 00057: val_acc did not improve from 0.99530\n",
            "Epoch 58/100\n",
            "60000/60000 [==============================] - 33s 557us/step - loss: 0.0041 - acc: 0.9988 - val_loss: 0.0226 - val_acc: 0.9937\n",
            "\n",
            "Epoch 00058: val_acc did not improve from 0.99530\n",
            "Epoch 59/100\n",
            "60000/60000 [==============================] - 34s 561us/step - loss: 0.0044 - acc: 0.9988 - val_loss: 0.0270 - val_acc: 0.9933\n",
            "\n",
            "Epoch 00059: val_acc did not improve from 0.99530\n",
            "Epoch 60/100\n",
            "60000/60000 [==============================] - 33s 557us/step - loss: 0.0041 - acc: 0.9987 - val_loss: 0.0279 - val_acc: 0.9919\n",
            "\n",
            "Epoch 00060: val_acc did not improve from 0.99530\n",
            "Epoch 61/100\n",
            "60000/60000 [==============================] - 34s 559us/step - loss: 0.0043 - acc: 0.9988 - val_loss: 0.0212 - val_acc: 0.9949\n",
            "\n",
            "Epoch 00061: val_acc did not improve from 0.99530\n",
            "Epoch 62/100\n",
            "60000/60000 [==============================] - 33s 558us/step - loss: 0.0041 - acc: 0.9988 - val_loss: 0.0237 - val_acc: 0.9934\n",
            "\n",
            "Epoch 00062: val_acc did not improve from 0.99530\n",
            "Epoch 63/100\n",
            "60000/60000 [==============================] - 34s 571us/step - loss: 0.0036 - acc: 0.9989 - val_loss: 0.0290 - val_acc: 0.9921\n",
            "\n",
            "Epoch 00063: val_acc did not improve from 0.99530\n",
            "Epoch 64/100\n",
            "60000/60000 [==============================] - 38s 630us/step - loss: 0.0040 - acc: 0.9988 - val_loss: 0.0244 - val_acc: 0.9942\n",
            "\n",
            "Epoch 00064: val_acc did not improve from 0.99530\n",
            "Epoch 65/100\n",
            "60000/60000 [==============================] - 41s 681us/step - loss: 0.0035 - acc: 0.9989 - val_loss: 0.0251 - val_acc: 0.9939\n",
            "\n",
            "Epoch 00065: val_acc did not improve from 0.99530\n",
            "Epoch 66/100\n",
            "60000/60000 [==============================] - 37s 614us/step - loss: 0.0037 - acc: 0.9989 - val_loss: 0.0311 - val_acc: 0.9925\n",
            "\n",
            "Epoch 00066: val_acc did not improve from 0.99530\n",
            "Epoch 67/100\n",
            "60000/60000 [==============================] - 34s 559us/step - loss: 0.0040 - acc: 0.9989 - val_loss: 0.0341 - val_acc: 0.9912\n",
            "\n",
            "Epoch 00067: val_acc did not improve from 0.99530\n",
            "Epoch 68/100\n",
            "60000/60000 [==============================] - 34s 563us/step - loss: 0.0036 - acc: 0.9988 - val_loss: 0.0266 - val_acc: 0.9932\n",
            "\n",
            "Epoch 00068: val_acc did not improve from 0.99530\n",
            "Epoch 69/100\n",
            "60000/60000 [==============================] - 33s 558us/step - loss: 0.0034 - acc: 0.9990 - val_loss: 0.0230 - val_acc: 0.9944\n",
            "\n",
            "Epoch 00069: val_acc did not improve from 0.99530\n",
            "Epoch 70/100\n",
            "60000/60000 [==============================] - 34s 558us/step - loss: 0.0032 - acc: 0.9992 - val_loss: 0.0242 - val_acc: 0.9933\n",
            "\n",
            "Epoch 00070: val_acc did not improve from 0.99530\n",
            "Epoch 71/100\n",
            "60000/60000 [==============================] - 34s 560us/step - loss: 0.0031 - acc: 0.9992 - val_loss: 0.0242 - val_acc: 0.9935\n",
            "\n",
            "Epoch 00071: val_acc did not improve from 0.99530\n",
            "Epoch 72/100\n",
            "60000/60000 [==============================] - 34s 561us/step - loss: 0.0034 - acc: 0.9991 - val_loss: 0.0288 - val_acc: 0.9933\n",
            "\n",
            "Epoch 00072: val_acc did not improve from 0.99530\n",
            "Epoch 73/100\n",
            "60000/60000 [==============================] - 34s 558us/step - loss: 0.0034 - acc: 0.9990 - val_loss: 0.0245 - val_acc: 0.9939\n",
            "\n",
            "Epoch 00073: val_acc did not improve from 0.99530\n",
            "Epoch 74/100\n",
            "60000/60000 [==============================] - 34s 559us/step - loss: 0.0035 - acc: 0.9991 - val_loss: 0.0233 - val_acc: 0.9937\n",
            "\n",
            "Epoch 00074: val_acc did not improve from 0.99530\n",
            "Epoch 75/100\n",
            "60000/60000 [==============================] - 34s 565us/step - loss: 0.0029 - acc: 0.9992 - val_loss: 0.0251 - val_acc: 0.9934\n",
            "\n",
            "Epoch 00075: val_acc did not improve from 0.99530\n",
            "Epoch 76/100\n",
            "60000/60000 [==============================] - 34s 568us/step - loss: 0.0031 - acc: 0.9990 - val_loss: 0.0270 - val_acc: 0.9933\n",
            "\n",
            "Epoch 00076: val_acc did not improve from 0.99530\n",
            "Epoch 77/100\n",
            "60000/60000 [==============================] - 34s 570us/step - loss: 0.0025 - acc: 0.9993 - val_loss: 0.0227 - val_acc: 0.9941\n",
            "\n",
            "Epoch 00077: val_acc did not improve from 0.99530\n",
            "Epoch 78/100\n",
            "60000/60000 [==============================] - 34s 569us/step - loss: 0.0038 - acc: 0.9988 - val_loss: 0.0231 - val_acc: 0.9937\n",
            "\n",
            "Epoch 00078: val_acc did not improve from 0.99530\n",
            "Epoch 79/100\n",
            "60000/60000 [==============================] - 34s 566us/step - loss: 0.0024 - acc: 0.9994 - val_loss: 0.0271 - val_acc: 0.9939\n",
            "\n",
            "Epoch 00079: val_acc did not improve from 0.99530\n",
            "Epoch 80/100\n",
            "60000/60000 [==============================] - 34s 570us/step - loss: 0.0036 - acc: 0.9989 - val_loss: 0.0286 - val_acc: 0.9936\n",
            "\n",
            "Epoch 00080: val_acc did not improve from 0.99530\n",
            "Epoch 81/100\n",
            "60000/60000 [==============================] - 34s 570us/step - loss: 0.0035 - acc: 0.9989 - val_loss: 0.0268 - val_acc: 0.9933\n",
            "\n",
            "Epoch 00081: val_acc did not improve from 0.99530\n",
            "Epoch 82/100\n",
            "60000/60000 [==============================] - 34s 573us/step - loss: 0.0023 - acc: 0.9994 - val_loss: 0.0243 - val_acc: 0.9940\n",
            "\n",
            "Epoch 00082: val_acc did not improve from 0.99530\n",
            "Epoch 83/100\n",
            "60000/60000 [==============================] - 34s 573us/step - loss: 0.0029 - acc: 0.9990 - val_loss: 0.0263 - val_acc: 0.9932\n",
            "\n",
            "Epoch 00083: val_acc did not improve from 0.99530\n",
            "Epoch 84/100\n",
            "60000/60000 [==============================] - 35s 582us/step - loss: 0.0031 - acc: 0.9991 - val_loss: 0.0212 - val_acc: 0.9938\n",
            "\n",
            "Epoch 00084: val_acc did not improve from 0.99530\n",
            "Epoch 85/100\n",
            "60000/60000 [==============================] - 34s 572us/step - loss: 0.0029 - acc: 0.9991 - val_loss: 0.0276 - val_acc: 0.9940\n",
            "\n",
            "Epoch 00085: val_acc did not improve from 0.99530\n",
            "Epoch 86/100\n",
            "60000/60000 [==============================] - 34s 571us/step - loss: 0.0024 - acc: 0.9993 - val_loss: 0.0254 - val_acc: 0.9940\n",
            "\n",
            "Epoch 00086: val_acc did not improve from 0.99530\n",
            "Epoch 87/100\n",
            "60000/60000 [==============================] - 34s 569us/step - loss: 0.0033 - acc: 0.9991 - val_loss: 0.0236 - val_acc: 0.9942\n",
            "\n",
            "Epoch 00087: val_acc did not improve from 0.99530\n",
            "Epoch 88/100\n",
            "60000/60000 [==============================] - 34s 571us/step - loss: 0.0025 - acc: 0.9994 - val_loss: 0.0277 - val_acc: 0.9936\n",
            "\n",
            "Epoch 00088: val_acc did not improve from 0.99530\n",
            "Epoch 89/100\n",
            "60000/60000 [==============================] - 34s 571us/step - loss: 0.0028 - acc: 0.9992 - val_loss: 0.0244 - val_acc: 0.9944\n",
            "\n",
            "Epoch 00089: val_acc did not improve from 0.99530\n",
            "Epoch 90/100\n",
            "60000/60000 [==============================] - 34s 571us/step - loss: 0.0025 - acc: 0.9992 - val_loss: 0.0309 - val_acc: 0.9924\n",
            "\n",
            "Epoch 00090: val_acc did not improve from 0.99530\n",
            "Epoch 91/100\n",
            "60000/60000 [==============================] - 34s 569us/step - loss: 0.0027 - acc: 0.9993 - val_loss: 0.0234 - val_acc: 0.9940\n",
            "\n",
            "Epoch 00091: val_acc did not improve from 0.99530\n",
            "Epoch 92/100\n",
            "60000/60000 [==============================] - 34s 570us/step - loss: 0.0028 - acc: 0.9992 - val_loss: 0.0240 - val_acc: 0.9941\n",
            "\n",
            "Epoch 00092: val_acc did not improve from 0.99530\n",
            "Epoch 93/100\n",
            "60000/60000 [==============================] - 34s 569us/step - loss: 0.0020 - acc: 0.9995 - val_loss: 0.0237 - val_acc: 0.9934\n",
            "\n",
            "Epoch 00093: val_acc did not improve from 0.99530\n",
            "Epoch 94/100\n",
            "60000/60000 [==============================] - 34s 570us/step - loss: 0.0026 - acc: 0.9993 - val_loss: 0.0271 - val_acc: 0.9932\n",
            "\n",
            "Epoch 00094: val_acc did not improve from 0.99530\n",
            "Epoch 95/100\n",
            "60000/60000 [==============================] - 34s 573us/step - loss: 0.0021 - acc: 0.9993 - val_loss: 0.0257 - val_acc: 0.9938\n",
            "\n",
            "Epoch 00095: val_acc did not improve from 0.99530\n",
            "Epoch 96/100\n",
            "60000/60000 [==============================] - 34s 570us/step - loss: 0.0018 - acc: 0.9995 - val_loss: 0.0269 - val_acc: 0.9930\n",
            "\n",
            "Epoch 00096: val_acc did not improve from 0.99530\n",
            "Epoch 97/100\n",
            "60000/60000 [==============================] - 34s 563us/step - loss: 0.0026 - acc: 0.9993 - val_loss: 0.0205 - val_acc: 0.9947\n",
            "\n",
            "Epoch 00097: val_acc did not improve from 0.99530\n",
            "Epoch 98/100\n",
            "60000/60000 [==============================] - 34s 563us/step - loss: 0.0029 - acc: 0.9992 - val_loss: 0.0266 - val_acc: 0.9933\n",
            "\n",
            "Epoch 00098: val_acc did not improve from 0.99530\n",
            "Epoch 99/100\n",
            "60000/60000 [==============================] - 34s 564us/step - loss: 0.0024 - acc: 0.9994 - val_loss: 0.0275 - val_acc: 0.9934\n",
            "\n",
            "Epoch 00099: val_acc did not improve from 0.99530\n",
            "Epoch 100/100\n",
            "60000/60000 [==============================] - 34s 561us/step - loss: 0.0024 - acc: 0.9993 - val_loss: 0.0273 - val_acc: 0.9934\n",
            "\n",
            "Epoch 00100: val_acc did not improve from 0.99530\n"
          ],
          "name": "stdout"
        },
        {
          "output_type": "execute_result",
          "data": {
            "text/plain": [
              "<keras.callbacks.History at 0x7f23c9519128>"
            ]
          },
          "metadata": {
            "tags": []
          },
          "execution_count": 44
        }
      ]
    },
    {
      "cell_type": "code",
      "metadata": {
        "id": "AtsH-lLk-eLb",
        "colab_type": "code",
        "colab": {}
      },
      "source": [
        "model.load_weights('best_weights.hdf5')\n",
        "score = model.evaluate(X_test, Y_test,verbose=0)"
      ],
      "execution_count": 0,
      "outputs": []
    },
    {
      "cell_type": "code",
      "metadata": {
        "id": "mkX8JMv79q9r",
        "colab_type": "code",
        "outputId": "0972c581-b571-41f6-8390-ad3258c43c14",
        "colab": {
          "base_uri": "https://localhost:8080/",
          "height": 35
        }
      },
      "source": [
        "print(score)"
      ],
      "execution_count": 0,
      "outputs": [
        {
          "output_type": "stream",
          "text": [
            "[0.0176707603193121, 0.9953]\n"
          ],
          "name": "stdout"
        }
      ]
    },
    {
      "cell_type": "code",
      "metadata": {
        "id": "OCWoJkwE9suh",
        "colab_type": "code",
        "colab": {}
      },
      "source": [
        "y_pred = model.predict(X_test)"
      ],
      "execution_count": 0,
      "outputs": []
    },
    {
      "cell_type": "code",
      "metadata": {
        "id": "Ym7iCFBm9uBs",
        "colab_type": "code",
        "outputId": "af73e1c8-a55b-4eb1-e29a-e388c5ed37d1",
        "colab": {
          "base_uri": "https://localhost:8080/",
          "height": 503
        }
      },
      "source": [
        "print(y_pred[:9])\n",
        "print(y_test[:9])"
      ],
      "execution_count": 0,
      "outputs": [
        {
          "output_type": "stream",
          "text": [
            "[[1.98996222e-05 1.09609835e-04 6.77368662e-05 3.04442161e-04\n",
            "  1.24303639e-04 1.18752778e-05 1.62519027e-05 9.99264300e-01\n",
            "  1.61540302e-05 6.54326795e-05]\n",
            " [5.16532145e-06 2.75943023e-07 9.99962568e-01 8.16431168e-07\n",
            "  2.15241034e-05 1.14597114e-07 4.40322219e-06 3.45292960e-06\n",
            "  1.87677301e-07 1.50156529e-06]\n",
            " [2.19840103e-07 9.99987364e-01 1.50681316e-07 1.56336387e-06\n",
            "  2.23548909e-06 1.67470648e-06 4.01838497e-06 1.47401147e-06\n",
            "  1.07876258e-06 1.82949719e-07]\n",
            " [9.99843240e-01 1.29839063e-05 4.53644861e-06 9.26059693e-06\n",
            "  4.86419140e-07 7.72320800e-06 1.03876700e-05 3.86425836e-06\n",
            "  1.06866028e-04 6.40723897e-07]\n",
            " [1.32060295e-05 3.62038168e-06 7.40635301e-07 3.56913392e-06\n",
            "  9.99861240e-01 8.42260943e-06 7.01831914e-06 2.20301135e-05\n",
            "  1.60860054e-05 6.40543003e-05]\n",
            " [1.23788681e-07 9.99992251e-01 6.42369287e-07 2.62219146e-07\n",
            "  7.73834302e-07 3.02444562e-07 1.60688137e-06 2.62978324e-06\n",
            "  7.95223514e-07 4.60508318e-07]\n",
            " [2.61713460e-04 5.29471145e-04 6.16659308e-05 5.78058898e-05\n",
            "  9.82860446e-01 3.87072493e-03 1.66267867e-03 8.67545046e-03\n",
            "  5.35675033e-04 1.48442376e-03]\n",
            " [1.88690524e-06 1.73342005e-06 8.96544520e-07 8.45369584e-07\n",
            "  2.55109398e-06 1.79103651e-07 2.19843378e-06 4.89431073e-08\n",
            "  1.06369555e-06 9.99988556e-01]\n",
            " [2.15231688e-04 5.67347752e-06 2.00431547e-04 9.94260245e-06\n",
            "  6.69938527e-05 9.97813463e-01 1.47396245e-03 1.23439444e-04\n",
            "  4.73905966e-05 4.34601498e-05]]\n",
            "[7 2 1 0 4 1 4 9 5]\n"
          ],
          "name": "stdout"
        }
      ]
    },
    {
      "cell_type": "code",
      "metadata": {
        "id": "CT--y98_dr2T",
        "colab_type": "code",
        "colab": {}
      },
      "source": [
        "layer_dict = dict([(layer.name, layer) for layer in model.layers])"
      ],
      "execution_count": 0,
      "outputs": []
    },
    {
      "cell_type": "code",
      "metadata": {
        "id": "2GY4Upv4dsUR",
        "colab_type": "code",
        "colab": {}
      },
      "source": [
        "import numpy as np\n",
        "from matplotlib import pyplot as plt\n",
        "from keras import backend as K\n",
        "%matplotlib inline\n",
        "# util function to convert a tensor into a valid image\n",
        "def deprocess_image(x):\n",
        "    # normalize tensor: center on 0., ensure std is 0.1\n",
        "    x -= x.mean()\n",
        "    x /= (x.std() + 1e-5)\n",
        "    x *= 0.1\n",
        "\n",
        "    # clip to [0, 1]\n",
        "    x += 0.5\n",
        "    x = np.clip(x, 0, 1)\n",
        "\n",
        "    # convert to RGB array\n",
        "    x *= 255\n",
        "    #x = x.transpose((1, 2, 0))\n",
        "    x = np.clip(x, 0, 255).astype('uint8')\n",
        "    return x\n",
        "\n",
        "def vis_img_in_filter(img = np.array(X_train[2]).reshape((1, 28, 28, 1)).astype(np.float64), \n",
        "                      layer_name = 'conv_8'):\n",
        "    layer_output = layer_dict[layer_name].output\n",
        "    img_ascs = list()\n",
        "    for filter_index in range(layer_output.shape[3]):\n",
        "        # build a loss function that maximizes the activation\n",
        "        # of the nth filter of the layer considered\n",
        "        loss = K.mean(layer_output[:, :, :, filter_index])\n",
        "\n",
        "        # compute the gradient of the input picture wrt this loss\n",
        "        grads = K.gradients(loss, model.input)[0]\n",
        "\n",
        "        # normalization trick: we normalize the gradient\n",
        "        grads /= (K.sqrt(K.mean(K.square(grads))) + 1e-5)\n",
        "\n",
        "        # this function returns the loss and grads given the input picture\n",
        "        iterate = K.function([model.input], [loss, grads])\n",
        "\n",
        "        # step size for gradient ascent\n",
        "        step = 5.\n",
        "\n",
        "        img_asc = np.array(img)\n",
        "        # run gradient ascent for 20 steps\n",
        "        for i in range(20):\n",
        "            loss_value, grads_value = iterate([img_asc])\n",
        "            img_asc += grads_value * step\n",
        "\n",
        "        img_asc = img_asc[0]\n",
        "        img_ascs.append(deprocess_image(img_asc).reshape((28, 28)))\n",
        "        \n",
        "    if layer_output.shape[3] >= 35:\n",
        "        plot_x, plot_y = 6, 6\n",
        "    elif layer_output.shape[3] >= 23:\n",
        "        plot_x, plot_y = 4, 6\n",
        "    elif layer_output.shape[3] >= 11:\n",
        "        plot_x, plot_y = 2, 6\n",
        "    else:\n",
        "        plot_x, plot_y = 1, 2\n",
        "    fig, ax = plt.subplots(plot_x, plot_y, figsize = (12, 12))\n",
        "    ax[0, 0].imshow(img.reshape((28, 28)), cmap = 'gray')\n",
        "    ax[0, 0].set_title('Input image')\n",
        "    fig.suptitle('Input image and %s filters' % (layer_name,))\n",
        "    fig.tight_layout(pad = 0.3, rect = [0, 0, 0.9, 0.9])\n",
        "    for (x, y) in [(i, j) for i in range(plot_x) for j in range(plot_y)]:\n",
        "        if x == 0 and y == 0:\n",
        "            continue\n",
        "        ax[x, y].imshow(img_ascs[x * plot_y + y - 1], cmap = 'gray')\n",
        "        ax[x, y].set_title('filter %d' % (x * plot_y + y - 1))\n",
        "\n",
        "vis_img_in_filter()"
      ],
      "execution_count": 0,
      "outputs": []
    },
    {
      "cell_type": "code",
      "metadata": {
        "id": "_k3yjelvsu8-",
        "colab_type": "code",
        "colab": {}
      },
      "source": [
        ""
      ],
      "execution_count": 0,
      "outputs": []
    }
  ]
}