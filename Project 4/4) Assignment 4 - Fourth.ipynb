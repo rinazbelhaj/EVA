{
  "nbformat": 4,
  "nbformat_minor": 0,
  "metadata": {
    "colab": {
      "name": "Assignment 4 - Fourth.ipynb",
      "version": "0.3.2",
      "provenance": [],
      "collapsed_sections": [],
      "include_colab_link": true
    },
    "kernelspec": {
      "name": "python3",
      "display_name": "Python 3"
    },
    "accelerator": "GPU"
  },
  "cells": [
    {
      "cell_type": "markdown",
      "metadata": {
        "id": "view-in-github",
        "colab_type": "text"
      },
      "source": [
        "<a href=\"https://colab.research.google.com/github/rinazbelhaj/EVA/blob/master/Project%204/Assignment%204%20-%20Fourth.ipynb\" target=\"_parent\"><img src=\"https://colab.research.google.com/assets/colab-badge.svg\" alt=\"Open In Colab\"/></a>"
      ]
    },
    {
      "cell_type": "markdown",
      "metadata": {
        "id": "10m6hjDt8IOO",
        "colab_type": "text"
      },
      "source": [
        "# Fourth attempt on MNIST\n",
        "\n",
        "## Main objective :\n",
        "Achieve 99.4% accuracy on MNIST data with less than 15K parameters\n",
        "\n",
        "## Previous Observations :\n",
        "\n",
        "1. The model was training faster with increased batch size. Taking 8s per epoch instead of 13s per epoch for batch size 128 v/s 32,\n",
        "2. The model was able to learning faster with batch normalization. We were able to reach 98.95% validation accuracy in 10 epochs.\n",
        "3. The model overfitting was further reduced with two additional dropout layers. \n",
        "4. We were able to reach a validation accuracy of 99.32% in 24 epochs.\n",
        "5. The validation accuracy was looking  highly volatile. This is because of the high learning rate towards the global minima. We have to fix this by introducing diminishing learning rate.\n",
        "\n",
        "## Changes in this iteration :\n",
        "\n",
        "1. Change learning rate to a higher value so that initial updates are fasters.\n",
        "2. Add decaying learning rate parameter so that learning rate diminishes over each weight updates.\n",
        "3. Add model check points to save the best model out of all the epochs."
      ]
    },
    {
      "cell_type": "markdown",
      "metadata": {
        "id": "aNyZv-Ec52ot",
        "colab_type": "text"
      },
      "source": [
        "# **Import Libraries and modules**"
      ]
    },
    {
      "cell_type": "code",
      "metadata": {
        "id": "3m3w1Cw49Zkt",
        "colab_type": "code",
        "outputId": "2c686e3f-a1ed-40f9-8127-c49026c78642",
        "colab": {
          "base_uri": "https://localhost:8080/",
          "height": 35
        }
      },
      "source": [
        "# https://keras.io/\n",
        "!pip install -q keras\n",
        "import keras"
      ],
      "execution_count": 0,
      "outputs": [
        {
          "output_type": "stream",
          "text": [
            "Using TensorFlow backend.\n"
          ],
          "name": "stderr"
        }
      ]
    },
    {
      "cell_type": "code",
      "metadata": {
        "id": "Eso6UHE080D4",
        "colab_type": "code",
        "colab": {}
      },
      "source": [
        "import numpy as np\n",
        "\n",
        "from keras.models import Sequential\n",
        "from keras.layers import Dense, Dropout, Activation, Flatten, Add\n",
        "from keras.layers import Conv2D, MaxPooling2D\n",
        "from keras.utils import np_utils\n",
        "\n",
        "from keras.datasets import mnist"
      ],
      "execution_count": 0,
      "outputs": []
    },
    {
      "cell_type": "markdown",
      "metadata": {
        "id": "zByEi95J86RD",
        "colab_type": "text"
      },
      "source": [
        "### Load pre-shuffled MNIST data into train and test sets"
      ]
    },
    {
      "cell_type": "code",
      "metadata": {
        "id": "7eRM0QWN83PV",
        "colab_type": "code",
        "colab": {}
      },
      "source": [
        "(X_train, y_train), (X_test, y_test) = mnist.load_data()"
      ],
      "execution_count": 0,
      "outputs": []
    },
    {
      "cell_type": "code",
      "metadata": {
        "id": "4a4Be72j8-ZC",
        "colab_type": "code",
        "outputId": "6d17bd40-7e21-44f5-d971-3ed924c1b08b",
        "colab": {
          "base_uri": "https://localhost:8080/",
          "height": 304
        }
      },
      "source": [
        "print (X_train.shape)\n",
        "from matplotlib import pyplot as plt\n",
        "%matplotlib inline\n",
        "plt.imshow(X_train[0])"
      ],
      "execution_count": 0,
      "outputs": [
        {
          "output_type": "stream",
          "text": [
            "(60000, 28, 28)\n"
          ],
          "name": "stdout"
        },
        {
          "output_type": "execute_result",
          "data": {
            "text/plain": [
              "<matplotlib.image.AxesImage at 0x7f6daf8c8390>"
            ]
          },
          "metadata": {
            "tags": []
          },
          "execution_count": 4
        },
        {
          "output_type": "display_data",
          "data": {
            "image/png": "[encoded data removed]",
            "text/plain": [
              "<Figure size 432x288 with 1 Axes>"
            ]
          },
          "metadata": {
            "tags": []
          }
        }
      ]
    },
    {
      "cell_type": "code",
      "metadata": {
        "id": "dkmprriw9AnZ",
        "colab_type": "code",
        "colab": {}
      },
      "source": [
        "X_train = X_train.reshape(X_train.shape[0], 28, 28,1)\n",
        "X_test = X_test.reshape(X_test.shape[0], 28, 28,1)"
      ],
      "execution_count": 0,
      "outputs": []
    },
    {
      "cell_type": "code",
      "metadata": {
        "id": "X2m4YS4E9CRh",
        "colab_type": "code",
        "colab": {}
      },
      "source": [
        "X_train = X_train.astype('float32')\n",
        "X_test = X_test.astype('float32')\n",
        "X_train /= 255\n",
        "X_test /= 255"
      ],
      "execution_count": 0,
      "outputs": []
    },
    {
      "cell_type": "code",
      "metadata": {
        "id": "0Mn0vAYD9DvB",
        "colab_type": "code",
        "outputId": "87b4ed0a-6ae3-4cf4-d9de-90e5422a00ec",
        "colab": {
          "base_uri": "https://localhost:8080/",
          "height": 35
        }
      },
      "source": [
        "y_train[:10]"
      ],
      "execution_count": 0,
      "outputs": [
        {
          "output_type": "execute_result",
          "data": {
            "text/plain": [
              "array([5, 0, 4, 1, 9, 2, 1, 3, 1, 4], dtype=uint8)"
            ]
          },
          "metadata": {
            "tags": []
          },
          "execution_count": 7
        }
      ]
    },
    {
      "cell_type": "code",
      "metadata": {
        "id": "ZG8JiXR39FHC",
        "colab_type": "code",
        "colab": {}
      },
      "source": [
        "# Convert 1-dimensional class arrays to 10-dimensional class matrices\n",
        "Y_train = np_utils.to_categorical(y_train, 10)\n",
        "Y_test = np_utils.to_categorical(y_test, 10)"
      ],
      "execution_count": 0,
      "outputs": []
    },
    {
      "cell_type": "code",
      "metadata": {
        "id": "fYlFRvKS9HMB",
        "colab_type": "code",
        "outputId": "57014784-0222-41bf-ee2a-31dbd411792e",
        "colab": {
          "base_uri": "https://localhost:8080/",
          "height": 191
        }
      },
      "source": [
        "Y_train[:10]\n"
      ],
      "execution_count": 0,
      "outputs": [
        {
          "output_type": "execute_result",
          "data": {
            "text/plain": [
              "array([[0., 0., 0., 0., 0., 1., 0., 0., 0., 0.],\n",
              "       [1., 0., 0., 0., 0., 0., 0., 0., 0., 0.],\n",
              "       [0., 0., 0., 0., 1., 0., 0., 0., 0., 0.],\n",
              "       [0., 1., 0., 0., 0., 0., 0., 0., 0., 0.],\n",
              "       [0., 0., 0., 0., 0., 0., 0., 0., 0., 1.],\n",
              "       [0., 0., 1., 0., 0., 0., 0., 0., 0., 0.],\n",
              "       [0., 1., 0., 0., 0., 0., 0., 0., 0., 0.],\n",
              "       [0., 0., 0., 1., 0., 0., 0., 0., 0., 0.],\n",
              "       [0., 1., 0., 0., 0., 0., 0., 0., 0., 0.],\n",
              "       [0., 0., 0., 0., 1., 0., 0., 0., 0., 0.]], dtype=float32)"
            ]
          },
          "metadata": {
            "tags": []
          },
          "execution_count": 9
        }
      ]
    },
    {
      "cell_type": "code",
      "metadata": {
        "id": "uKOwD4oo9mq1",
        "colab_type": "code",
        "outputId": "e458c076-1cdc-400a-a3b1-3edaec448f1c",
        "colab": {
          "base_uri": "https://localhost:8080/",
          "height": 1060
        }
      },
      "source": [
        "from keras.layers import Activation,BatchNormalization\n",
        "\n",
        "model = Sequential()\n",
        "\n",
        " \n",
        "model.add(Conv2D(10, (3, 3), activation='relu', input_shape=(28,28,1), name='conv_1')) # 26\n",
        "model.add(BatchNormalization(name='bn_1'))\n",
        "model.add(Conv2D(10, (3, 3), activation='relu', name='conv_2')) # 24\n",
        "model.add(BatchNormalization(name='bn_2'))\n",
        "model.add(Conv2D(10, (3, 3), activation='relu', name='conv_3')) # 22\n",
        "model.add(BatchNormalization(name='bn_3'))\n",
        "model.add(Dropout(0.10,name='dropout_1'))\n",
        "\n",
        "model.add(MaxPooling2D(pool_size=(2, 2), name='pool_1')) # 11\n",
        "\n",
        "model.add(Conv2D(10, (3, 3), activation='relu', name='conv_4')) # 9\n",
        "model.add(BatchNormalization(name='bn_4'))\n",
        "model.add(Conv2D(10, (3, 3), activation='relu', name='conv_5')) # 7\n",
        "model.add(BatchNormalization(name='bn_5'))\n",
        "model.add(Dropout(0.10,name='dropout_2'))\n",
        "model.add(Conv2D(32, (3, 3), activation='relu', name='conv_6')) # 5\n",
        "model.add(BatchNormalization(name='bn_6'))\n",
        "model.add(Dropout(0.10,name='dropout_3'))\n",
        "\n",
        "model.add(Conv2D(10, (1, 1), activation='relu', name='conv_6a')) # 5\n",
        "model.add(BatchNormalization(name='bn_7'))\n",
        "model.add(Conv2D(10, (3, 3), activation='relu', name='conv_7')) #3\n",
        "model.add(BatchNormalization(name='bn_8'))\n",
        "model.add(Conv2D(10, (3, 3), name='conv_8')) # 1\n",
        "model.add(Flatten(name='flatten'))\n",
        "model.add(Activation('softmax', name='softmax'))\n",
        "\n",
        "model.summary()"
      ],
      "execution_count": 0,
      "outputs": [
        {
          "output_type": "stream",
          "text": [
            "WARNING:tensorflow:From /usr/local/lib/python3.6/dist-packages/tensorflow/python/framework/op_def_library.py:263: colocate_with (from tensorflow.python.framework.ops) is deprecated and will be removed in a future version.\n",
            "Instructions for updating:\n",
            "Colocations handled automatically by placer.\n",
            "WARNING:tensorflow:From /usr/local/lib/python3.6/dist-packages/keras/backend/tensorflow_backend.py:3445: calling dropout (from tensorflow.python.ops.nn_ops) with keep_prob is deprecated and will be removed in a future version.\n",
            "Instructions for updating:\n",
            "Please use `rate` instead of `keep_prob`. Rate should be set to `rate = 1 - keep_prob`.\n",
            "_________________________________________________________________\n",
            "Layer (type)                 Output Shape              Param #   \n",
            "=================================================================\n",
            "conv_1 (Conv2D)              (None, 26, 26, 10)        100       \n",
            "_________________________________________________________________\n",
            "bn_1 (BatchNormalization)    (None, 26, 26, 10)        40        \n",
            "_________________________________________________________________\n",
            "conv_2 (Conv2D)              (None, 24, 24, 10)        910       \n",
            "_________________________________________________________________\n",
            "bn_2 (BatchNormalization)    (None, 24, 24, 10)        40        \n",
            "_________________________________________________________________\n",
            "conv_3 (Conv2D)              (None, 22, 22, 10)        910       \n",
            "_________________________________________________________________\n",
            "bn_3 (BatchNormalization)    (None, 22, 22, 10)        40        \n",
            "_________________________________________________________________\n",
            "dropout_1 (Dropout)          (None, 22, 22, 10)        0         \n",
            "_________________________________________________________________\n",
            "pool_1 (MaxPooling2D)        (None, 11, 11, 10)        0         \n",
            "_________________________________________________________________\n",
            "conv_4 (Conv2D)              (None, 9, 9, 10)          910       \n",
            "_________________________________________________________________\n",
            "bn_4 (BatchNormalization)    (None, 9, 9, 10)          40        \n",
            "_________________________________________________________________\n",
            "conv_5 (Conv2D)              (None, 7, 7, 10)          910       \n",
            "_________________________________________________________________\n",
            "bn_5 (BatchNormalization)    (None, 7, 7, 10)          40        \n",
            "_________________________________________________________________\n",
            "dropout_2 (Dropout)          (None, 7, 7, 10)          0         \n",
            "_________________________________________________________________\n",
            "conv_6 (Conv2D)              (None, 5, 5, 32)          2912      \n",
            "_________________________________________________________________\n",
            "bn_6 (BatchNormalization)    (None, 5, 5, 32)          128       \n",
            "_________________________________________________________________\n",
            "dropout_3 (Dropout)          (None, 5, 5, 32)          0         \n",
            "_________________________________________________________________\n",
            "conv_6a (Conv2D)             (None, 5, 5, 10)          330       \n",
            "_________________________________________________________________\n",
            "bn_7 (BatchNormalization)    (None, 5, 5, 10)          40        \n",
            "_________________________________________________________________\n",
            "conv_7 (Conv2D)              (None, 3, 3, 10)          910       \n",
            "_________________________________________________________________\n",
            "bn_8 (BatchNormalization)    (None, 3, 3, 10)          40        \n",
            "_________________________________________________________________\n",
            "conv_8 (Conv2D)              (None, 1, 1, 10)          910       \n",
            "_________________________________________________________________\n",
            "flatten (Flatten)            (None, 10)                0         \n",
            "_________________________________________________________________\n",
            "softmax (Activation)         (None, 10)                0         \n",
            "=================================================================\n",
            "Total params: 9,210\n",
            "Trainable params: 9,006\n",
            "Non-trainable params: 204\n",
            "_________________________________________________________________\n"
          ],
          "name": "stdout"
        }
      ]
    },
    {
      "cell_type": "code",
      "metadata": {
        "id": "js67VYrrYl2x",
        "colab_type": "code",
        "colab": {}
      },
      "source": [
        "from keras.optimizers import Adam\n",
        "adam = Adam(lr=0.04, beta_1=0.9, beta_2=0.999, epsilon=None, decay=0.01, amsgrad=False)\n",
        "\n",
        "model.compile(loss='categorical_crossentropy',\n",
        "             optimizer=adam,\n",
        "             metrics=['accuracy'])"
      ],
      "execution_count": 0,
      "outputs": []
    },
    {
      "cell_type": "code",
      "metadata": {
        "id": "MOEPpxczbQ9n",
        "colab_type": "code",
        "outputId": "c544f4ac-5cfb-4e4f-82b7-872aa5967b80",
        "colab": {
          "base_uri": "https://localhost:8080/",
          "height": 919
        }
      },
      "source": [
        "from keras.callbacks import ModelCheckpoint\n",
        "checkpointer = ModelCheckpoint(filepath=\"best_weights.hdf5\", monitor = 'val_acc', verbose=0, save_best_only=True)\n",
        "\n",
        "model.fit(X_train, Y_train, batch_size=128, epochs=25, validation_data=(X_test, Y_test), callbacks=[checkpointer], verbose=1)"
      ],
      "execution_count": 0,
      "outputs": [
        {
          "output_type": "stream",
          "text": [
            "Train on 60000 samples, validate on 10000 samples\n",
            "Epoch 1/25\n",
            "60000/60000 [==============================] - 11s 186us/step - loss: 0.0527 - acc: 0.9839 - val_loss: 0.0318 - val_acc: 0.9896\n",
            "Epoch 2/25\n",
            "60000/60000 [==============================] - 7s 118us/step - loss: 0.0236 - acc: 0.9924 - val_loss: 0.0277 - val_acc: 0.9928\n",
            "Epoch 3/25\n",
            "60000/60000 [==============================] - 7s 118us/step - loss: 0.0185 - acc: 0.9940 - val_loss: 0.0231 - val_acc: 0.9929\n",
            "Epoch 4/25\n",
            "60000/60000 [==============================] - 7s 118us/step - loss: 0.0164 - acc: 0.9948 - val_loss: 0.0242 - val_acc: 0.9929\n",
            "Epoch 5/25\n",
            "60000/60000 [==============================] - 7s 118us/step - loss: 0.0143 - acc: 0.9953 - val_loss: 0.0243 - val_acc: 0.9928\n",
            "Epoch 6/25\n",
            "60000/60000 [==============================] - 7s 119us/step - loss: 0.0130 - acc: 0.9958 - val_loss: 0.0263 - val_acc: 0.9928\n",
            "Epoch 7/25\n",
            "60000/60000 [==============================] - 8s 132us/step - loss: 0.0121 - acc: 0.9961 - val_loss: 0.0234 - val_acc: 0.9934\n",
            "Epoch 8/25\n",
            "60000/60000 [==============================] - 7s 122us/step - loss: 0.0116 - acc: 0.9965 - val_loss: 0.0212 - val_acc: 0.9946\n",
            "Epoch 9/25\n",
            "60000/60000 [==============================] - 7s 118us/step - loss: 0.0120 - acc: 0.9960 - val_loss: 0.0229 - val_acc: 0.9937\n",
            "Epoch 10/25\n",
            "60000/60000 [==============================] - 7s 118us/step - loss: 0.0108 - acc: 0.9964 - val_loss: 0.0235 - val_acc: 0.9935\n",
            "Epoch 11/25\n",
            "60000/60000 [==============================] - 7s 118us/step - loss: 0.0099 - acc: 0.9968 - val_loss: 0.0238 - val_acc: 0.9936\n",
            "Epoch 12/25\n",
            "60000/60000 [==============================] - 7s 118us/step - loss: 0.0092 - acc: 0.9969 - val_loss: 0.0242 - val_acc: 0.9930\n",
            "Epoch 13/25\n",
            "60000/60000 [==============================] - 7s 118us/step - loss: 0.0093 - acc: 0.9970 - val_loss: 0.0235 - val_acc: 0.9937\n",
            "Epoch 14/25\n",
            "60000/60000 [==============================] - 7s 118us/step - loss: 0.0094 - acc: 0.9970 - val_loss: 0.0233 - val_acc: 0.9938\n",
            "Epoch 15/25\n",
            "60000/60000 [==============================] - 7s 117us/step - loss: 0.0085 - acc: 0.9973 - val_loss: 0.0231 - val_acc: 0.9941\n",
            "Epoch 16/25\n",
            "60000/60000 [==============================] - 7s 117us/step - loss: 0.0080 - acc: 0.9974 - val_loss: 0.0226 - val_acc: 0.9945\n",
            "Epoch 17/25\n",
            "60000/60000 [==============================] - 7s 118us/step - loss: 0.0077 - acc: 0.9975 - val_loss: 0.0238 - val_acc: 0.9938\n",
            "Epoch 18/25\n",
            "60000/60000 [==============================] - 8s 129us/step - loss: 0.0076 - acc: 0.9977 - val_loss: 0.0231 - val_acc: 0.9938\n",
            "Epoch 19/25\n",
            "60000/60000 [==============================] - 7s 124us/step - loss: 0.0072 - acc: 0.9978 - val_loss: 0.0228 - val_acc: 0.9937\n",
            "Epoch 20/25\n",
            "60000/60000 [==============================] - 7s 117us/step - loss: 0.0076 - acc: 0.9976 - val_loss: 0.0234 - val_acc: 0.9935\n",
            "Epoch 21/25\n",
            "60000/60000 [==============================] - 7s 117us/step - loss: 0.0072 - acc: 0.9975 - val_loss: 0.0240 - val_acc: 0.9942\n",
            "Epoch 22/25\n",
            "60000/60000 [==============================] - 7s 118us/step - loss: 0.0071 - acc: 0.9978 - val_loss: 0.0235 - val_acc: 0.9940\n",
            "Epoch 23/25\n",
            "60000/60000 [==============================] - 7s 117us/step - loss: 0.0082 - acc: 0.9974 - val_loss: 0.0223 - val_acc: 0.9944\n",
            "Epoch 24/25\n",
            "60000/60000 [==============================] - 7s 117us/step - loss: 0.0074 - acc: 0.9976 - val_loss: 0.0227 - val_acc: 0.9942\n",
            "Epoch 25/25\n",
            "60000/60000 [==============================] - 7s 118us/step - loss: 0.0073 - acc: 0.9976 - val_loss: 0.0229 - val_acc: 0.9942\n"
          ],
          "name": "stdout"
        },
        {
          "output_type": "execute_result",
          "data": {
            "text/plain": [
              "<keras.callbacks.History at 0x7f6d5b8df6a0>"
            ]
          },
          "metadata": {
            "tags": []
          },
          "execution_count": 39
        }
      ]
    },
    {
      "cell_type": "code",
      "metadata": {
        "id": "psjpkSTOZ1gT",
        "colab_type": "code",
        "colab": {}
      },
      "source": [
        "model.load_weights('best_weights.hdf5')\n",
        "score = model.evaluate(X_test, Y_test,verbose=0)"
      ],
      "execution_count": 0,
      "outputs": []
    },
    {
      "cell_type": "code",
      "metadata": {
        "id": "gCOIS4m8bK1a",
        "colab_type": "code",
        "outputId": "c7c62d6e-24b0-4c6a-8431-5796282c9c24",
        "colab": {
          "base_uri": "https://localhost:8080/",
          "height": 35
        }
      },
      "source": [
        "print(score)"
      ],
      "execution_count": 0,
      "outputs": [
        {
          "output_type": "stream",
          "text": [
            "[0.021159460483758448, 0.9946]\n"
          ],
          "name": "stdout"
        }
      ]
    },
    {
      "cell_type": "code",
      "metadata": {
        "id": "OCWoJkwE9suh",
        "colab_type": "code",
        "colab": {}
      },
      "source": [
        "y_pred = model.predict(X_test)"
      ],
      "execution_count": 0,
      "outputs": []
    },
    {
      "cell_type": "code",
      "metadata": {
        "id": "Ym7iCFBm9uBs",
        "colab_type": "code",
        "outputId": "9958d57b-f4e9-44d4-b7f0-bdcf1c2d7a18",
        "colab": {
          "base_uri": "https://localhost:8080/",
          "height": 503
        }
      },
      "source": [
        "print(y_pred[:9])\n",
        "print(y_test[:9])"
      ],
      "execution_count": 0,
      "outputs": [
        {
          "output_type": "stream",
          "text": [
            "[[1.27809041e-10 6.36368682e-08 3.62272402e-07 7.58629568e-08\n",
            "  1.35064520e-11 4.39341705e-12 3.77590618e-13 9.99999404e-01\n",
            "  2.90047142e-09 9.53004076e-08]\n",
            " [1.43637408e-07 1.44414071e-06 9.99998212e-01 2.21346008e-09\n",
            "  1.87848897e-07 9.14215405e-12 3.45752440e-08 1.35698501e-08\n",
            "  2.52203303e-09 9.37687211e-13]\n",
            " [8.96998014e-12 1.00000000e+00 1.27095154e-10 5.03264874e-10\n",
            "  1.49694568e-08 2.08642459e-09 9.58159885e-10 4.10262091e-09\n",
            "  5.12493437e-10 1.43147256e-11]\n",
            " [9.99997973e-01 2.86201271e-11 1.62823074e-10 7.90876566e-12\n",
            "  1.09852037e-10 3.69699897e-08 1.98816770e-06 2.66133643e-11\n",
            "  9.37913747e-10 3.35974839e-08]\n",
            " [7.97660115e-13 1.96980062e-12 1.64912311e-12 4.44744203e-14\n",
            "  1.00000000e+00 1.29742050e-11 6.49647836e-10 7.73327374e-11\n",
            "  1.29265626e-10 4.08731431e-08]\n",
            " [1.04847433e-11 9.99999404e-01 3.89024785e-10 2.83997881e-10\n",
            "  1.91747489e-07 6.88061830e-11 7.97322763e-11 4.55059279e-07\n",
            "  3.64563102e-10 1.80284315e-10]\n",
            " [5.65531962e-11 1.71259744e-05 5.80818842e-08 8.71918449e-09\n",
            "  9.99387145e-01 2.12972697e-08 2.72946998e-08 3.31872376e-04\n",
            "  5.21121046e-06 2.58533226e-04]\n",
            " [5.15267345e-07 7.44359518e-10 1.00123136e-08 2.26774523e-06\n",
            "  2.04095151e-03 4.01544042e-07 2.69732281e-09 3.79116358e-07\n",
            "  8.93303149e-06 9.97946560e-01]\n",
            " [1.97785936e-04 1.03086172e-10 5.23280441e-09 9.18565377e-07\n",
            "  1.08020659e-09 1.20178930e-01 8.79595459e-01 1.82317379e-08\n",
            "  1.33797457e-05 1.34637385e-05]]\n",
            "[7 2 1 0 4 1 4 9 5]\n"
          ],
          "name": "stdout"
        }
      ]
    },
    {
      "cell_type": "code",
      "metadata": {
        "id": "CT--y98_dr2T",
        "colab_type": "code",
        "colab": {}
      },
      "source": [
        "layer_dict = dict([(layer.name, layer) for layer in model.layers])"
      ],
      "execution_count": 0,
      "outputs": []
    },
    {
      "cell_type": "code",
      "metadata": {
        "id": "2GY4Upv4dsUR",
        "colab_type": "code",
        "outputId": "c46bcbd8-de81-43c2-ffd8-b9ae90ddcf10",
        "colab": {
          "base_uri": "https://localhost:8080/",
          "height": 1017
        }
      },
      "source": [
        "import numpy as np\n",
        "from matplotlib import pyplot as plt\n",
        "from keras import backend as K\n",
        "%matplotlib inline\n",
        "# util function to convert a tensor into a valid image\n",
        "def deprocess_image(x):\n",
        "    # normalize tensor: center on 0., ensure std is 0.1\n",
        "    x -= x.mean()\n",
        "    x /= (x.std() + 1e-5)\n",
        "    x *= 0.1\n",
        "\n",
        "    # clip to [0, 1]\n",
        "    x += 0.5\n",
        "    x = np.clip(x, 0, 1)\n",
        "\n",
        "    # convert to RGB array\n",
        "    x *= 255\n",
        "    #x = x.transpose((1, 2, 0))\n",
        "    x = np.clip(x, 0, 255).astype('uint8')\n",
        "    return x\n",
        "\n",
        "def vis_img_in_filter(img = np.array(X_train[2]).reshape((1, 28, 28, 1)).astype(np.float64), \n",
        "                      layer_name = 'conv_5'):\n",
        "    layer_output = layer_dict[layer_name].output\n",
        "    img_ascs = list()\n",
        "    for filter_index in range(layer_output.shape[3]):\n",
        "        # build a loss function that maximizes the activation\n",
        "        # of the nth filter of the layer considered\n",
        "        loss = K.mean(layer_output[:, :, :, filter_index])\n",
        "\n",
        "        # compute the gradient of the input picture wrt this loss\n",
        "        grads = K.gradients(loss, model.input)[0]\n",
        "\n",
        "        # normalization trick: we normalize the gradient\n",
        "        grads /= (K.sqrt(K.mean(K.square(grads))) + 1e-5)\n",
        "\n",
        "        # this function returns the loss and grads given the input picture\n",
        "        iterate = K.function([model.input], [loss, grads])\n",
        "\n",
        "        # step size for gradient ascent\n",
        "        step = 5.\n",
        "\n",
        "        img_asc = np.array(img)\n",
        "        # run gradient ascent for 20 steps\n",
        "        for i in range(20):\n",
        "            loss_value, grads_value = iterate([img_asc])\n",
        "            img_asc += grads_value * step\n",
        "\n",
        "        img_asc = img_asc[0]\n",
        "        img_ascs.append(deprocess_image(img_asc).reshape((28, 28)))\n",
        "        \n",
        "    print(\"Number of Filters : \",layer_output.shape[3])\n",
        "    if layer_output.shape[3] >= 35:\n",
        "        plot_x, plot_y = 6, 6\n",
        "    elif layer_output.shape[3] >= 23:\n",
        "        plot_x, plot_y = 4, 8\n",
        "    elif layer_output.shape[3] >= 11:\n",
        "        plot_x, plot_y = 2, 6\n",
        "    elif layer_output.shape[3] >= 5:\n",
        "        plot_x, plot_y = 2, 5\n",
        "    else:\n",
        "        plot_x, plot_y = 1, 2\n",
        "    fig, ax = plt.subplots(plot_x, plot_y, figsize = (16, 16))\n",
        "    ax[0, 0].imshow(img.reshape((28, 28)), cmap = 'gray')\n",
        "    ax[0, 0].set_title('Input image')\n",
        "    fig.suptitle('Input image and %s filters' % (layer_name,))\n",
        "    fig.tight_layout(pad = 0.0, rect = [0, 0, 0.9, 0.9])\n",
        "    for (x, y) in [(i, j) for i in range(plot_x) for j in range(plot_y)]:\n",
        "        if x == 0 and y == 0:\n",
        "            continue\n",
        "        ax[x, y].imshow(img_ascs[x * plot_y + y - 1], cmap = 'gray')\n",
        "        ax[x, y].set_title('filter %d' % (x * plot_y + y - 1))\n",
        "\n",
        "vis_img_in_filter()"
      ],
      "execution_count": 0,
      "outputs": [
        {
          "output_type": "stream",
          "text": [
            "Number of Filters :  10\n"
          ],
          "name": "stdout"
        },
        {
          "output_type": "display_data",
          "data": {
            "image/png": "[encoded data removed]",
            "text/plain": [
              "<Figure size 1152x1152 with 10 Axes>"
            ]
          },
          "metadata": {
            "tags": []
          }
        }
      ]
    },
    {
      "cell_type": "markdown",
      "metadata": {
        "id": "hT1UmRT2JcWd",
        "colab_type": "text"
      },
      "source": [
        "# Observations :\n",
        "\n",
        "1. We were able to reach a validation accuracy of 99.46% in 8 epochs.\n",
        "2. Training/validation accuracy has high volatility in the starting because of a large learning rate.\n",
        "3. The validation accuracy looks stable towards the end. This is because of the diminishing learning rate which prevents oscillations around the global minima.\n",
        "\n",
        "\n",
        "# Conclusion:\n",
        "\n",
        "We were able to achieve the objective of 99.4% validation accuracy using less than 15K parameters with the help of the following concepts.\n",
        "\n",
        "1. Reduced number of kernels to reduce parameters\n",
        "2. 1x1 Convolutions to reduce channel size thereby reduce parameters\n",
        "3. Dropouts to prevent overfitting\n",
        "4. Bigger batch size to improve training speed\n",
        "5. Batch normalization to reach target accuracy faster\n",
        "6. Increased learning rate to speed up weight updates in the initial epochs\n",
        "7. Decaying learning rate to reduce oscillations around global minima\n",
        "8. Model checkpoints to save the best model.\n"
      ]
    },
    {
      "cell_type": "code",
      "metadata": {
        "id": "9tvptcn8dxvp",
        "colab_type": "code",
        "colab": {}
      },
      "source": [
        ""
      ],
      "execution_count": 0,
      "outputs": []
    }
  ]
}
