{
  "nbformat": 4,
  "nbformat_minor": 0,
  "metadata": {
    "colab": {
      "name": "Assignment 4 - Third.ipynb",
      "version": "0.3.2",
      "provenance": [],
      "collapsed_sections": [],
      "include_colab_link": true
    },
    "kernelspec": {
      "name": "python3",
      "display_name": "Python 3"
    },
    "accelerator": "GPU"
  },
  "cells": [
    {
      "cell_type": "markdown",
      "metadata": {
        "id": "view-in-github",
        "colab_type": "text"
      },
      "source": [
        "<a href=\"https://colab.research.google.com/github/rinazbelhaj/EVA/blob/master/Project%204/Assignment%204%20-%20Third.ipynb\" target=\"_parent\"><img src=\"https://colab.research.google.com/assets/colab-badge.svg\" alt=\"Open In Colab\"/></a>"
      ]
    },
    {
      "cell_type": "markdown",
      "metadata": {
        "id": "10m6hjDt8IOO",
        "colab_type": "text"
      },
      "source": [
        "# Third attempt on MNIST\n",
        "\n",
        "## Main objective :\n",
        "Achieve 99.4% accuracy on MNIST data with less than 15K parameters\n",
        "\n",
        "## Previous Observations :\n",
        "\n",
        "1. The model was still able to learning even after we reduced the number of parameters.But we were only able to reach 98.84% validation accuracy in 10 epochs..\n",
        "\n",
        "2. The model is also not overfitting. This means adding the drop out worked.\n",
        "\n",
        "3. Using 1x1 convolutions and lesser number of filters, we were able to satisfy the constrain of less than 15 K parameters.\n",
        "\n",
        "4. The Model was learning slowly as compared to previous model. We will have to fix this in the next iteration.\n",
        "\n",
        "## Changes in this iteration :\n",
        "\n",
        "1. Increase batch size from 32 to 128 to speed up the training process.\n",
        "\n",
        "2. Add Batch Normalization to reduce the time to reach 99+ accuracy.\n",
        "\n",
        "3. Add more drop out layers to further reduce overfitting."
      ]
    },
    {
      "cell_type": "markdown",
      "metadata": {
        "id": "aNyZv-Ec52ot",
        "colab_type": "text"
      },
      "source": [
        "# **Import Libraries and modules**"
      ]
    },
    {
      "cell_type": "code",
      "metadata": {
        "id": "3m3w1Cw49Zkt",
        "colab_type": "code",
        "outputId": "f061bd31-e22d-4652-e3ff-b4e49bfb3d01",
        "colab": {
          "base_uri": "https://localhost:8080/",
          "height": 35
        }
      },
      "source": [
        "# https://keras.io/\n",
        "!pip install -q keras\n",
        "import keras"
      ],
      "execution_count": 0,
      "outputs": [
        {
          "output_type": "stream",
          "text": [
            "Using TensorFlow backend.\n"
          ],
          "name": "stderr"
        }
      ]
    },
    {
      "cell_type": "code",
      "metadata": {
        "id": "Eso6UHE080D4",
        "colab_type": "code",
        "colab": {}
      },
      "source": [
        "import numpy as np\n",
        "\n",
        "from keras.models import Sequential\n",
        "from keras.layers import Dense, Dropout, Activation, Flatten, Add\n",
        "from keras.layers import Conv2D, MaxPooling2D\n",
        "from keras.utils import np_utils\n",
        "\n",
        "from keras.datasets import mnist"
      ],
      "execution_count": 0,
      "outputs": []
    },
    {
      "cell_type": "markdown",
      "metadata": {
        "id": "zByEi95J86RD",
        "colab_type": "text"
      },
      "source": [
        "### Load pre-shuffled MNIST data into train and test sets"
      ]
    },
    {
      "cell_type": "code",
      "metadata": {
        "id": "7eRM0QWN83PV",
        "colab_type": "code",
        "outputId": "786aca6a-c71a-4275-bee8-0ea3138b46d3",
        "colab": {
          "base_uri": "https://localhost:8080/",
          "height": 52
        }
      },
      "source": [
        "(X_train, y_train), (X_test, y_test) = mnist.load_data()"
      ],
      "execution_count": 0,
      "outputs": [
        {
          "output_type": "stream",
          "text": [
            "Downloading data from https://s3.amazonaws.com/img-datasets/mnist.npz\n",
            "11493376/11490434 [==============================] - 1s 0us/step\n"
          ],
          "name": "stdout"
        }
      ]
    },
    {
      "cell_type": "code",
      "metadata": {
        "id": "4a4Be72j8-ZC",
        "colab_type": "code",
        "outputId": "5830fc14-0a6a-4f12-b0d4-bcee99acf988",
        "colab": {
          "base_uri": "https://localhost:8080/",
          "height": 304
        }
      },
      "source": [
        "print (X_train.shape)\n",
        "from matplotlib import pyplot as plt\n",
        "%matplotlib inline\n",
        "plt.imshow(X_train[0])"
      ],
      "execution_count": 0,
      "outputs": [
        {
          "output_type": "stream",
          "text": [
            "(60000, 28, 28)\n"
          ],
          "name": "stdout"
        },
        {
          "output_type": "execute_result",
          "data": {
            "text/plain": [
              "<matplotlib.image.AxesImage at 0x7fe3016ff898>"
            ]
          },
          "metadata": {
            "tags": []
          },
          "execution_count": 4
        },
        {
          "output_type": "display_data",
          "data": {
            "image/png": "[encoded data removed]",
            "text/plain": [
              "<Figure size 432x288 with 1 Axes>"
            ]
          },
          "metadata": {
            "tags": []
          }
        }
      ]
    },
    {
      "cell_type": "code",
      "metadata": {
        "id": "dkmprriw9AnZ",
        "colab_type": "code",
        "colab": {}
      },
      "source": [
        "X_train = X_train.reshape(X_train.shape[0], 28, 28,1)\n",
        "X_test = X_test.reshape(X_test.shape[0], 28, 28,1)"
      ],
      "execution_count": 0,
      "outputs": []
    },
    {
      "cell_type": "code",
      "metadata": {
        "id": "X2m4YS4E9CRh",
        "colab_type": "code",
        "colab": {}
      },
      "source": [
        "X_train = X_train.astype('float32')\n",
        "X_test = X_test.astype('float32')\n",
        "X_train /= 255\n",
        "X_test /= 255"
      ],
      "execution_count": 0,
      "outputs": []
    },
    {
      "cell_type": "code",
      "metadata": {
        "id": "0Mn0vAYD9DvB",
        "colab_type": "code",
        "outputId": "8bb905c6-7930-456d-a66e-3f9c4d7a54f9",
        "colab": {
          "base_uri": "https://localhost:8080/",
          "height": 35
        }
      },
      "source": [
        "y_train[:10]"
      ],
      "execution_count": 0,
      "outputs": [
        {
          "output_type": "execute_result",
          "data": {
            "text/plain": [
              "array([5, 0, 4, 1, 9, 2, 1, 3, 1, 4], dtype=uint8)"
            ]
          },
          "metadata": {
            "tags": []
          },
          "execution_count": 7
        }
      ]
    },
    {
      "cell_type": "code",
      "metadata": {
        "id": "ZG8JiXR39FHC",
        "colab_type": "code",
        "colab": {}
      },
      "source": [
        "# Convert 1-dimensional class arrays to 10-dimensional class matrices\n",
        "Y_train = np_utils.to_categorical(y_train, 10)\n",
        "Y_test = np_utils.to_categorical(y_test, 10)"
      ],
      "execution_count": 0,
      "outputs": []
    },
    {
      "cell_type": "code",
      "metadata": {
        "id": "fYlFRvKS9HMB",
        "colab_type": "code",
        "outputId": "9b162a26-31a7-4897-c7e2-3617f340ef8d",
        "colab": {
          "base_uri": "https://localhost:8080/",
          "height": 191
        }
      },
      "source": [
        "Y_train[:10]\n"
      ],
      "execution_count": 0,
      "outputs": [
        {
          "output_type": "execute_result",
          "data": {
            "text/plain": [
              "array([[0., 0., 0., 0., 0., 1., 0., 0., 0., 0.],\n",
              "       [1., 0., 0., 0., 0., 0., 0., 0., 0., 0.],\n",
              "       [0., 0., 0., 0., 1., 0., 0., 0., 0., 0.],\n",
              "       [0., 1., 0., 0., 0., 0., 0., 0., 0., 0.],\n",
              "       [0., 0., 0., 0., 0., 0., 0., 0., 0., 1.],\n",
              "       [0., 0., 1., 0., 0., 0., 0., 0., 0., 0.],\n",
              "       [0., 1., 0., 0., 0., 0., 0., 0., 0., 0.],\n",
              "       [0., 0., 0., 1., 0., 0., 0., 0., 0., 0.],\n",
              "       [0., 1., 0., 0., 0., 0., 0., 0., 0., 0.],\n",
              "       [0., 0., 0., 0., 1., 0., 0., 0., 0., 0.]], dtype=float32)"
            ]
          },
          "metadata": {
            "tags": []
          },
          "execution_count": 9
        }
      ]
    },
    {
      "cell_type": "code",
      "metadata": {
        "id": "uKOwD4oo9mq1",
        "colab_type": "code",
        "outputId": "ce388690-9fab-467b-ca53-9674f3fa2af5",
        "colab": {
          "base_uri": "https://localhost:8080/",
          "height": 936
        }
      },
      "source": [
        "from keras.layers import Activation,BatchNormalization\n",
        "model = Sequential()\n",
        "\n",
        " \n",
        "model.add(Conv2D(10, (3, 3), activation='relu', input_shape=(28,28,1), name='conv_1')) # 26\n",
        "model.add(BatchNormalization(name='bn_1'))\n",
        "model.add(Conv2D(10, (3, 3), activation='relu', name='conv_2')) # 24\n",
        "model.add(BatchNormalization(name='bn_2'))\n",
        "model.add(Conv2D(10, (3, 3), activation='relu', name='conv_3')) # 22\n",
        "model.add(BatchNormalization(name='bn_3'))\n",
        "model.add(Dropout(0.10,name='dropout_1'))\n",
        "\n",
        "model.add(MaxPooling2D(pool_size=(2, 2), name='pool_1')) # 11\n",
        "\n",
        "model.add(Conv2D(10, (3, 3), activation='relu', name='conv_4')) # 9\n",
        "model.add(BatchNormalization(name='bn_4'))\n",
        "model.add(Conv2D(10, (3, 3), activation='relu', name='conv_5')) # 7\n",
        "model.add(BatchNormalization(name='bn_5'))\n",
        "model.add(Dropout(0.10,name='dropout_2'))\n",
        "model.add(Conv2D(32, (3, 3), activation='relu', name='conv_6')) # 5\n",
        "model.add(BatchNormalization(name='bn_6'))\n",
        "model.add(Dropout(0.10,name='dropout_3'))\n",
        "\n",
        "model.add(Conv2D(10, (1, 1), activation='relu', name='conv_6a')) # 5\n",
        "model.add(BatchNormalization(name='bn_7'))\n",
        "model.add(Conv2D(10, (3, 3), activation='relu', name='conv_7')) #3\n",
        "model.add(BatchNormalization(name='bn_8'))\n",
        "model.add(Conv2D(10, (3, 3), name='conv_8')) # 1\n",
        "model.add(Flatten(name='flatten'))\n",
        "model.add(Activation('softmax', name='softmax'))\n",
        "\n",
        "model.summary()"
      ],
      "execution_count": 0,
      "outputs": [
        {
          "output_type": "stream",
          "text": [
            "_________________________________________________________________\n",
            "Layer (type)                 Output Shape              Param #   \n",
            "=================================================================\n",
            "conv_1 (Conv2D)              (None, 26, 26, 10)        100       \n",
            "_________________________________________________________________\n",
            "bn_1 (BatchNormalization)    (None, 26, 26, 10)        40        \n",
            "_________________________________________________________________\n",
            "conv_2 (Conv2D)              (None, 24, 24, 10)        910       \n",
            "_________________________________________________________________\n",
            "bn_2 (BatchNormalization)    (None, 24, 24, 10)        40        \n",
            "_________________________________________________________________\n",
            "conv_3 (Conv2D)              (None, 22, 22, 10)        910       \n",
            "_________________________________________________________________\n",
            "bn_3 (BatchNormalization)    (None, 22, 22, 10)        40        \n",
            "_________________________________________________________________\n",
            "dropout_1 (Dropout)          (None, 22, 22, 10)        0         \n",
            "_________________________________________________________________\n",
            "pool_1 (MaxPooling2D)        (None, 11, 11, 10)        0         \n",
            "_________________________________________________________________\n",
            "conv_4 (Conv2D)              (None, 9, 9, 10)          910       \n",
            "_________________________________________________________________\n",
            "bn_4 (BatchNormalization)    (None, 9, 9, 10)          40        \n",
            "_________________________________________________________________\n",
            "conv_5 (Conv2D)              (None, 7, 7, 10)          910       \n",
            "_________________________________________________________________\n",
            "bn_5 (BatchNormalization)    (None, 7, 7, 10)          40        \n",
            "_________________________________________________________________\n",
            "dropout_2 (Dropout)          (None, 7, 7, 10)          0         \n",
            "_________________________________________________________________\n",
            "conv_6 (Conv2D)              (None, 5, 5, 32)          2912      \n",
            "_________________________________________________________________\n",
            "bn_6 (BatchNormalization)    (None, 5, 5, 32)          128       \n",
            "_________________________________________________________________\n",
            "dropout_3 (Dropout)          (None, 5, 5, 32)          0         \n",
            "_________________________________________________________________\n",
            "conv_6a (Conv2D)             (None, 5, 5, 10)          330       \n",
            "_________________________________________________________________\n",
            "bn_7 (BatchNormalization)    (None, 5, 5, 10)          40        \n",
            "_________________________________________________________________\n",
            "conv_7 (Conv2D)              (None, 3, 3, 10)          910       \n",
            "_________________________________________________________________\n",
            "bn_8 (BatchNormalization)    (None, 3, 3, 10)          40        \n",
            "_________________________________________________________________\n",
            "conv_8 (Conv2D)              (None, 1, 1, 10)          910       \n",
            "_________________________________________________________________\n",
            "flatten (Flatten)            (None, 10)                0         \n",
            "_________________________________________________________________\n",
            "softmax (Activation)         (None, 10)                0         \n",
            "=================================================================\n",
            "Total params: 9,210\n",
            "Trainable params: 9,006\n",
            "Non-trainable params: 204\n",
            "_________________________________________________________________\n"
          ],
          "name": "stdout"
        }
      ]
    },
    {
      "cell_type": "code",
      "metadata": {
        "id": "Zp6SuGrL9M3h",
        "colab_type": "code",
        "colab": {}
      },
      "source": [
        "model.compile(loss='categorical_crossentropy',\n",
        "             optimizer='adam',\n",
        "             metrics=['accuracy'])"
      ],
      "execution_count": 0,
      "outputs": []
    },
    {
      "cell_type": "code",
      "metadata": {
        "id": "5hprJIuZO6RM",
        "colab_type": "code",
        "outputId": "e36669c8-7749-4369-9084-1c7927094c6c",
        "colab": {
          "base_uri": "https://localhost:8080/",
          "height": 919
        }
      },
      "source": [
        "model.fit(X_train, Y_train, batch_size=128, epochs=25, validation_data=(X_test, Y_test), verbose=1)"
      ],
      "execution_count": 0,
      "outputs": [
        {
          "output_type": "stream",
          "text": [
            "Train on 60000 samples, validate on 10000 samples\n",
            "Epoch 1/25\n",
            "60000/60000 [==============================] - 15s 246us/step - loss: 0.5169 - acc: 0.8422 - val_loss: 0.1182 - val_acc: 0.9640\n",
            "Epoch 2/25\n",
            "60000/60000 [==============================] - 8s 126us/step - loss: 0.1118 - acc: 0.9663 - val_loss: 0.0680 - val_acc: 0.9792\n",
            "Epoch 3/25\n",
            "60000/60000 [==============================] - 8s 139us/step - loss: 0.0755 - acc: 0.9768 - val_loss: 0.0472 - val_acc: 0.9844\n",
            "Epoch 4/25\n",
            "60000/60000 [==============================] - 8s 133us/step - loss: 0.0586 - acc: 0.9820 - val_loss: 0.0398 - val_acc: 0.9874\n",
            "Epoch 5/25\n",
            "60000/60000 [==============================] - 8s 126us/step - loss: 0.0506 - acc: 0.9842 - val_loss: 0.0448 - val_acc: 0.9867\n",
            "Epoch 6/25\n",
            "60000/60000 [==============================] - 8s 126us/step - loss: 0.0451 - acc: 0.9858 - val_loss: 0.0359 - val_acc: 0.9893\n",
            "Epoch 7/25\n",
            "60000/60000 [==============================] - 8s 127us/step - loss: 0.0404 - acc: 0.9872 - val_loss: 0.0344 - val_acc: 0.9896\n",
            "Epoch 8/25\n",
            "60000/60000 [==============================] - 8s 127us/step - loss: 0.0373 - acc: 0.9882 - val_loss: 0.0364 - val_acc: 0.9867\n",
            "Epoch 9/25\n",
            "60000/60000 [==============================] - 8s 126us/step - loss: 0.0341 - acc: 0.9890 - val_loss: 0.0361 - val_acc: 0.9891\n",
            "Epoch 10/25\n",
            "60000/60000 [==============================] - 8s 126us/step - loss: 0.0327 - acc: 0.9894 - val_loss: 0.0325 - val_acc: 0.9895\n",
            "Epoch 11/25\n",
            "60000/60000 [==============================] - 8s 127us/step - loss: 0.0301 - acc: 0.9906 - val_loss: 0.0344 - val_acc: 0.9893\n",
            "Epoch 12/25\n",
            "60000/60000 [==============================] - 8s 127us/step - loss: 0.0280 - acc: 0.9908 - val_loss: 0.0278 - val_acc: 0.9912\n",
            "Epoch 13/25\n",
            "60000/60000 [==============================] - 8s 132us/step - loss: 0.0265 - acc: 0.9917 - val_loss: 0.0365 - val_acc: 0.9891\n",
            "Epoch 14/25\n",
            "60000/60000 [==============================] - 8s 139us/step - loss: 0.0260 - acc: 0.9913 - val_loss: 0.0298 - val_acc: 0.9910\n",
            "Epoch 15/25\n",
            "60000/60000 [==============================] - 8s 126us/step - loss: 0.0237 - acc: 0.9922 - val_loss: 0.0313 - val_acc: 0.9912\n",
            "Epoch 16/25\n",
            "60000/60000 [==============================] - 8s 127us/step - loss: 0.0234 - acc: 0.9921 - val_loss: 0.0334 - val_acc: 0.9904\n",
            "Epoch 17/25\n",
            "60000/60000 [==============================] - 8s 127us/step - loss: 0.0230 - acc: 0.9928 - val_loss: 0.0351 - val_acc: 0.9879\n",
            "Epoch 18/25\n",
            "60000/60000 [==============================] - 8s 127us/step - loss: 0.0218 - acc: 0.9932 - val_loss: 0.0276 - val_acc: 0.9911\n",
            "Epoch 19/25\n",
            "60000/60000 [==============================] - 9s 147us/step - loss: 0.0225 - acc: 0.9928 - val_loss: 0.0311 - val_acc: 0.9895\n",
            "Epoch 20/25\n",
            "60000/60000 [==============================] - 8s 129us/step - loss: 0.0205 - acc: 0.9936 - val_loss: 0.0286 - val_acc: 0.9908\n",
            "Epoch 21/25\n",
            "60000/60000 [==============================] - 8s 127us/step - loss: 0.0204 - acc: 0.9931 - val_loss: 0.0293 - val_acc: 0.9911\n",
            "Epoch 22/25\n",
            "60000/60000 [==============================] - 8s 137us/step - loss: 0.0207 - acc: 0.9931 - val_loss: 0.0336 - val_acc: 0.9896\n",
            "Epoch 23/25\n",
            "60000/60000 [==============================] - 8s 129us/step - loss: 0.0191 - acc: 0.9940 - val_loss: 0.0272 - val_acc: 0.9920\n",
            "Epoch 24/25\n",
            "60000/60000 [==============================] - 9s 143us/step - loss: 0.0194 - acc: 0.9936 - val_loss: 0.0247 - val_acc: 0.9932\n",
            "Epoch 25/25\n",
            "60000/60000 [==============================] - 8s 126us/step - loss: 0.0172 - acc: 0.9945 - val_loss: 0.0246 - val_acc: 0.9923\n"
          ],
          "name": "stdout"
        },
        {
          "output_type": "execute_result",
          "data": {
            "text/plain": [
              "<keras.callbacks.History at 0x7fe2a7bb31d0>"
            ]
          },
          "metadata": {
            "tags": []
          },
          "execution_count": 54
        }
      ]
    },
    {
      "cell_type": "code",
      "metadata": {
        "id": "AtsH-lLk-eLb",
        "colab_type": "code",
        "colab": {}
      },
      "source": [
        "score = model.evaluate(X_test, Y_test, verbose=0)"
      ],
      "execution_count": 0,
      "outputs": []
    },
    {
      "cell_type": "code",
      "metadata": {
        "id": "mkX8JMv79q9r",
        "colab_type": "code",
        "outputId": "2016de75-6644-47c2-f5a9-2c12cec95139",
        "colab": {
          "base_uri": "https://localhost:8080/",
          "height": 35
        }
      },
      "source": [
        "print(score)"
      ],
      "execution_count": 0,
      "outputs": [
        {
          "output_type": "stream",
          "text": [
            "[0.024569476239520736, 0.9923]\n"
          ],
          "name": "stdout"
        }
      ]
    },
    {
      "cell_type": "code",
      "metadata": {
        "id": "OCWoJkwE9suh",
        "colab_type": "code",
        "colab": {}
      },
      "source": [
        "y_pred = model.predict(X_test)"
      ],
      "execution_count": 0,
      "outputs": []
    },
    {
      "cell_type": "code",
      "metadata": {
        "id": "Ym7iCFBm9uBs",
        "colab_type": "code",
        "outputId": "277fddcb-9d19-4cb7-9f12-4a9e6042d14a",
        "colab": {
          "base_uri": "https://localhost:8080/",
          "height": 347
        }
      },
      "source": [
        "print(y_pred[:9])\n",
        "print(y_test[:9])"
      ],
      "execution_count": 0,
      "outputs": [
        {
          "output_type": "stream",
          "text": [
            "[[6.6594050e-09 3.3755675e-06 4.0688352e-08 1.2600939e-06 3.9170473e-07\n",
            "  1.7067021e-07 4.2859404e-11 9.9999475e-01 2.4306807e-10 2.2987143e-08]\n",
            " [1.1662556e-05 5.4561669e-06 9.9998271e-01 2.2362601e-09 3.0390797e-08\n",
            "  1.3180082e-10 4.8028507e-08 6.4650103e-09 1.1446828e-08 6.4859007e-11]\n",
            " [1.4202333e-09 9.9999368e-01 3.8174370e-09 2.2807992e-10 2.1793176e-06\n",
            "  2.4408553e-06 7.7916752e-08 1.4659224e-06 6.2169542e-10 1.3034098e-07]\n",
            " [9.9999881e-01 4.6914868e-09 4.0271892e-08 2.9210059e-07 4.5869579e-11\n",
            "  2.4128596e-07 4.5913529e-07 5.5305829e-08 3.5330623e-09 6.5074779e-08]\n",
            " [2.9582576e-12 1.1954687e-10 4.2211026e-11 2.2529157e-12 9.9999273e-01\n",
            "  1.9796139e-11 1.6173540e-11 3.0113240e-10 4.1698252e-11 7.2192183e-06]\n",
            " [2.6083369e-09 9.9999058e-01 1.8656747e-08 1.5671237e-11 3.6417180e-06\n",
            "  1.6114649e-07 5.2278054e-08 5.4426609e-06 8.3394180e-10 1.4314647e-07]\n",
            " [2.3709801e-11 4.7041976e-06 1.1591448e-09 7.6435889e-09 9.9961782e-01\n",
            "  9.6514873e-07 2.0861613e-08 6.8235187e-07 9.3703438e-06 3.6637552e-04]\n",
            " [1.3025873e-10 1.6978715e-09 1.0953761e-08 1.9535356e-07 4.4024632e-06\n",
            "  7.9373677e-08 5.5870458e-11 4.0582329e-09 3.0539471e-08 9.9999535e-01]\n",
            " [4.6120367e-06 8.4619921e-07 1.9375943e-09 9.4128516e-10 1.7621526e-08\n",
            "  6.2331367e-01 3.7645489e-01 1.7795647e-11 2.2604618e-04 1.0524877e-09]]\n",
            "[7 2 1 0 4 1 4 9 5]\n"
          ],
          "name": "stdout"
        }
      ]
    },
    {
      "cell_type": "code",
      "metadata": {
        "id": "CT--y98_dr2T",
        "colab_type": "code",
        "colab": {}
      },
      "source": [
        "layer_dict = dict([(layer.name, layer) for layer in model.layers])"
      ],
      "execution_count": 0,
      "outputs": []
    },
    {
      "cell_type": "code",
      "metadata": {
        "id": "2GY4Upv4dsUR",
        "colab_type": "code",
        "outputId": "21f6a780-9ce2-4ba5-a8e8-133d8936357f",
        "colab": {
          "base_uri": "https://localhost:8080/",
          "height": 1017
        }
      },
      "source": [
        "import numpy as np\n",
        "from matplotlib import pyplot as plt\n",
        "from keras import backend as K\n",
        "%matplotlib inline\n",
        "# util function to convert a tensor into a valid image\n",
        "def deprocess_image(x):\n",
        "    # normalize tensor: center on 0., ensure std is 0.1\n",
        "    x -= x.mean()\n",
        "    x /= (x.std() + 1e-5)\n",
        "    x *= 0.1\n",
        "\n",
        "    # clip to [0, 1]\n",
        "    x += 0.5\n",
        "    x = np.clip(x, 0, 1)\n",
        "\n",
        "    # convert to RGB array\n",
        "    x *= 255\n",
        "    #x = x.transpose((1, 2, 0))\n",
        "    x = np.clip(x, 0, 255).astype('uint8')\n",
        "    return x\n",
        "\n",
        "def vis_img_in_filter(img = np.array(X_train[2]).reshape((1, 28, 28, 1)).astype(np.float64), \n",
        "                      layer_name = 'conv_5'):\n",
        "    layer_output = layer_dict[layer_name].output\n",
        "    img_ascs = list()\n",
        "    for filter_index in range(layer_output.shape[3]):\n",
        "        # build a loss function that maximizes the activation\n",
        "        # of the nth filter of the layer considered\n",
        "        loss = K.mean(layer_output[:, :, :, filter_index])\n",
        "\n",
        "        # compute the gradient of the input picture wrt this loss\n",
        "        grads = K.gradients(loss, model.input)[0]\n",
        "\n",
        "        # normalization trick: we normalize the gradient\n",
        "        grads /= (K.sqrt(K.mean(K.square(grads))) + 1e-5)\n",
        "\n",
        "        # this function returns the loss and grads given the input picture\n",
        "        iterate = K.function([model.input], [loss, grads])\n",
        "\n",
        "        # step size for gradient ascent\n",
        "        step = 5.\n",
        "\n",
        "        img_asc = np.array(img)\n",
        "        # run gradient ascent for 20 steps\n",
        "        for i in range(20):\n",
        "            loss_value, grads_value = iterate([img_asc])\n",
        "            img_asc += grads_value * step\n",
        "\n",
        "        img_asc = img_asc[0]\n",
        "        img_ascs.append(deprocess_image(img_asc).reshape((28, 28)))\n",
        "        \n",
        "    print(\"Number of Filters : \",layer_output.shape[3])\n",
        "    if layer_output.shape[3] >= 35:\n",
        "        plot_x, plot_y = 6, 6\n",
        "    elif layer_output.shape[3] >= 23:\n",
        "        plot_x, plot_y = 4, 8\n",
        "    elif layer_output.shape[3] >= 11:\n",
        "        plot_x, plot_y = 2, 6\n",
        "    elif layer_output.shape[3] >= 5:\n",
        "        plot_x, plot_y = 2, 5\n",
        "    else:\n",
        "        plot_x, plot_y = 1, 2\n",
        "    fig, ax = plt.subplots(plot_x, plot_y, figsize = (16, 16))\n",
        "    ax[0, 0].imshow(img.reshape((28, 28)), cmap = 'gray')\n",
        "    ax[0, 0].set_title('Input image')\n",
        "    fig.suptitle('Input image and %s filters' % (layer_name,))\n",
        "    fig.tight_layout(pad = 0.0, rect = [0, 0, 0.9, 0.9])\n",
        "    for (x, y) in [(i, j) for i in range(plot_x) for j in range(plot_y)]:\n",
        "        if x == 0 and y == 0:\n",
        "            continue\n",
        "        ax[x, y].imshow(img_ascs[x * plot_y + y - 1], cmap = 'gray')\n",
        "        ax[x, y].set_title('filter %d' % (x * plot_y + y - 1))\n",
        "\n",
        "vis_img_in_filter()"
      ],
      "execution_count": 0,
      "outputs": [
        {
          "output_type": "stream",
          "text": [
            "Number of Filters :  10\n"
          ],
          "name": "stdout"
        },
        {
          "output_type": "display_data",
          "data": {
            "image/png": "[encoded data removed]",
            "text/plain": [
              "<Figure size 1152x1152 with 10 Axes>"
            ]
          },
          "metadata": {
            "tags": []
          }
        }
      ]
    },
    {
      "cell_type": "markdown",
      "metadata": {
        "id": "hT1UmRT2JcWd",
        "colab_type": "text"
      },
      "source": [
        "# Observations :\n",
        "\n",
        "1. The model is now training faster with increased batch size. Taking 8s per epoch instead of 13s per epoch for batch size 128 v/s 32\n",
        "\n",
        "2. The model now is able to learning faster with batch normalization. We were able to reach 98.95% validation accuracy in 10 epochs.\n",
        "\n",
        "3. The model overfitting is further reduced with two additional dropout layers. \n",
        "\n",
        "4. This model is learning faster and better as compared to the previous model. We were able to reach a validation accuracy of 99.32% in 24 epochs.\n",
        "\n",
        "5. The validation accuracy looks highly volatile. This is because of the high learning rate towards the global minima. We have to fix this by introducing diminishing learning rate.\n",
        "\n",
        "\n",
        "The model has improved a lot from the plain vanilla model but we are yet to reached the objective of 99.4% accuracy. We will try for that in the next iteration."
      ]
    },
    {
      "cell_type": "code",
      "metadata": {
        "id": "9tvptcn8dxvp",
        "colab_type": "code",
        "colab": {}
      },
      "source": [
        ""
      ],
      "execution_count": 0,
      "outputs": []
    }
  ]
}