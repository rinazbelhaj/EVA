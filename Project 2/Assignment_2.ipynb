{
  "nbformat": 4,
  "nbformat_minor": 0,
  "metadata": {
    "colab": {
      "name": "Assignment 2.ipynb",
      "version": "0.3.2",
      "provenance": [],
      "collapsed_sections": [],
      "include_colab_link": true
    },
    "kernelspec": {
      "name": "python3",
      "display_name": "Python 3"
    },
    "accelerator": "GPU"
  },
  "cells": [
    {
      "cell_type": "markdown",
      "metadata": {
        "id": "view-in-github",
        "colab_type": "text"
      },
      "source": [
        "<a href=\"https://colab.research.google.com/github/rinazbelhaj/EVA/blob/master/Project%202/Assignment_2.ipynb\" target=\"_parent\"><img src=\"https://colab.research.google.com/assets/colab-badge.svg\" alt=\"Open In Colab\"/></a>"
      ]
    },
    {
      "cell_type": "markdown",
      "metadata": {
        "id": "-nJ7YEw_vyjG",
        "colab_type": "text"
      },
      "source": [
        "# **Not an ideal network**"
      ]
    },
    {
      "cell_type": "code",
      "metadata": {
        "id": "kGWv5hBhv2jf",
        "colab_type": "code",
        "outputId": "5d0b4794-a4fa-400f-a05f-e721ad24ee95",
        "colab": {
          "base_uri": "https://localhost:8080/",
          "height": 35
        }
      },
      "source": [
        "### This cell is installing keras using pip install\n",
        "\n",
        "# https://keras.io/\n",
        "!pip install -q keras\n",
        "import keras"
      ],
      "execution_count": 0,
      "outputs": [
        {
          "output_type": "stream",
          "text": [
            "Using TensorFlow backend.\n"
          ],
          "name": "stderr"
        }
      ]
    },
    {
      "cell_type": "code",
      "metadata": {
        "id": "wnMlDJQKv4VG",
        "colab_type": "code",
        "colab": {}
      },
      "source": [
        "### Here we are importing all the libraries needed for our modelling task\n",
        "\n",
        "import numpy as np\n",
        "\n",
        "from keras.models import Sequential\n",
        "from keras.layers import Flatten\n",
        "from keras.layers import Convolution2D\n",
        "from keras.utils import np_utils\n",
        "\n",
        "from keras.datasets import mnist"
      ],
      "execution_count": 0,
      "outputs": []
    },
    {
      "cell_type": "code",
      "metadata": {
        "id": "8CdSu2lMwB9s",
        "colab_type": "code",
        "colab": {}
      },
      "source": [
        "### In this cell, we are loading MNIST hand written digits data to train and test numpy arrays\n",
        "\n",
        "(X_train, y_train), (X_test, y_test) = mnist.load_data()"
      ],
      "execution_count": 0,
      "outputs": []
    },
    {
      "cell_type": "code",
      "metadata": {
        "id": "tLaDf0-rwCmj",
        "colab_type": "code",
        "outputId": "4d52ee3a-16d8-4109-c84d-4cec6e201b13",
        "colab": {
          "base_uri": "https://localhost:8080/",
          "height": 304
        }
      },
      "source": [
        "# This cell displays the first value in training data\n",
        "\n",
        "print (X_train.shape)\n",
        "from matplotlib import pyplot as plt\n",
        "%matplotlib inline\n",
        "plt.imshow(X_train[0])"
      ],
      "execution_count": 20,
      "outputs": [
        {
          "output_type": "stream",
          "text": [
            "(60000, 28, 28)\n"
          ],
          "name": "stdout"
        },
        {
          "output_type": "execute_result",
          "data": {
            "text/plain": [
              "<matplotlib.image.AxesImage at 0x7f8c2441b0b8>"
            ]
          },
          "metadata": {
            "tags": []
          },
          "execution_count": 20
        },
        {
          "output_type": "display_data",
          "data": {
            "image/png": "[encoded data removed]",
            "text/plain": [
              "<Figure size 432x288 with 1 Axes>"
            ]
          },
          "metadata": {
            "tags": []
          }
        }
      ]
    },
    {
      "cell_type": "code",
      "metadata": {
        "id": "erb11jNwwFwl",
        "colab_type": "code",
        "colab": {}
      },
      "source": [
        "# Here we are reshapping the train and test images to be compatible with the model to be defined\n",
        "\n",
        "# The images are formatted to dimension Length*Width*Channel\n",
        "# Since MNIST is a collection of grey scale images, the channel will be 1. So dimension is 28*28*1\n",
        "\n",
        "X_train = X_train.reshape(X_train.shape[0], 28, 28,1)\n",
        "X_test = X_test.reshape(X_test.shape[0], 28, 28,1)"
      ],
      "execution_count": 0,
      "outputs": []
    },
    {
      "cell_type": "code",
      "metadata": {
        "id": "RLK4YDoRwHet",
        "colab_type": "code",
        "colab": {}
      },
      "source": [
        "# Here we are changing the numpy value to float and normalizing them by dividing each value by 255\n",
        "# The pixel values are scaled between 0 and 1 which is benefecial for our network while backpropagating.\n",
        "\n",
        "X_train = X_train.astype('float32')\n",
        "X_test = X_test.astype('float32')\n",
        "X_train /= 255\n",
        "X_test /= 255"
      ],
      "execution_count": 0,
      "outputs": []
    },
    {
      "cell_type": "code",
      "metadata": {
        "id": "JNKLOmhlwJQl",
        "colab_type": "code",
        "outputId": "e67c7e29-619d-4bec-cd05-1088dce470d4",
        "colab": {
          "base_uri": "https://localhost:8080/",
          "height": 35
        }
      },
      "source": [
        "# This cell display first 10 labels in our training data\n",
        "\n",
        "y_train[:10]"
      ],
      "execution_count": 23,
      "outputs": [
        {
          "output_type": "execute_result",
          "data": {
            "text/plain": [
              "array([5, 0, 4, 1, 9, 2, 1, 3, 1, 4], dtype=uint8)"
            ]
          },
          "metadata": {
            "tags": []
          },
          "execution_count": 23
        }
      ]
    },
    {
      "cell_type": "code",
      "metadata": {
        "id": "YusMJguiwKsM",
        "colab_type": "code",
        "colab": {}
      },
      "source": [
        "# Convert 1-dimensional class arrays to 10-dimensional class matrices\n",
        "# This cell encodes one columns into 10 columns which basically has a flag corresponding to each class\n",
        "# Here 6th column is the flag for label 5 \n",
        "\n",
        "Y_train = np_utils.to_categorical(y_train, 10)\n",
        "Y_test = np_utils.to_categorical(y_test, 10)"
      ],
      "execution_count": 0,
      "outputs": []
    },
    {
      "cell_type": "code",
      "metadata": {
        "id": "upxc99AswMW0",
        "colab_type": "code",
        "outputId": "9e6c7f1a-bd36-4e3d-cf31-f44e20a6f988",
        "colab": {
          "base_uri": "https://localhost:8080/",
          "height": 191
        }
      },
      "source": [
        "# Reformatted label data\n",
        "\n",
        "Y_train[:10]\n"
      ],
      "execution_count": 25,
      "outputs": [
        {
          "output_type": "execute_result",
          "data": {
            "text/plain": [
              "array([[0., 0., 0., 0., 0., 1., 0., 0., 0., 0.],\n",
              "       [1., 0., 0., 0., 0., 0., 0., 0., 0., 0.],\n",
              "       [0., 0., 0., 0., 1., 0., 0., 0., 0., 0.],\n",
              "       [0., 1., 0., 0., 0., 0., 0., 0., 0., 0.],\n",
              "       [0., 0., 0., 0., 0., 0., 0., 0., 0., 1.],\n",
              "       [0., 0., 1., 0., 0., 0., 0., 0., 0., 0.],\n",
              "       [0., 1., 0., 0., 0., 0., 0., 0., 0., 0.],\n",
              "       [0., 0., 0., 1., 0., 0., 0., 0., 0., 0.],\n",
              "       [0., 1., 0., 0., 0., 0., 0., 0., 0., 0.],\n",
              "       [0., 0., 0., 0., 1., 0., 0., 0., 0., 0.]], dtype=float32)"
            ]
          },
          "metadata": {
            "tags": []
          },
          "execution_count": 25
        }
      ]
    },
    {
      "cell_type": "code",
      "metadata": {
        "id": "irTVUE47wNwr",
        "colab_type": "code",
        "outputId": "3bef6175-b800-4a57-922a-5368777b83a2",
        "colab": {
          "base_uri": "https://localhost:8080/",
          "height": 783
        }
      },
      "source": [
        "# This cell defines our model\n",
        "\n",
        "# Importing building blocks for NN from keras.layers\n",
        "from keras.layers import Activation, MaxPooling2D\n",
        "\n",
        "# Defining model using Keras sequential API\n",
        "model = Sequential() \n",
        "\n",
        "# LRF = Local Receptive Field, GRF = Global Receptive Field\n",
        "\n",
        "# Layer 1 : Type=Convolution, Input=28*28*1, Kernel Size=3*3*1, No. of Kernels=32, Activation=RELU, LRF=3*3, GRF=3*3, Output=26*26*32\n",
        "model.add(Convolution2D(32, 3, 3, activation='relu', input_shape=(28,28,1)))\n",
        "\n",
        "# Layer 2 : Type=Convolution, Input=26*26*32, Kernel Size=3*3*32, No. of Kernels=64, Activation=RELU, LRF=3*3, GRF=5*5, Output=24*24*64\n",
        "model.add(Convolution2D(64, 3, 3, activation='relu'))\n",
        "\n",
        "# Layer 3 : Type=Convolution, Input=24*24*64, Kernel Size=3*3*64, No. of Kernels=128, Activation=RELU, LRF=3*3, GRF=7*7, Output=22*22*128\n",
        "model.add(Convolution2D(128, 3, 3, activation='relu'))\n",
        "\n",
        "# Layer 4 : Type=Max Pooling, Input=22*22*128, Kernel Size=2*2, LRF=2*2, GRF=8*8, Output=11*11*128\n",
        "model.add(MaxPooling2D(pool_size=(2, 2)))\n",
        "\n",
        "# Layer 5 : Type=Convolution, Input=11*11*128, Kernel Size=3*3*128, No. of Kernels=256, Activation=RELU, LRF=3*3, GRF=12*12, Output=9*9*256\n",
        "model.add(Convolution2D(256, 3, 3, activation='relu'))\n",
        "\n",
        "# Layer 6 : Type=Convolution, Input=9*9*256, Kernel Size=3*3*256, No. of Kernels=512, Activation=RELU, LRF=3*3, GRF=16*16, Output=7*7*512\n",
        "model.add(Convolution2D(512, 3, 3, activation='relu'))\n",
        "\n",
        "# Layer 7 : Type=Convolution, Input=7*7*512, Kernel Size=3*3*512, No. of Kernels=1024, Activation=RELU, LRF=3*3, GRF=20*20, Output=5*5*1024\n",
        "model.add(Convolution2D(1024, 3, 3, activation='relu'))\n",
        "\n",
        "# Layer 8 : Type=Convolution, Input=5*5*1024, Kernel Size=3*3*1024, No. of Kernels=2048, Activation=RELU, LRF=3*3, GRF=24*24, Output=3*3*2048\n",
        "model.add(Convolution2D(2048, 3, 3, activation='relu'))\n",
        "\n",
        "# Layer 9 : Type=Convolution, Input=3*3*2048, Kernel Size=3*3*2048, No. of Kernels=10, Activation=RELU, LRF=3*3, GRF=28*28, Output=1*1*10\n",
        "model.add(Convolution2D(10, 3, 3, activation='relu'))\n",
        "\n",
        "# Layer 10 : Flatten Layer : 1*1*10 to list of length 10\n",
        "model.add(Flatten())\n",
        "\n",
        "# Output : Softmax Function \n",
        "model.add(Activation('softmax'))\n",
        "\n",
        "# Display model summary\n",
        "model.summary()"
      ],
      "execution_count": 0,
      "outputs": [
        {
          "output_type": "stream",
          "text": [
            "WARNING:tensorflow:From /usr/local/lib/python3.6/dist-packages/tensorflow/python/framework/op_def_library.py:263: colocate_with (from tensorflow.python.framework.ops) is deprecated and will be removed in a future version.\n",
            "Instructions for updating:\n",
            "Colocations handled automatically by placer.\n"
          ],
          "name": "stdout"
        },
        {
          "output_type": "stream",
          "text": [
            "/usr/local/lib/python3.6/dist-packages/ipykernel_launcher.py:9: UserWarning: Update your `Conv2D` call to the Keras 2 API: `Conv2D(32, (3, 3), activation=\"relu\", input_shape=(28, 28, 1...)`\n",
            "  if __name__ == '__main__':\n",
            "/usr/local/lib/python3.6/dist-packages/ipykernel_launcher.py:12: UserWarning: Update your `Conv2D` call to the Keras 2 API: `Conv2D(64, (3, 3), activation=\"relu\")`\n",
            "  if sys.path[0] == '':\n",
            "/usr/local/lib/python3.6/dist-packages/ipykernel_launcher.py:15: UserWarning: Update your `Conv2D` call to the Keras 2 API: `Conv2D(128, (3, 3), activation=\"relu\")`\n",
            "  from ipykernel import kernelapp as app\n",
            "/usr/local/lib/python3.6/dist-packages/ipykernel_launcher.py:21: UserWarning: Update your `Conv2D` call to the Keras 2 API: `Conv2D(256, (3, 3), activation=\"relu\")`\n",
            "/usr/local/lib/python3.6/dist-packages/ipykernel_launcher.py:24: UserWarning: Update your `Conv2D` call to the Keras 2 API: `Conv2D(512, (3, 3), activation=\"relu\")`\n",
            "/usr/local/lib/python3.6/dist-packages/ipykernel_launcher.py:27: UserWarning: Update your `Conv2D` call to the Keras 2 API: `Conv2D(1024, (3, 3), activation=\"relu\")`\n",
            "/usr/local/lib/python3.6/dist-packages/ipykernel_launcher.py:30: UserWarning: Update your `Conv2D` call to the Keras 2 API: `Conv2D(2048, (3, 3), activation=\"relu\")`\n",
            "/usr/local/lib/python3.6/dist-packages/ipykernel_launcher.py:33: UserWarning: Update your `Conv2D` call to the Keras 2 API: `Conv2D(10, (3, 3), activation=\"relu\")`\n"
          ],
          "name": "stderr"
        },
        {
          "output_type": "stream",
          "text": [
            "_________________________________________________________________\n",
            "Layer (type)                 Output Shape              Param #   \n",
            "=================================================================\n",
            "conv2d_1 (Conv2D)            (None, 26, 26, 32)        320       \n",
            "_________________________________________________________________\n",
            "conv2d_2 (Conv2D)            (None, 24, 24, 64)        18496     \n",
            "_________________________________________________________________\n",
            "conv2d_3 (Conv2D)            (None, 22, 22, 128)       73856     \n",
            "_________________________________________________________________\n",
            "max_pooling2d_1 (MaxPooling2 (None, 11, 11, 128)       0         \n",
            "_________________________________________________________________\n",
            "conv2d_4 (Conv2D)            (None, 9, 9, 256)         295168    \n",
            "_________________________________________________________________\n",
            "conv2d_5 (Conv2D)            (None, 7, 7, 512)         1180160   \n",
            "_________________________________________________________________\n",
            "conv2d_6 (Conv2D)            (None, 5, 5, 1024)        4719616   \n",
            "_________________________________________________________________\n",
            "conv2d_7 (Conv2D)            (None, 3, 3, 2048)        18876416  \n",
            "_________________________________________________________________\n",
            "conv2d_8 (Conv2D)            (None, 1, 1, 10)          184330    \n",
            "_________________________________________________________________\n",
            "flatten_1 (Flatten)          (None, 10)                0         \n",
            "_________________________________________________________________\n",
            "activation_1 (Activation)    (None, 10)                0         \n",
            "=================================================================\n",
            "Total params: 25,348,362\n",
            "Trainable params: 25,348,362\n",
            "Non-trainable params: 0\n",
            "_________________________________________________________________\n"
          ],
          "name": "stdout"
        }
      ]
    },
    {
      "cell_type": "code",
      "metadata": {
        "id": "VYZOpRb6yG7_",
        "colab_type": "code",
        "colab": {}
      },
      "source": [
        "# Compiling the model\n",
        "\n",
        "# Loss function used is categorical cross entropy\n",
        "# Optimizer used is adam\n",
        "# Evaluation metric used is accuracy\n",
        "\n",
        "model.compile(loss='categorical_crossentropy',\n",
        "             optimizer='adam',\n",
        "             metrics=['accuracy'])"
      ],
      "execution_count": 0,
      "outputs": []
    },
    {
      "cell_type": "code",
      "metadata": {
        "id": "5O248wVQyMft",
        "colab_type": "code",
        "outputId": "1ee7bd86-f9f2-4885-873e-67e733c959b2",
        "colab": {
          "base_uri": "https://localhost:8080/",
          "height": 488
        }
      },
      "source": [
        "# Training process\n",
        "# Fitting the model on training data\n",
        "\n",
        "# Batch Size: No of input images seen by the model at a given instance\n",
        "# Nb Epoch : Number of iterations over the training data\n",
        "# Verbose : The output display formatting of training process\n",
        "\n",
        "model.fit(X_train, Y_train, batch_size=32, nb_epoch=10, verbose=1)"
      ],
      "execution_count": 0,
      "outputs": [
        {
          "output_type": "stream",
          "text": [
            "WARNING:tensorflow:From /usr/local/lib/python3.6/dist-packages/tensorflow/python/ops/math_ops.py:3066: to_int32 (from tensorflow.python.ops.math_ops) is deprecated and will be removed in a future version.\n",
            "Instructions for updating:\n",
            "Use tf.cast instead.\n"
          ],
          "name": "stdout"
        },
        {
          "output_type": "stream",
          "text": [
            "/usr/local/lib/python3.6/dist-packages/ipykernel_launcher.py:2: UserWarning: The `nb_epoch` argument in `fit` has been renamed `epochs`.\n",
            "  \n"
          ],
          "name": "stderr"
        },
        {
          "output_type": "stream",
          "text": [
            "Epoch 1/10\n",
            "60000/60000 [==============================] - 219s 4ms/step - loss: 2.3027 - acc: 0.0987\n",
            "Epoch 2/10\n",
            "60000/60000 [==============================] - 214s 4ms/step - loss: 2.3026 - acc: 0.0987\n",
            "Epoch 3/10\n",
            "60000/60000 [==============================] - 214s 4ms/step - loss: 2.3026 - acc: 0.0987\n",
            "Epoch 4/10\n",
            "60000/60000 [==============================] - 214s 4ms/step - loss: 2.3026 - acc: 0.0987\n",
            "Epoch 5/10\n",
            "60000/60000 [==============================] - 214s 4ms/step - loss: 2.3026 - acc: 0.0987\n",
            "Epoch 6/10\n",
            "60000/60000 [==============================] - 214s 4ms/step - loss: 2.3026 - acc: 0.0987\n",
            "Epoch 7/10\n",
            "60000/60000 [==============================] - 214s 4ms/step - loss: 2.3026 - acc: 0.0987\n",
            "Epoch 8/10\n",
            "60000/60000 [==============================] - 214s 4ms/step - loss: 2.3026 - acc: 0.0987\n",
            "Epoch 9/10\n",
            "60000/60000 [==============================] - 214s 4ms/step - loss: 2.3026 - acc: 0.0987\n",
            "Epoch 10/10\n",
            "60000/60000 [==============================] - 214s 4ms/step - loss: 2.3026 - acc: 0.0987\n"
          ],
          "name": "stdout"
        },
        {
          "output_type": "execute_result",
          "data": {
            "text/plain": [
              "<keras.callbacks.History at 0x7fc46e33bbe0>"
            ]
          },
          "metadata": {
            "tags": []
          },
          "execution_count": 13
        }
      ]
    },
    {
      "cell_type": "code",
      "metadata": {
        "id": "Sst4KneiyOL5",
        "colab_type": "code",
        "colab": {}
      },
      "source": [
        "# Model evaluation on test data\n",
        "\n",
        "score = model.evaluate(X_test, Y_test, verbose=0)"
      ],
      "execution_count": 0,
      "outputs": []
    },
    {
      "cell_type": "code",
      "metadata": {
        "id": "CfJiXOKsyj4y",
        "colab_type": "code",
        "outputId": "1409d0fb-4b1d-4976-832b-b225449b3ea2",
        "colab": {
          "base_uri": "https://localhost:8080/",
          "height": 35
        }
      },
      "source": [
        "# Model performance on the test data\n",
        "# Output score tells us the percentage of classes correctly predicted by our model\n",
        "\n",
        "print(score)"
      ],
      "execution_count": 0,
      "outputs": [
        {
          "output_type": "stream",
          "text": [
            "[2.3025851249694824, 0.098]\n"
          ],
          "name": "stdout"
        }
      ]
    },
    {
      "cell_type": "code",
      "metadata": {
        "id": "hwLSXt7nyn_0",
        "colab_type": "code",
        "colab": {}
      },
      "source": [
        "# Predicting the label on test data\n",
        "\n",
        "y_pred = model.predict(X_test)"
      ],
      "execution_count": 0,
      "outputs": []
    },
    {
      "cell_type": "code",
      "metadata": {
        "id": "WWKKoOKwyppN",
        "colab_type": "code",
        "outputId": "22c8607c-b5f8-4aa2-8023-140aeb774732",
        "colab": {
          "base_uri": "https://localhost:8080/",
          "height": 191
        }
      },
      "source": [
        "# Comparing the prediction v/s actual for first 9 images in test data\n",
        "\n",
        "print(y_pred[:9])\n",
        "print(y_test[:9])"
      ],
      "execution_count": 0,
      "outputs": [
        {
          "output_type": "stream",
          "text": [
            "[[0.1 0.1 0.1 0.1 0.1 0.1 0.1 0.1 0.1 0.1]\n",
            " [0.1 0.1 0.1 0.1 0.1 0.1 0.1 0.1 0.1 0.1]\n",
            " [0.1 0.1 0.1 0.1 0.1 0.1 0.1 0.1 0.1 0.1]\n",
            " [0.1 0.1 0.1 0.1 0.1 0.1 0.1 0.1 0.1 0.1]\n",
            " [0.1 0.1 0.1 0.1 0.1 0.1 0.1 0.1 0.1 0.1]\n",
            " [0.1 0.1 0.1 0.1 0.1 0.1 0.1 0.1 0.1 0.1]\n",
            " [0.1 0.1 0.1 0.1 0.1 0.1 0.1 0.1 0.1 0.1]\n",
            " [0.1 0.1 0.1 0.1 0.1 0.1 0.1 0.1 0.1 0.1]\n",
            " [0.1 0.1 0.1 0.1 0.1 0.1 0.1 0.1 0.1 0.1]]\n",
            "[7 2 1 0 4 1 4 9 5]\n"
          ],
          "name": "stdout"
        }
      ]
    },
    {
      "cell_type": "markdown",
      "metadata": {
        "id": "7Xcn5OOKVl2m",
        "colab_type": "text"
      },
      "source": [
        "### We can see that the model is not able to predict the label correctly. Infact, the model is giving same probabilty for all classes, which is same as the probability of random prediction 1/10."
      ]
    },
    {
      "cell_type": "markdown",
      "metadata": {
        "id": "YNayTrGVqC_r",
        "colab_type": "text"
      },
      "source": [
        "# What is wrong with the Network ?\n",
        "\n",
        "### The possible reason for the bad performance might be the combined effect of the following:\n",
        "\n",
        "\n",
        "### 1.   Pooling layer too close to input\n",
        "The max pooling layer is added as the 4th layer in the network after 3 convolution layers. The receptive field when max pooling is applied is just 7x7 which is not good enough to detect edges relevant for the correct classification. Hence max pooling layer is not getting enough information that it can use later to correctly classify the images. The pooling layer should have been little lower in the network to better identify important features than it can carry forward in the network.\n",
        "### 2.   No pooling layer after the first one to filter out irrelevant features\n",
        "Toward the lower half of the network, there are too many features generated by 5 layers of convolutions. Just before the final layer, there are 2048 channels suddenly converging into 10. All these happens without any pooling layer to select important channels for network. An extra pooling layer would have helped the network to learn better.\n",
        "\n",
        "### 3. Too many filters and parameters\n",
        "The network is too heavy for the given problem with far too many kernels used. The presence of too many kernels creates many irrelevent channels thereby introducing too much noise. The outputs of relevent channels gets ignored due to too many information coming in for the final layer. A much more simpler network should have been used considering the fact that input image is just 28x28.\n",
        "\n",
        "**Please find the below codes with the suggested changes that helped the model to learn**\n",
        "\n",
        "\n",
        "\n",
        "\n"
      ]
    },
    {
      "cell_type": "markdown",
      "metadata": {
        "id": "U58CQ-1e7d9Z",
        "colab_type": "text"
      },
      "source": [
        "#1.  Model with max pooling few layers down in the network"
      ]
    },
    {
      "cell_type": "code",
      "metadata": {
        "id": "AaBCc7S_bwaM",
        "colab_type": "code",
        "outputId": "20b64cf7-a531-45b7-d04d-42dcc5aae141",
        "colab": {
          "base_uri": "https://localhost:8080/",
          "height": 783
        }
      },
      "source": [
        "# This cell defines our model\n",
        "\n",
        "# Importing building blocks for NN from keras.layers\n",
        "from keras.layers import Activation, MaxPooling2D\n",
        "\n",
        "# Defining model using Keras sequential API\n",
        "model = Sequential() \n",
        "\n",
        "# LRF = Local Receptive Field, GRF = Global Receptive Field\n",
        "\n",
        "# Layer 1 : Type=Convolution, Input=28*28*1, Kernel Size=3*3*1, No. of Kernels=32, Activation=RELU, LRF=3*3, GRF=3*3, Output=26*26*32\n",
        "model.add(Convolution2D(32, 3, 3, activation='relu', input_shape=(28,28,1)))\n",
        "\n",
        "# Layer 2 : Type=Convolution, Input=26*26*32, Kernel Size=3*3*32, No. of Kernels=64, Activation=RELU, LRF=3*3, GRF=5*5, Output=24*24*64\n",
        "model.add(Convolution2D(64, 3, 3, activation='relu'))\n",
        "\n",
        "# Layer 3 : Type=Convolution, Input=24*24*64, Kernel Size=3*3*64, No. of Kernels=128, Activation=RELU, LRF=3*3, GRF=7*7, Output=22*22*128\n",
        "model.add(Convolution2D(128, 3, 3, activation='relu'))\n",
        "\n",
        "# Layer 4 : Type=Convolution, Input=22*22*128, Kernel Size=3*3*128, No. of Kernels=256, Activation=RELU, LRF=3*3, GRF=9*9, Output=20*20*256\n",
        "model.add(Convolution2D(256, 3, 3, activation='relu'))\n",
        "\n",
        "# Layer 5 : Type=Convolution, Input=20*20*256, Kernel Size=3*3*256, No. of Kernels=512, Activation=RELU, LRF=3*3, GRF=11*11, Output=18*18*512\n",
        "model.add(Convolution2D(512, 3, 3, activation='relu'))\n",
        "\n",
        "# Layer 6 : Type=Max Pooling, Input=18*18*512, Kernel Size=2*2, LRF=2*2, GRF=12*12, Output=9*9*512\n",
        "model.add(MaxPooling2D(pool_size=(2, 2)))\n",
        "\n",
        "# Layer 7 : Type=Convolution, Input=9*9*512, Kernel Size=3*3*512, No. of Kernels=1024, Activation=RELU, LRF=3*3, GRF=16*16, Output=7*7*1024\n",
        "model.add(Convolution2D(1024, 3, 3, activation='relu'))\n",
        "\n",
        "# Layer 8 : Type=Convolution, Input=7*7*1024, Kernel Size=3*3*512, No. of Kernels=1024, Activation=RELU, LRF=3*3, GRF=20*20, Output=5*5*1024\n",
        "model.add(Convolution2D(1024, 3, 3, activation='relu'))\n",
        "\n",
        "# Layer 9 : Type=Convolution, Input=5*5*1024, Kernel Size=3*3*1024, No. of Kernels=2048, Activation=RELU, LRF=3*3, GRF=24*24, Output=3*3*2048\n",
        "model.add(Convolution2D(2048, 3, 3, activation='relu'))\n",
        "\n",
        "# Layer 10 : Type=Convolution, Input=3*3*2048, Kernel Size=3*3*2048, No. of Kernels=10, Activation=RELU, LRF=3*3, GRF=28*28, Output=1*1*10\n",
        "model.add(Convolution2D(10, 3, 3, activation='relu'))\n",
        "\n",
        "# Layer 10 : Flatten Layer : 1*1*10 to list of length 10\n",
        "model.add(Flatten())\n",
        "\n",
        "# Output : Softmax Function \n",
        "model.add(Activation('softmax'))\n",
        "\n",
        "# Display model summary\n",
        "model.summary()"
      ],
      "execution_count": 13,
      "outputs": [
        {
          "output_type": "stream",
          "text": [
            "/usr/local/lib/python3.6/dist-packages/ipykernel_launcher.py:9: UserWarning: Update your `Conv2D` call to the Keras 2 API: `Conv2D(32, (3, 3), activation=\"relu\", input_shape=(28, 28, 1...)`\n",
            "  if __name__ == '__main__':\n",
            "/usr/local/lib/python3.6/dist-packages/ipykernel_launcher.py:12: UserWarning: Update your `Conv2D` call to the Keras 2 API: `Conv2D(64, (3, 3), activation=\"relu\")`\n",
            "  if sys.path[0] == '':\n",
            "/usr/local/lib/python3.6/dist-packages/ipykernel_launcher.py:15: UserWarning: Update your `Conv2D` call to the Keras 2 API: `Conv2D(128, (3, 3), activation=\"relu\")`\n",
            "  from ipykernel import kernelapp as app\n",
            "/usr/local/lib/python3.6/dist-packages/ipykernel_launcher.py:18: UserWarning: Update your `Conv2D` call to the Keras 2 API: `Conv2D(256, (3, 3), activation=\"relu\")`\n",
            "/usr/local/lib/python3.6/dist-packages/ipykernel_launcher.py:21: UserWarning: Update your `Conv2D` call to the Keras 2 API: `Conv2D(512, (3, 3), activation=\"relu\")`\n",
            "/usr/local/lib/python3.6/dist-packages/ipykernel_launcher.py:27: UserWarning: Update your `Conv2D` call to the Keras 2 API: `Conv2D(1024, (3, 3), activation=\"relu\")`\n",
            "/usr/local/lib/python3.6/dist-packages/ipykernel_launcher.py:30: UserWarning: Update your `Conv2D` call to the Keras 2 API: `Conv2D(1024, (3, 3), activation=\"relu\")`\n"
          ],
          "name": "stderr"
        },
        {
          "output_type": "stream",
          "text": [
            "_________________________________________________________________\n",
            "Layer (type)                 Output Shape              Param #   \n",
            "=================================================================\n",
            "conv2d_10 (Conv2D)           (None, 26, 26, 32)        320       \n",
            "_________________________________________________________________\n",
            "conv2d_11 (Conv2D)           (None, 24, 24, 64)        18496     \n",
            "_________________________________________________________________\n",
            "conv2d_12 (Conv2D)           (None, 22, 22, 128)       73856     \n",
            "_________________________________________________________________\n",
            "conv2d_13 (Conv2D)           (None, 20, 20, 256)       295168    \n",
            "_________________________________________________________________\n",
            "conv2d_14 (Conv2D)           (None, 18, 18, 512)       1180160   \n",
            "_________________________________________________________________\n",
            "max_pooling2d_2 (MaxPooling2 (None, 9, 9, 512)         0         \n",
            "_________________________________________________________________\n",
            "conv2d_15 (Conv2D)           (None, 7, 7, 1024)        4719616   \n",
            "_________________________________________________________________\n",
            "conv2d_16 (Conv2D)           (None, 5, 5, 1024)        9438208   \n",
            "_________________________________________________________________\n",
            "conv2d_17 (Conv2D)           (None, 3, 3, 2048)        18876416  \n",
            "_________________________________________________________________\n",
            "conv2d_18 (Conv2D)           (None, 1, 1, 10)          184330    \n",
            "_________________________________________________________________\n",
            "flatten_2 (Flatten)          (None, 10)                0         \n",
            "_________________________________________________________________\n",
            "activation_2 (Activation)    (None, 10)                0         \n",
            "=================================================================\n",
            "Total params: 34,786,570\n",
            "Trainable params: 34,786,570\n",
            "Non-trainable params: 0\n",
            "_________________________________________________________________\n"
          ],
          "name": "stdout"
        },
        {
          "output_type": "stream",
          "text": [
            "/usr/local/lib/python3.6/dist-packages/ipykernel_launcher.py:33: UserWarning: Update your `Conv2D` call to the Keras 2 API: `Conv2D(2048, (3, 3), activation=\"relu\")`\n",
            "/usr/local/lib/python3.6/dist-packages/ipykernel_launcher.py:36: UserWarning: Update your `Conv2D` call to the Keras 2 API: `Conv2D(10, (3, 3), activation=\"relu\")`\n"
          ],
          "name": "stderr"
        }
      ]
    },
    {
      "cell_type": "code",
      "metadata": {
        "id": "vhxDNH4leK0n",
        "colab_type": "code",
        "colab": {
          "base_uri": "https://localhost:8080/",
          "height": 416
        },
        "outputId": "2fcf67a8-6295-43be-ce9b-dfee1d776cdc"
      },
      "source": [
        "# Compiling the model\n",
        "\n",
        "# Loss function used is categorical cross entropy\n",
        "# Optimizer used is adam\n",
        "# Evaluation metric used is accuracy\n",
        "\n",
        "model.compile(loss='categorical_crossentropy',\n",
        "             optimizer='adam',\n",
        "             metrics=['accuracy'])\n",
        "\n",
        "# Training process\n",
        "# Fitting the model on training data\n",
        "\n",
        "# Batch Size: No of input images seen by the model at a given instance\n",
        "# Nb Epoch : Number of iterations over the training data\n",
        "# Verbose : The output display formatting of training process\n",
        "\n",
        "model.fit(X_train, Y_train, batch_size=512, nb_epoch=10, verbose=1)"
      ],
      "execution_count": 14,
      "outputs": [
        {
          "output_type": "stream",
          "text": [
            "/usr/local/lib/python3.6/dist-packages/ipykernel_launcher.py:13: UserWarning: The `nb_epoch` argument in `fit` has been renamed `epochs`.\n",
            "  del sys.path[0]\n"
          ],
          "name": "stderr"
        },
        {
          "output_type": "stream",
          "text": [
            "Epoch 1/10\n",
            "60000/60000 [==============================] - 83s 1ms/step - loss: 1.2394 - acc: 0.5218\n",
            "Epoch 2/10\n",
            "60000/60000 [==============================] - 70s 1ms/step - loss: 0.9605 - acc: 0.5956\n",
            "Epoch 3/10\n",
            "60000/60000 [==============================] - 69s 1ms/step - loss: 0.9451 - acc: 0.5982\n",
            "Epoch 4/10\n",
            "60000/60000 [==============================] - 69s 1ms/step - loss: 0.9372 - acc: 0.5998\n",
            "Epoch 5/10\n",
            "60000/60000 [==============================] - 69s 1ms/step - loss: 0.9330 - acc: 0.6002\n",
            "Epoch 6/10\n",
            "60000/60000 [==============================] - 69s 1ms/step - loss: 0.9300 - acc: 0.6006\n",
            "Epoch 7/10\n",
            "60000/60000 [==============================] - 69s 1ms/step - loss: 0.8621 - acc: 0.6335\n",
            "Epoch 8/10\n",
            "60000/60000 [==============================] - 69s 1ms/step - loss: 0.6907 - acc: 0.7052\n",
            "Epoch 9/10\n",
            "60000/60000 [==============================] - 69s 1ms/step - loss: 0.6858 - acc: 0.7056\n",
            "Epoch 10/10\n",
            "60000/60000 [==============================] - 69s 1ms/step - loss: 0.6852 - acc: 0.7057\n"
          ],
          "name": "stdout"
        },
        {
          "output_type": "execute_result",
          "data": {
            "text/plain": [
              "<keras.callbacks.History at 0x7f8c25533d30>"
            ]
          },
          "metadata": {
            "tags": []
          },
          "execution_count": 14
        }
      ]
    },
    {
      "cell_type": "markdown",
      "metadata": {
        "id": "HMgFJOlX7pSO",
        "colab_type": "text"
      },
      "source": [
        "# 2. Model with two max pooling layers in the network"
      ]
    },
    {
      "cell_type": "code",
      "metadata": {
        "id": "2QazWWGyeQ4_",
        "colab_type": "code",
        "outputId": "32a01570-fcbc-4f37-d1e2-a9bed52e3b73",
        "colab": {
          "base_uri": "https://localhost:8080/",
          "height": 661
        }
      },
      "source": [
        "# This cell defines our model\n",
        "\n",
        "# Importing building blocks for NN from keras.layers\n",
        "from keras.layers import Activation, MaxPooling2D\n",
        "\n",
        "# Defining model using Keras sequential API\n",
        "model = Sequential() \n",
        "\n",
        "# LRF = Local Receptive Field, GRF = Global Receptive Field\n",
        "\n",
        "# Layer 1 : Type=Convolution, Input=28*28*1, Kernel Size=3*3*1, No. of Kernels=32, Activation=RELU, LRF=3*3, GRF=3*3, Output=26*26*32\n",
        "model.add(Convolution2D(32, 3, 3, activation='relu', input_shape=(28,28,1)))\n",
        "\n",
        "# Layer 2 : Type=Convolution, Input=26*26*32, Kernel Size=3*3*32, No. of Kernels=64, Activation=RELU, LRF=3*3, GRF=5*5, Output=24*24*64\n",
        "model.add(Convolution2D(64, 3, 3, activation='relu'))\n",
        "\n",
        "# Layer 3 : Type=Convolution, Input=24*24*64, Kernel Size=3*3*64, No. of Kernels=128, Activation=RELU, LRF=3*3, GRF=7*7, Output=22*22*128\n",
        "model.add(Convolution2D(128, 3, 3, activation='relu'))\n",
        "\n",
        "# Layer 4 : Type=Max Pooling, Input=22*22*128, Kernel Size=2*2, LRF=2*2, GRF=8*8, Output=11*11*128\n",
        "model.add(MaxPooling2D(pool_size=(2, 2)))\n",
        "\n",
        "# Layer 5 : Type=Convolution, Input=11*11*128, Kernel Size=3*3*128, No. of Kernels=256, Activation=RELU, LRF=3*3, GRF=12*12, Output=9*9*256\n",
        "model.add(Convolution2D(256, 3, 3, activation='relu'))\n",
        "\n",
        "# Layer 6 : Type=Convolution, Input=9*9*256, Kernel Size=3*3*256, No. of Kernels=512, Activation=RELU, LRF=3*3, GRF=16*16, Output=7*7*512\n",
        "model.add(Convolution2D(512, 3, 3, activation='relu'))\n",
        "\n",
        "# Layer 7 : Type=Max Pooling, Input=7*7*512, Kernel Size=2*2, LRF=2*2, GRF=18*18, Output=3*3*512\n",
        "model.add(MaxPooling2D(pool_size=(2, 2)))\n",
        "\n",
        "# Layer 9 : Type=Convolution, Input=3*3*512, Kernel Size=3*3*512, No. of Kernels=10, Activation=RELU, LRF=3*3, GRF=26*26, Output=1*1*10\n",
        "model.add(Convolution2D(10, 3, 3, activation='relu'))\n",
        "\n",
        "# Layer 10 : Flatten Layer : 1*1*10 to list of length 10\n",
        "model.add(Flatten())\n",
        "\n",
        "# Output : Softmax Function \n",
        "model.add(Activation('softmax'))\n",
        "\n",
        "# Display model summary\n",
        "model.summary()"
      ],
      "execution_count": 16,
      "outputs": [
        {
          "output_type": "stream",
          "text": [
            "_________________________________________________________________\n",
            "Layer (type)                 Output Shape              Param #   \n",
            "=================================================================\n",
            "conv2d_25 (Conv2D)           (None, 26, 26, 32)        320       \n",
            "_________________________________________________________________\n",
            "conv2d_26 (Conv2D)           (None, 24, 24, 64)        18496     \n",
            "_________________________________________________________________\n",
            "conv2d_27 (Conv2D)           (None, 22, 22, 128)       73856     \n",
            "_________________________________________________________________\n",
            "max_pooling2d_5 (MaxPooling2 (None, 11, 11, 128)       0         \n",
            "_________________________________________________________________\n",
            "conv2d_28 (Conv2D)           (None, 9, 9, 256)         295168    \n",
            "_________________________________________________________________\n",
            "conv2d_29 (Conv2D)           (None, 7, 7, 512)         1180160   \n",
            "_________________________________________________________________\n",
            "max_pooling2d_6 (MaxPooling2 (None, 3, 3, 512)         0         \n",
            "_________________________________________________________________\n",
            "conv2d_30 (Conv2D)           (None, 1, 1, 10)          46090     \n",
            "_________________________________________________________________\n",
            "flatten_4 (Flatten)          (None, 10)                0         \n",
            "_________________________________________________________________\n",
            "activation_4 (Activation)    (None, 10)                0         \n",
            "=================================================================\n",
            "Total params: 1,614,090\n",
            "Trainable params: 1,614,090\n",
            "Non-trainable params: 0\n",
            "_________________________________________________________________\n"
          ],
          "name": "stdout"
        },
        {
          "output_type": "stream",
          "text": [
            "/usr/local/lib/python3.6/dist-packages/ipykernel_launcher.py:9: UserWarning: Update your `Conv2D` call to the Keras 2 API: `Conv2D(32, (3, 3), activation=\"relu\", input_shape=(28, 28, 1...)`\n",
            "  if __name__ == '__main__':\n",
            "/usr/local/lib/python3.6/dist-packages/ipykernel_launcher.py:12: UserWarning: Update your `Conv2D` call to the Keras 2 API: `Conv2D(64, (3, 3), activation=\"relu\")`\n",
            "  if sys.path[0] == '':\n",
            "/usr/local/lib/python3.6/dist-packages/ipykernel_launcher.py:15: UserWarning: Update your `Conv2D` call to the Keras 2 API: `Conv2D(128, (3, 3), activation=\"relu\")`\n",
            "  from ipykernel import kernelapp as app\n",
            "/usr/local/lib/python3.6/dist-packages/ipykernel_launcher.py:21: UserWarning: Update your `Conv2D` call to the Keras 2 API: `Conv2D(256, (3, 3), activation=\"relu\")`\n",
            "/usr/local/lib/python3.6/dist-packages/ipykernel_launcher.py:24: UserWarning: Update your `Conv2D` call to the Keras 2 API: `Conv2D(512, (3, 3), activation=\"relu\")`\n",
            "/usr/local/lib/python3.6/dist-packages/ipykernel_launcher.py:30: UserWarning: Update your `Conv2D` call to the Keras 2 API: `Conv2D(10, (3, 3), activation=\"relu\")`\n"
          ],
          "name": "stderr"
        }
      ]
    },
    {
      "cell_type": "code",
      "metadata": {
        "id": "35tPe5mqeUL9",
        "colab_type": "code",
        "colab": {
          "base_uri": "https://localhost:8080/",
          "height": 416
        },
        "outputId": "3f4b3f17-863d-45e7-e800-928ddcdc3467"
      },
      "source": [
        "# Compiling the model\n",
        "\n",
        "# Loss function used is categorical cross entropy\n",
        "# Optimizer used is adam\n",
        "# Evaluation metric used is accuracy\n",
        "\n",
        "model.compile(loss='categorical_crossentropy',\n",
        "             optimizer='adam',\n",
        "             metrics=['accuracy'])\n",
        "\n",
        "# Training process\n",
        "# Fitting the model on training data\n",
        "\n",
        "# Batch Size: No of input images seen by the model at a given instance\n",
        "# Nb Epoch : Number of iterations over the training data\n",
        "# Verbose : The output display formatting of training process\n",
        "\n",
        "model.fit(X_train, Y_train, batch_size=2048, nb_epoch=10, verbose=1)"
      ],
      "execution_count": 17,
      "outputs": [
        {
          "output_type": "stream",
          "text": [
            "/usr/local/lib/python3.6/dist-packages/ipykernel_launcher.py:13: UserWarning: The `nb_epoch` argument in `fit` has been renamed `epochs`.\n",
            "  del sys.path[0]\n"
          ],
          "name": "stderr"
        },
        {
          "output_type": "stream",
          "text": [
            "Epoch 1/10\n",
            "60000/60000 [==============================] - 20s 338us/step - loss: 1.6080 - acc: 0.4553\n",
            "Epoch 2/10\n",
            "60000/60000 [==============================] - 11s 188us/step - loss: 1.2649 - acc: 0.5690\n",
            "Epoch 3/10\n",
            "60000/60000 [==============================] - 11s 187us/step - loss: 1.2245 - acc: 0.5774\n",
            "Epoch 4/10\n",
            "60000/60000 [==============================] - 11s 182us/step - loss: 1.2105 - acc: 0.5802\n",
            "Epoch 5/10\n",
            "60000/60000 [==============================] - 11s 180us/step - loss: 1.2013 - acc: 0.5821\n",
            "Epoch 6/10\n",
            "60000/60000 [==============================] - 11s 179us/step - loss: 1.1978 - acc: 0.5830\n",
            "Epoch 7/10\n",
            "60000/60000 [==============================] - 11s 179us/step - loss: 1.1936 - acc: 0.5839\n",
            "Epoch 8/10\n",
            "60000/60000 [==============================] - 11s 179us/step - loss: 1.1940 - acc: 0.5836\n",
            "Epoch 9/10\n",
            "60000/60000 [==============================] - 11s 179us/step - loss: 1.1893 - acc: 0.5850\n",
            "Epoch 10/10\n",
            "60000/60000 [==============================] - 11s 180us/step - loss: 1.1861 - acc: 0.5855\n"
          ],
          "name": "stdout"
        },
        {
          "output_type": "execute_result",
          "data": {
            "text/plain": [
              "<keras.callbacks.History at 0x7f8c24c56828>"
            ]
          },
          "metadata": {
            "tags": []
          },
          "execution_count": 17
        }
      ]
    },
    {
      "cell_type": "markdown",
      "metadata": {
        "id": "qMcbDP_V7vTL",
        "colab_type": "text"
      },
      "source": [
        "# 3. Model with two max pooling layers and lesser parameters"
      ]
    },
    {
      "cell_type": "code",
      "metadata": {
        "id": "5NMKrMjAiQNt",
        "colab_type": "code",
        "colab": {
          "base_uri": "https://localhost:8080/",
          "height": 416
        },
        "outputId": "4d0228a6-01a3-420d-c5d0-566052aa8071"
      },
      "source": [
        "# This cell defines our model\n",
        "\n",
        "# Importing building blocks for NN from keras.layers\n",
        "from keras.layers import Activation, MaxPooling2D\n",
        "\n",
        "# Defining model using Keras sequential API\n",
        "model = Sequential() \n",
        "\n",
        "# LRF = Local Receptive Field, GRF = Global Receptive Field\n",
        "\n",
        "# Layer 1 : Type=Convolution, Input=28*28*1, Kernel Size=3*3*1, No. of Kernels=8, Activation=RELU, LRF=3*3, GRF=3*3, Output=26*26*8\n",
        "model.add(Convolution2D(8, (3, 3), activation='relu', input_shape=(28,28,1),name='conv_1'))\n",
        "\n",
        "# Layer 2 : Type=Max Pooling, Input=26*26*8, Kernel Size=2*2, LRF=2*2, GRF=4*4, Output=13*13*8\n",
        "model.add(MaxPooling2D((2, 2),name='pool_1'))\n",
        "\n",
        "# Layer 3 : Type=Convolution, Input=13*13*8, Kernel Size=3*3*8, No. of Kernels=32, Activation=RELU, LRF=3*3, GRF=8*8, Output=11*11*32\n",
        "model.add(Convolution2D(32, (3, 3), activation='relu',name='conv_2'))\n",
        "\n",
        "# Layer 4 : Type=Max Pooling, Input=11*11*32, Kernel Size=2*2, LRF=2*2, GRF=10*10, Output=5*5*32\n",
        "model.add(MaxPooling2D((2, 2),name='pool_2'))\n",
        "\n",
        "# Layer 5 : Type=Convolution, Input=5*5*32, Kernel Size=3*3*32, No. of Kernels=40, Activation=RELU, LRF=3*3, GRF=18*18, Output=3*3*40\n",
        "model.add(Convolution2D(40, (3, 3), activation='relu',name='conv_3'))\n",
        "\n",
        "# Layer 6 : Type=Convolution, Input=3*3*40, Kernel Size=3*3*40, No. of Kernels=10, Activation=RELU, LRF=3*3, GRF=26*26, Output=1*1*10\n",
        "model.add(Convolution2D(10, (3, 3), activation='relu',name='conv_4'))\n",
        "\n",
        "# Layer 7 : Flatten Layer : 1*1*10 to list of length 10\n",
        "model.add(Flatten(name='flatten'))\n",
        "\n",
        "# Output : Softmax Function\n",
        "model.add(Activation('softmax',name='activation'))\n",
        "\n",
        "# Display model summary\n",
        "model.summary()"
      ],
      "execution_count": 32,
      "outputs": [
        {
          "output_type": "stream",
          "text": [
            "_________________________________________________________________\n",
            "Layer (type)                 Output Shape              Param #   \n",
            "=================================================================\n",
            "conv_1 (Conv2D)              (None, 26, 26, 8)         80        \n",
            "_________________________________________________________________\n",
            "pool_1 (MaxPooling2D)        (None, 13, 13, 8)         0         \n",
            "_________________________________________________________________\n",
            "conv_2 (Conv2D)              (None, 11, 11, 32)        2336      \n",
            "_________________________________________________________________\n",
            "pool_2 (MaxPooling2D)        (None, 5, 5, 32)          0         \n",
            "_________________________________________________________________\n",
            "conv_3 (Conv2D)              (None, 3, 3, 40)          11560     \n",
            "_________________________________________________________________\n",
            "conv_4 (Conv2D)              (None, 1, 1, 10)          3610      \n",
            "_________________________________________________________________\n",
            "flatten (Flatten)            (None, 10)                0         \n",
            "_________________________________________________________________\n",
            "activation (Activation)      (None, 10)                0         \n",
            "=================================================================\n",
            "Total params: 17,586\n",
            "Trainable params: 17,586\n",
            "Non-trainable params: 0\n",
            "_________________________________________________________________\n"
          ],
          "name": "stdout"
        }
      ]
    },
    {
      "cell_type": "code",
      "metadata": {
        "id": "iuM4QL-d7Ge0",
        "colab_type": "code",
        "colab": {
          "base_uri": "https://localhost:8080/",
          "height": 416
        },
        "outputId": "737a60d4-8e44-4c48-9685-f3e9d249d3f9"
      },
      "source": [
        "# Compiling the model\n",
        "\n",
        "# Loss function used is categorical cross entropy\n",
        "# Optimizer used is adam\n",
        "# Evaluation metric used is accuracy\n",
        "\n",
        "model.compile(loss='categorical_crossentropy',\n",
        "             optimizer='adam',\n",
        "             metrics=['accuracy'])\n",
        "\n",
        "# Training process\n",
        "# Fitting the model on training data\n",
        "\n",
        "# Batch Size: No of input images seen by the model at a given instance\n",
        "# Nb Epoch : Number of iterations over the training data\n",
        "# Verbose : The output display formatting of training process\n",
        "\n",
        "model.fit(X_train, Y_train, batch_size=2048, nb_epoch=10, verbose=1)"
      ],
      "execution_count": 33,
      "outputs": [
        {
          "output_type": "stream",
          "text": [
            "/usr/local/lib/python3.6/dist-packages/ipykernel_launcher.py:13: UserWarning: The `nb_epoch` argument in `fit` has been renamed `epochs`.\n",
            "  del sys.path[0]\n"
          ],
          "name": "stderr"
        },
        {
          "output_type": "stream",
          "text": [
            "Epoch 1/10\n",
            "60000/60000 [==============================] - 2s 27us/step - loss: 1.9462 - acc: 0.4464\n",
            "Epoch 2/10\n",
            "60000/60000 [==============================] - 1s 9us/step - loss: 1.0591 - acc: 0.6843\n",
            "Epoch 3/10\n",
            "60000/60000 [==============================] - 1s 9us/step - loss: 0.8088 - acc: 0.7251\n",
            "Epoch 4/10\n",
            "60000/60000 [==============================] - 1s 9us/step - loss: 0.7260 - acc: 0.7431\n",
            "Epoch 5/10\n",
            "60000/60000 [==============================] - 1s 9us/step - loss: 0.6761 - acc: 0.7542\n",
            "Epoch 6/10\n",
            "60000/60000 [==============================] - 1s 9us/step - loss: 0.6390 - acc: 0.7615\n",
            "Epoch 7/10\n",
            "60000/60000 [==============================] - 1s 9us/step - loss: 0.6129 - acc: 0.7671\n",
            "Epoch 8/10\n",
            "60000/60000 [==============================] - 1s 9us/step - loss: 0.5945 - acc: 0.7708\n",
            "Epoch 9/10\n",
            "60000/60000 [==============================] - 1s 9us/step - loss: 0.5823 - acc: 0.7727\n",
            "Epoch 10/10\n",
            "60000/60000 [==============================] - 1s 9us/step - loss: 0.5723 - acc: 0.7748\n"
          ],
          "name": "stdout"
        },
        {
          "output_type": "execute_result",
          "data": {
            "text/plain": [
              "<keras.callbacks.History at 0x7f8c24c47dd8>"
            ]
          },
          "metadata": {
            "tags": []
          },
          "execution_count": 33
        }
      ]
    },
    {
      "cell_type": "code",
      "metadata": {
        "id": "Y9f8BUF17KpQ",
        "colab_type": "code",
        "colab": {}
      },
      "source": [
        ""
      ],
      "execution_count": 0,
      "outputs": []
    }
  ]
}