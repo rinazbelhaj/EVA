{
  "nbformat": 4,
  "nbformat_minor": 0,
  "metadata": {
    "colab": {
      "name": "Assignment 4 - Second.ipynb",
      "version": "0.3.2",
      "provenance": [],
      "collapsed_sections": [],
      "include_colab_link": true
    },
    "kernelspec": {
      "name": "python3",
      "display_name": "Python 3"
    },
    "accelerator": "GPU"
  },
  "cells": [
    {
      "cell_type": "markdown",
      "metadata": {
        "id": "view-in-github",
        "colab_type": "text"
      },
      "source": [
        "<a href=\"https://colab.research.google.com/github/rinazbelhaj/EVA/blob/master/Project%204/2)%20Assignment%204%20-%20Second.ipynb\" target=\"_parent\"><img src=\"https://colab.research.google.com/assets/colab-badge.svg\" alt=\"Open In Colab\"/></a>"
      ]
    },
    {
      "cell_type": "markdown",
      "metadata": {
        "id": "10m6hjDt8IOO",
        "colab_type": "text"
      },
      "source": [
        "# Second attempt on MNIST\n",
        "\n",
        "## Main Objective :\n",
        "Achieve 99.4% accuracy on MNIST data with less than 15K parameters\n",
        "\n",
        "## Previous Observations :\n",
        "\n",
        "1. The model was able to learning. We were able to reach 99.21% validation accuracy with the initial model in 10 epochs. This means our architecture was working fine.\n",
        "\n",
        "2. The model was also slightly overfitting. We need to fix that in this iteration.\n",
        "\n",
        "3. The number of parameters were too high considering that we needed to meet the objective of 99.4% accuracy in 15 K parameters.\n",
        "\n",
        "## Changes in this iteration :\n",
        "\n",
        "1. Reduce number of parameters using less number of kernels.\n",
        "\n",
        "2. Reduce number of parameters using 1x1 convolutions.\n",
        "\n",
        "3. Introduce dropouts to reduce overfitting."
      ]
    },
    {
      "cell_type": "markdown",
      "metadata": {
        "id": "aNyZv-Ec52ot",
        "colab_type": "text"
      },
      "source": [
        "# **Import Libraries and modules**"
      ]
    },
    {
      "cell_type": "code",
      "metadata": {
        "id": "3m3w1Cw49Zkt",
        "colab_type": "code",
        "outputId": "fe159ed2-cb54-4aef-b3b1-0d288bc26881",
        "colab": {
          "base_uri": "https://localhost:8080/",
          "height": 35
        }
      },
      "source": [
        "# https://keras.io/\n",
        "!pip install -q keras\n",
        "import keras"
      ],
      "execution_count": 0,
      "outputs": [
        {
          "output_type": "stream",
          "text": [
            "Using TensorFlow backend.\n"
          ],
          "name": "stderr"
        }
      ]
    },
    {
      "cell_type": "code",
      "metadata": {
        "id": "Eso6UHE080D4",
        "colab_type": "code",
        "colab": {}
      },
      "source": [
        "import numpy as np\n",
        "\n",
        "from keras.models import Sequential\n",
        "from keras.layers import Dense, Dropout, Activation, Flatten, Add\n",
        "from keras.layers import Conv2D, MaxPooling2D\n",
        "from keras.utils import np_utils\n",
        "\n",
        "from keras.datasets import mnist"
      ],
      "execution_count": 0,
      "outputs": []
    },
    {
      "cell_type": "markdown",
      "metadata": {
        "id": "zByEi95J86RD",
        "colab_type": "text"
      },
      "source": [
        "### Load pre-shuffled MNIST data into train and test sets"
      ]
    },
    {
      "cell_type": "code",
      "metadata": {
        "id": "7eRM0QWN83PV",
        "colab_type": "code",
        "outputId": "4ee16e4d-0797-43bb-a2d2-cc07d80b58c5",
        "colab": {
          "base_uri": "https://localhost:8080/",
          "height": 52
        }
      },
      "source": [
        "(X_train, y_train), (X_test, y_test) = mnist.load_data()"
      ],
      "execution_count": 0,
      "outputs": [
        {
          "output_type": "stream",
          "text": [
            "Downloading data from https://s3.amazonaws.com/img-datasets/mnist.npz\n",
            "11493376/11490434 [==============================] - 0s 0us/step\n"
          ],
          "name": "stdout"
        }
      ]
    },
    {
      "cell_type": "code",
      "metadata": {
        "id": "4a4Be72j8-ZC",
        "colab_type": "code",
        "outputId": "0b1dcd29-7e25-4688-fc48-5a3f5a588e63",
        "colab": {
          "base_uri": "https://localhost:8080/",
          "height": 304
        }
      },
      "source": [
        "print (X_train.shape)\n",
        "from matplotlib import pyplot as plt\n",
        "%matplotlib inline\n",
        "plt.imshow(X_train[0])"
      ],
      "execution_count": 0,
      "outputs": [
        {
          "output_type": "stream",
          "text": [
            "(60000, 28, 28)\n"
          ],
          "name": "stdout"
        },
        {
          "output_type": "execute_result",
          "data": {
            "text/plain": [
              "<matplotlib.image.AxesImage at 0x7fd8eb764860>"
            ]
          },
          "metadata": {
            "tags": []
          },
          "execution_count": 4
        },
        {
          "output_type": "display_data",
          "data": {
            "image/png": "[encoded data removed]",
            "text/plain": [
              "<Figure size 432x288 with 1 Axes>"
            ]
          },
          "metadata": {
            "tags": []
          }
        }
      ]
    },
    {
      "cell_type": "code",
      "metadata": {
        "id": "dkmprriw9AnZ",
        "colab_type": "code",
        "colab": {}
      },
      "source": [
        "X_train = X_train.reshape(X_train.shape[0], 28, 28,1)\n",
        "X_test = X_test.reshape(X_test.shape[0], 28, 28,1)"
      ],
      "execution_count": 0,
      "outputs": []
    },
    {
      "cell_type": "code",
      "metadata": {
        "id": "X2m4YS4E9CRh",
        "colab_type": "code",
        "colab": {}
      },
      "source": [
        "X_train = X_train.astype('float32')\n",
        "X_test = X_test.astype('float32')\n",
        "X_train /= 255\n",
        "X_test /= 255"
      ],
      "execution_count": 0,
      "outputs": []
    },
    {
      "cell_type": "code",
      "metadata": {
        "id": "0Mn0vAYD9DvB",
        "colab_type": "code",
        "outputId": "d143adfe-0fdc-4def-81a5-6a9f5581fea5",
        "colab": {
          "base_uri": "https://localhost:8080/",
          "height": 35
        }
      },
      "source": [
        "y_train[:10]"
      ],
      "execution_count": 0,
      "outputs": [
        {
          "output_type": "execute_result",
          "data": {
            "text/plain": [
              "array([5, 0, 4, 1, 9, 2, 1, 3, 1, 4], dtype=uint8)"
            ]
          },
          "metadata": {
            "tags": []
          },
          "execution_count": 7
        }
      ]
    },
    {
      "cell_type": "code",
      "metadata": {
        "id": "ZG8JiXR39FHC",
        "colab_type": "code",
        "colab": {}
      },
      "source": [
        "# Convert 1-dimensional class arrays to 10-dimensional class matrices\n",
        "Y_train = np_utils.to_categorical(y_train, 10)\n",
        "Y_test = np_utils.to_categorical(y_test, 10)"
      ],
      "execution_count": 0,
      "outputs": []
    },
    {
      "cell_type": "code",
      "metadata": {
        "id": "fYlFRvKS9HMB",
        "colab_type": "code",
        "outputId": "0cbe83e8-12f1-4f94-820a-c1d2fedf8da8",
        "colab": {
          "base_uri": "https://localhost:8080/",
          "height": 191
        }
      },
      "source": [
        "Y_train[:10]\n"
      ],
      "execution_count": 0,
      "outputs": [
        {
          "output_type": "execute_result",
          "data": {
            "text/plain": [
              "array([[0., 0., 0., 0., 0., 1., 0., 0., 0., 0.],\n",
              "       [1., 0., 0., 0., 0., 0., 0., 0., 0., 0.],\n",
              "       [0., 0., 0., 0., 1., 0., 0., 0., 0., 0.],\n",
              "       [0., 1., 0., 0., 0., 0., 0., 0., 0., 0.],\n",
              "       [0., 0., 0., 0., 0., 0., 0., 0., 0., 1.],\n",
              "       [0., 0., 1., 0., 0., 0., 0., 0., 0., 0.],\n",
              "       [0., 1., 0., 0., 0., 0., 0., 0., 0., 0.],\n",
              "       [0., 0., 0., 1., 0., 0., 0., 0., 0., 0.],\n",
              "       [0., 1., 0., 0., 0., 0., 0., 0., 0., 0.],\n",
              "       [0., 0., 0., 0., 1., 0., 0., 0., 0., 0.]], dtype=float32)"
            ]
          },
          "metadata": {
            "tags": []
          },
          "execution_count": 9
        }
      ]
    },
    {
      "cell_type": "code",
      "metadata": {
        "id": "uKOwD4oo9mq1",
        "colab_type": "code",
        "outputId": "b2606c97-b9e7-46bc-9071-b561424c477c",
        "colab": {
          "base_uri": "https://localhost:8080/",
          "height": 713
        }
      },
      "source": [
        "from keras.layers import Activation\n",
        "model = Sequential()\n",
        "\n",
        " \n",
        "model.add(Conv2D(10, (3, 3), activation='relu', input_shape=(28,28,1), name='conv_1')) # 26\n",
        "model.add(Conv2D(10, (3, 3), activation='relu', name='conv_2')) # 24\n",
        "model.add(Conv2D(10, (3, 3), activation='relu', name='conv_3')) # 22\n",
        "\n",
        "model.add(MaxPooling2D(pool_size=(2, 2), name='pool_1')) # 11\n",
        "\n",
        "model.add(Conv2D(10, (3, 3), activation='relu', name='conv_4')) # 9\n",
        "model.add(Conv2D(10, (3, 3), activation='relu', name='conv_5')) # 7\n",
        "model.add(Conv2D(32, (3, 3), activation='relu', name='conv_6')) # 5\n",
        "model.add(Dropout(0.10))\n",
        "\n",
        "model.add(Conv2D(10, (1, 1), activation='relu', name='conv_6a')) # 5\n",
        "model.add(Conv2D(10, (3, 3), activation='relu', name='conv_7')) #3\n",
        "model.add(Conv2D(10, (3, 3), name='conv_8')) # 1\n",
        "model.add(Flatten(name='flatten'))\n",
        "model.add(Activation('softmax', name='softmax'))\n",
        "\n",
        "model.summary()"
      ],
      "execution_count": 0,
      "outputs": [
        {
          "output_type": "stream",
          "text": [
            "WARNING:tensorflow:From /usr/local/lib/python3.6/dist-packages/tensorflow/python/framework/op_def_library.py:263: colocate_with (from tensorflow.python.framework.ops) is deprecated and will be removed in a future version.\n",
            "Instructions for updating:\n",
            "Colocations handled automatically by placer.\n",
            "WARNING:tensorflow:From /usr/local/lib/python3.6/dist-packages/keras/backend/tensorflow_backend.py:3445: calling dropout (from tensorflow.python.ops.nn_ops) with keep_prob is deprecated and will be removed in a future version.\n",
            "Instructions for updating:\n",
            "Please use `rate` instead of `keep_prob`. Rate should be set to `rate = 1 - keep_prob`.\n",
            "_________________________________________________________________\n",
            "Layer (type)                 Output Shape              Param #   \n",
            "=================================================================\n",
            "conv_1 (Conv2D)              (None, 26, 26, 10)        100       \n",
            "_________________________________________________________________\n",
            "conv_2 (Conv2D)              (None, 24, 24, 10)        910       \n",
            "_________________________________________________________________\n",
            "conv_3 (Conv2D)              (None, 22, 22, 10)        910       \n",
            "_________________________________________________________________\n",
            "pool_1 (MaxPooling2D)        (None, 11, 11, 10)        0         \n",
            "_________________________________________________________________\n",
            "conv_4 (Conv2D)              (None, 9, 9, 10)          910       \n",
            "_________________________________________________________________\n",
            "conv_5 (Conv2D)              (None, 7, 7, 10)          910       \n",
            "_________________________________________________________________\n",
            "conv_6 (Conv2D)              (None, 5, 5, 32)          2912      \n",
            "_________________________________________________________________\n",
            "dropout_1 (Dropout)          (None, 5, 5, 32)          0         \n",
            "_________________________________________________________________\n",
            "conv_6a (Conv2D)             (None, 5, 5, 10)          330       \n",
            "_________________________________________________________________\n",
            "conv_7 (Conv2D)              (None, 3, 3, 10)          910       \n",
            "_________________________________________________________________\n",
            "conv_8 (Conv2D)              (None, 1, 1, 10)          910       \n",
            "_________________________________________________________________\n",
            "flatten (Flatten)            (None, 10)                0         \n",
            "_________________________________________________________________\n",
            "softmax (Activation)         (None, 10)                0         \n",
            "=================================================================\n",
            "Total params: 8,802\n",
            "Trainable params: 8,802\n",
            "Non-trainable params: 0\n",
            "_________________________________________________________________\n"
          ],
          "name": "stdout"
        }
      ]
    },
    {
      "cell_type": "code",
      "metadata": {
        "id": "Zp6SuGrL9M3h",
        "colab_type": "code",
        "colab": {}
      },
      "source": [
        "model.compile(loss='categorical_crossentropy',\n",
        "             optimizer='adam',\n",
        "             metrics=['accuracy'])"
      ],
      "execution_count": 0,
      "outputs": []
    },
    {
      "cell_type": "code",
      "metadata": {
        "id": "4xWoKhPY9Of5",
        "colab_type": "code",
        "outputId": "74b7b8ca-1a8b-4ce2-e867-170c29cbd9c6",
        "colab": {
          "base_uri": "https://localhost:8080/",
          "height": 471
        }
      },
      "source": [
        "model.fit(X_train, Y_train, batch_size=32, epochs=10, validation_data=(X_test, Y_test), verbose=1)"
      ],
      "execution_count": 0,
      "outputs": [
        {
          "output_type": "stream",
          "text": [
            "WARNING:tensorflow:From /usr/local/lib/python3.6/dist-packages/tensorflow/python/ops/math_ops.py:3066: to_int32 (from tensorflow.python.ops.math_ops) is deprecated and will be removed in a future version.\n",
            "Instructions for updating:\n",
            "Use tf.cast instead.\n",
            "Train on 60000 samples, validate on 10000 samples\n",
            "Epoch 1/10\n",
            "60000/60000 [==============================] - 17s 284us/step - loss: 0.3610 - acc: 0.8836 - val_loss: 0.1314 - val_acc: 0.9589\n",
            "Epoch 2/10\n",
            "60000/60000 [==============================] - 13s 211us/step - loss: 0.1118 - acc: 0.9657 - val_loss: 0.0717 - val_acc: 0.9786\n",
            "Epoch 3/10\n",
            "60000/60000 [==============================] - 13s 222us/step - loss: 0.0823 - acc: 0.9751 - val_loss: 0.0585 - val_acc: 0.9809\n",
            "Epoch 4/10\n",
            "60000/60000 [==============================] - 13s 214us/step - loss: 0.0670 - acc: 0.9803 - val_loss: 0.0468 - val_acc: 0.9857\n",
            "Epoch 5/10\n",
            "60000/60000 [==============================] - 13s 213us/step - loss: 0.0564 - acc: 0.9827 - val_loss: 0.0436 - val_acc: 0.9860\n",
            "Epoch 6/10\n",
            "60000/60000 [==============================] - 13s 212us/step - loss: 0.0502 - acc: 0.9843 - val_loss: 0.0422 - val_acc: 0.9865\n",
            "Epoch 7/10\n",
            "60000/60000 [==============================] - 13s 213us/step - loss: 0.0482 - acc: 0.9851 - val_loss: 0.0405 - val_acc: 0.9872\n",
            "Epoch 8/10\n",
            "60000/60000 [==============================] - 13s 211us/step - loss: 0.0429 - acc: 0.9863 - val_loss: 0.0356 - val_acc: 0.9885\n",
            "Epoch 9/10\n",
            "60000/60000 [==============================] - 13s 218us/step - loss: 0.0387 - acc: 0.9880 - val_loss: 0.0539 - val_acc: 0.9847\n",
            "Epoch 10/10\n",
            "60000/60000 [==============================] - 13s 217us/step - loss: 0.0375 - acc: 0.9883 - val_loss: 0.0369 - val_acc: 0.9874\n"
          ],
          "name": "stdout"
        },
        {
          "output_type": "execute_result",
          "data": {
            "text/plain": [
              "<keras.callbacks.History at 0x7fd8e84f1588>"
            ]
          },
          "metadata": {
            "tags": []
          },
          "execution_count": 12
        }
      ]
    },
    {
      "cell_type": "code",
      "metadata": {
        "id": "AtsH-lLk-eLb",
        "colab_type": "code",
        "colab": {}
      },
      "source": [
        "score = model.evaluate(X_test, Y_test, verbose=0)"
      ],
      "execution_count": 0,
      "outputs": []
    },
    {
      "cell_type": "code",
      "metadata": {
        "id": "mkX8JMv79q9r",
        "colab_type": "code",
        "outputId": "450a5883-2cdc-4cdc-8625-15e087dbdcf1",
        "colab": {
          "base_uri": "https://localhost:8080/",
          "height": 35
        }
      },
      "source": [
        "print(score)"
      ],
      "execution_count": 0,
      "outputs": [
        {
          "output_type": "stream",
          "text": [
            "[0.036941937044018415, 0.9874]\n"
          ],
          "name": "stdout"
        }
      ]
    },
    {
      "cell_type": "code",
      "metadata": {
        "id": "OCWoJkwE9suh",
        "colab_type": "code",
        "colab": {}
      },
      "source": [
        "y_pred = model.predict(X_test)"
      ],
      "execution_count": 0,
      "outputs": []
    },
    {
      "cell_type": "code",
      "metadata": {
        "id": "Ym7iCFBm9uBs",
        "colab_type": "code",
        "outputId": "aade79b3-574e-46c1-ae20-55e97959d0de",
        "colab": {
          "base_uri": "https://localhost:8080/",
          "height": 503
        }
      },
      "source": [
        "print(y_pred[:9])\n",
        "print(y_test[:9])"
      ],
      "execution_count": 0,
      "outputs": [
        {
          "output_type": "stream",
          "text": [
            "[[6.51398423e-14 1.35010163e-08 4.96401213e-08 1.60082024e-07\n",
            "  2.81322925e-13 7.93499468e-12 6.34697442e-19 9.99999762e-01\n",
            "  1.14292376e-09 4.33294955e-09]\n",
            " [1.37873722e-05 3.71760943e-05 9.99945402e-01 4.39711386e-07\n",
            "  2.67569455e-09 5.47554059e-12 2.99614885e-06 3.24625993e-09\n",
            "  6.81839936e-08 3.43584915e-13]\n",
            " [4.42418525e-07 9.99998689e-01 2.06463397e-08 3.00268832e-09\n",
            "  1.68546933e-07 1.29755234e-11 1.50671742e-08 5.76798072e-07\n",
            "  1.28475520e-07 8.44391779e-11]\n",
            " [9.99703705e-01 3.64710540e-10 8.37152402e-06 1.06373843e-08\n",
            "  5.93689986e-10 1.84639779e-04 9.63783168e-05 6.20119422e-09\n",
            "  3.42247631e-07 6.60091973e-06]\n",
            " [1.06305156e-11 1.72044238e-07 2.77756373e-10 8.44147408e-12\n",
            "  9.99930978e-01 2.37400724e-12 3.85996879e-09 1.55461088e-10\n",
            "  7.11502750e-08 6.87730935e-05]\n",
            " [1.33357133e-07 9.99997497e-01 4.09123508e-08 1.05207267e-10\n",
            "  5.58291390e-07 3.94268629e-14 2.49637422e-09 1.72556452e-06\n",
            "  6.49283933e-08 5.04579191e-11]\n",
            " [5.11149518e-18 5.50384755e-07 2.04584882e-09 1.01740209e-12\n",
            "  9.99737680e-01 6.71095883e-13 1.61685810e-15 2.11059387e-07\n",
            "  1.90033752e-04 7.14466587e-05]\n",
            " [6.69909372e-09 8.86076723e-09 8.56242277e-09 4.90115053e-06\n",
            "  3.20432737e-04 1.96911325e-03 1.93597693e-10 1.18188197e-07\n",
            "  1.13000451e-05 9.97694075e-01]\n",
            " [1.12905924e-03 2.99696730e-08 5.83201995e-07 1.69569773e-06\n",
            "  4.46892159e-07 7.65400052e-01 1.03710681e-01 6.42299235e-12\n",
            "  1.29474118e-01 2.83311470e-04]]\n",
            "[7 2 1 0 4 1 4 9 5]\n"
          ],
          "name": "stdout"
        }
      ]
    },
    {
      "cell_type": "code",
      "metadata": {
        "id": "CT--y98_dr2T",
        "colab_type": "code",
        "colab": {}
      },
      "source": [
        "layer_dict = dict([(layer.name, layer) for layer in model.layers])"
      ],
      "execution_count": 0,
      "outputs": []
    },
    {
      "cell_type": "code",
      "metadata": {
        "id": "2GY4Upv4dsUR",
        "colab_type": "code",
        "outputId": "b23491b5-7c5b-4d6f-fa6f-3f2a1ef97239",
        "colab": {
          "base_uri": "https://localhost:8080/",
          "height": 1017
        }
      },
      "source": [
        "import numpy as np\n",
        "from matplotlib import pyplot as plt\n",
        "from keras import backend as K\n",
        "%matplotlib inline\n",
        "# util function to convert a tensor into a valid image\n",
        "def deprocess_image(x):\n",
        "    # normalize tensor: center on 0., ensure std is 0.1\n",
        "    x -= x.mean()\n",
        "    x /= (x.std() + 1e-5)\n",
        "    x *= 0.1\n",
        "\n",
        "    # clip to [0, 1]\n",
        "    x += 0.5\n",
        "    x = np.clip(x, 0, 1)\n",
        "\n",
        "    # convert to RGB array\n",
        "    x *= 255\n",
        "    #x = x.transpose((1, 2, 0))\n",
        "    x = np.clip(x, 0, 255).astype('uint8')\n",
        "    return x\n",
        "\n",
        "def vis_img_in_filter(img = np.array(X_train[2]).reshape((1, 28, 28, 1)).astype(np.float64), \n",
        "                      layer_name = 'conv_5'):\n",
        "    layer_output = layer_dict[layer_name].output\n",
        "    img_ascs = list()\n",
        "    for filter_index in range(layer_output.shape[3]):\n",
        "        # build a loss function that maximizes the activation\n",
        "        # of the nth filter of the layer considered\n",
        "        loss = K.mean(layer_output[:, :, :, filter_index])\n",
        "\n",
        "        # compute the gradient of the input picture wrt this loss\n",
        "        grads = K.gradients(loss, model.input)[0]\n",
        "\n",
        "        # normalization trick: we normalize the gradient\n",
        "        grads /= (K.sqrt(K.mean(K.square(grads))) + 1e-5)\n",
        "\n",
        "        # this function returns the loss and grads given the input picture\n",
        "        iterate = K.function([model.input], [loss, grads])\n",
        "\n",
        "        # step size for gradient ascent\n",
        "        step = 5.\n",
        "\n",
        "        img_asc = np.array(img)\n",
        "        # run gradient ascent for 20 steps\n",
        "        for i in range(20):\n",
        "            loss_value, grads_value = iterate([img_asc])\n",
        "            img_asc += grads_value * step\n",
        "\n",
        "        img_asc = img_asc[0]\n",
        "        img_ascs.append(deprocess_image(img_asc).reshape((28, 28)))\n",
        "        \n",
        "    print(\"Number of Filters : \",layer_output.shape[3])\n",
        "    if layer_output.shape[3] >= 35:\n",
        "        plot_x, plot_y = 6, 6\n",
        "    elif layer_output.shape[3] >= 23:\n",
        "        plot_x, plot_y = 4, 8\n",
        "    elif layer_output.shape[3] >= 11:\n",
        "        plot_x, plot_y = 2, 6\n",
        "    elif layer_output.shape[3] >= 5:\n",
        "        plot_x, plot_y = 2, 5\n",
        "    else:\n",
        "        plot_x, plot_y = 1, 2\n",
        "    fig, ax = plt.subplots(plot_x, plot_y, figsize = (16, 16))\n",
        "    ax[0, 0].imshow(img.reshape((28, 28)), cmap = 'gray')\n",
        "    ax[0, 0].set_title('Input image')\n",
        "    fig.suptitle('Input image and %s filters' % (layer_name,))\n",
        "    fig.tight_layout(pad = 0.0, rect = [0, 0, 0.9, 0.9])\n",
        "    for (x, y) in [(i, j) for i in range(plot_x) for j in range(plot_y)]:\n",
        "        if x == 0 and y == 0:\n",
        "            continue\n",
        "        ax[x, y].imshow(img_ascs[x * plot_y + y - 1], cmap = 'gray')\n",
        "        ax[x, y].set_title('filter %d' % (x * plot_y + y - 1))\n",
        "\n",
        "vis_img_in_filter()"
      ],
      "execution_count": 0,
      "outputs": [
        {
          "output_type": "stream",
          "text": [
            "Number of Filters :  10\n"
          ],
          "name": "stdout"
        },
        {
          "output_type": "display_data",
          "data": {
            "image/png": "[encoded data removed]",
            "text/plain": [
              "<Figure size 1152x1152 with 10 Axes>"
            ]
          },
          "metadata": {
            "tags": []
          }
        }
      ]
    },
    {
      "cell_type": "markdown",
      "metadata": {
        "id": "hT1UmRT2JcWd",
        "colab_type": "text"
      },
      "source": [
        "# Observations :\n",
        "\n",
        "1. The model is still able to learning even after we reduced the number of parameters.But we were only able to reach 98.84% validation accuracy in 10 epochs..\n",
        "\n",
        "2. The model is also not overfitting. This means adding the drop out worked.\n",
        "\n",
        "3. Using 1x1 convolutions and lesser number of filters, we were able to satisfy the constrain of less than 15 K parameters.\n",
        "\n",
        "4. This Model is learning slowly as compared to previous model. We will have to fix this in the next iteration."
      ]
    },
    {
      "cell_type": "code",
      "metadata": {
        "id": "9tvptcn8dxvp",
        "colab_type": "code",
        "colab": {}
      },
      "source": [
        ""
      ],
      "execution_count": 0,
      "outputs": []
    }
  ]
}